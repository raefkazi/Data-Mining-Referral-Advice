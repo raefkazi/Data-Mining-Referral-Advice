{
  "cells": [
    {
      "cell_type": "markdown",
      "metadata": {
        "id": "view-in-github",
        "colab_type": "text"
      },
      "source": [
        "<a href=\"https://colab.research.google.com/github/raefkazi/Referral-Advice/blob/main/DS_RA_Final.ipynb\" target=\"_parent\"><img src=\"https://colab.research.google.com/assets/colab-badge.svg\" alt=\"Open In Colab\"/></a>"
      ]
    },
    {
      "cell_type": "markdown",
      "metadata": {
        "id": "JotpQ0xpRhyc"
      },
      "source": [
        "# Final Data Preprocessing"
      ]
    },
    {
      "cell_type": "markdown",
      "metadata": {
        "id": "ufwHectxSubA"
      },
      "source": [
        "## Read data"
      ]
    },
    {
      "cell_type": "code",
      "execution_count": 2,
      "metadata": {
        "colab": {
          "base_uri": "https://localhost:8080/",
          "resources": {
            "http://localhost:8080/nbextensions/google.colab/files.js": {
              "data": "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",
              "headers": [
                [
                  "content-type",
                  "application/javascript"
                ]
              ],
              "ok": true,
              "status": 200,
              "status_text": ""
            }
          },
          "height": 73
        },
        "id": "Pa3JBT56SwEh",
        "outputId": "164ff525-fb54-4bf4-8b65-260e293752fe"
      },
      "outputs": [
        {
          "output_type": "display_data",
          "data": {
            "text/plain": [
              "<IPython.core.display.HTML object>"
            ],
            "text/html": [
              "\n",
              "     <input type=\"file\" id=\"files-2506158f-0f6d-419a-ba9a-fcca3ece39c9\" name=\"files[]\" multiple disabled\n",
              "        style=\"border:none\" />\n",
              "     <output id=\"result-2506158f-0f6d-419a-ba9a-fcca3ece39c9\">\n",
              "      Upload widget is only available when the cell has been executed in the\n",
              "      current browser session. Please rerun this cell to enable.\n",
              "      </output>\n",
              "      <script src=\"/nbextensions/google.colab/files.js\"></script> "
            ]
          },
          "metadata": {}
        },
        {
          "output_type": "stream",
          "name": "stdout",
          "text": [
            "Saving Dataset - LBP RA.xlsx to Dataset - LBP RA.xlsx\n"
          ]
        }
      ],
      "source": [
        "import pandas as pd\n",
        "import numpy as np\n",
        "\n",
        "import io\n",
        "import pandas as pd\n",
        "from google.colab import files\n",
        "\n",
        "uploaded = files.upload()"
      ]
    },
    {
      "cell_type": "code",
      "execution_count": 3,
      "metadata": {
        "id": "ZIPOe3d6S3l9"
      },
      "outputs": [],
      "source": [
        "df = pd.read_excel(io.BytesIO(uploaded.get(\"Dataset - LBP RA.xlsx\")),  sheet_name = \"Training Dataset\")\n",
        "var = pd.read_excel(io.BytesIO(uploaded.get(\"Dataset - LBP RA.xlsx\")),  sheet_name = \"Variables\")"
      ]
    },
    {
      "cell_type": "code",
      "execution_count": 4,
      "metadata": {
        "colab": {
          "base_uri": "https://localhost:8080/",
          "height": 300
        },
        "id": "D4djR0gXS6t_",
        "outputId": "ba72784d-a7bd-4d81-b4da-8335c40fab20"
      },
      "outputs": [
        {
          "output_type": "execute_result",
          "data": {
            "text/plain": [
              "   Treatment  Fever  Duration_of_pain  Sick_leave  Earlier_hospitalization  \\\n",
              "0          1    1.0              10.0           0                        1   \n",
              "1          3    1.0              10.0           0                        1   \n",
              "2          1    1.0              10.0           0                        1   \n",
              "3          5    1.0              10.0           0                        1   \n",
              "4          1    1.0              10.0           0                        1   \n",
              "\n",
              "   Workoverload  Familiy_history  Depression  Extremely_nervous  Stress  ...  \\\n",
              "0           NaN                0           0                0.0       0  ...   \n",
              "1           0.0                1           0                0.0       1  ...   \n",
              "2           NaN                0           0                6.0       1  ...   \n",
              "3           NaN                0           0                1.0       1  ...   \n",
              "4           NaN                0           0                0.0       1  ...   \n",
              "\n",
              "   Failure_symptoms  Incoordination  neck_pain_intensity  \\\n",
              "0                 1             NaN                    0   \n",
              "1                 1             1.0                    7   \n",
              "2                 1             0.0                    3   \n",
              "3                 0             NaN                    2   \n",
              "4                 1             NaN                    0   \n",
              "\n",
              "   low_back_pain_intensity  arm_left_pain_intensity  arm_right_pain_intensity  \\\n",
              "0                        8                        8                         7   \n",
              "1                        8                        7                         4   \n",
              "2                        5                        0                         2   \n",
              "3                        9                        0                         0   \n",
              "4                        7                        5                         0   \n",
              "\n",
              "  leg_left_pain_intensity  leg_right_pain_intensity  working_ability  Paidwork  \n",
              "0                       6                         6              NaN         0  \n",
              "1                       0                         0              7.0         1  \n",
              "2                       0                         3              NaN         0  \n",
              "3                       9                         5              NaN         0  \n",
              "4                       0                         0              NaN         0  \n",
              "\n",
              "[5 rows x 37 columns]"
            ],
            "text/html": [
              "\n",
              "  <div id=\"df-cf99b569-6acb-4a1b-9256-e7fece68fd3f\">\n",
              "    <div class=\"colab-df-container\">\n",
              "      <div>\n",
              "<style scoped>\n",
              "    .dataframe tbody tr th:only-of-type {\n",
              "        vertical-align: middle;\n",
              "    }\n",
              "\n",
              "    .dataframe tbody tr th {\n",
              "        vertical-align: top;\n",
              "    }\n",
              "\n",
              "    .dataframe thead th {\n",
              "        text-align: right;\n",
              "    }\n",
              "</style>\n",
              "<table border=\"1\" class=\"dataframe\">\n",
              "  <thead>\n",
              "    <tr style=\"text-align: right;\">\n",
              "      <th></th>\n",
              "      <th>Treatment</th>\n",
              "      <th>Fever</th>\n",
              "      <th>Duration_of_pain</th>\n",
              "      <th>Sick_leave</th>\n",
              "      <th>Earlier_hospitalization</th>\n",
              "      <th>Workoverload</th>\n",
              "      <th>Familiy_history</th>\n",
              "      <th>Depression</th>\n",
              "      <th>Extremely_nervous</th>\n",
              "      <th>Stress</th>\n",
              "      <th>...</th>\n",
              "      <th>Failure_symptoms</th>\n",
              "      <th>Incoordination</th>\n",
              "      <th>neck_pain_intensity</th>\n",
              "      <th>low_back_pain_intensity</th>\n",
              "      <th>arm_left_pain_intensity</th>\n",
              "      <th>arm_right_pain_intensity</th>\n",
              "      <th>leg_left_pain_intensity</th>\n",
              "      <th>leg_right_pain_intensity</th>\n",
              "      <th>working_ability</th>\n",
              "      <th>Paidwork</th>\n",
              "    </tr>\n",
              "  </thead>\n",
              "  <tbody>\n",
              "    <tr>\n",
              "      <th>0</th>\n",
              "      <td>1</td>\n",
              "      <td>1.0</td>\n",
              "      <td>10.0</td>\n",
              "      <td>0</td>\n",
              "      <td>1</td>\n",
              "      <td>NaN</td>\n",
              "      <td>0</td>\n",
              "      <td>0</td>\n",
              "      <td>0.0</td>\n",
              "      <td>0</td>\n",
              "      <td>...</td>\n",
              "      <td>1</td>\n",
              "      <td>NaN</td>\n",
              "      <td>0</td>\n",
              "      <td>8</td>\n",
              "      <td>8</td>\n",
              "      <td>7</td>\n",
              "      <td>6</td>\n",
              "      <td>6</td>\n",
              "      <td>NaN</td>\n",
              "      <td>0</td>\n",
              "    </tr>\n",
              "    <tr>\n",
              "      <th>1</th>\n",
              "      <td>3</td>\n",
              "      <td>1.0</td>\n",
              "      <td>10.0</td>\n",
              "      <td>0</td>\n",
              "      <td>1</td>\n",
              "      <td>0.0</td>\n",
              "      <td>1</td>\n",
              "      <td>0</td>\n",
              "      <td>0.0</td>\n",
              "      <td>1</td>\n",
              "      <td>...</td>\n",
              "      <td>1</td>\n",
              "      <td>1.0</td>\n",
              "      <td>7</td>\n",
              "      <td>8</td>\n",
              "      <td>7</td>\n",
              "      <td>4</td>\n",
              "      <td>0</td>\n",
              "      <td>0</td>\n",
              "      <td>7.0</td>\n",
              "      <td>1</td>\n",
              "    </tr>\n",
              "    <tr>\n",
              "      <th>2</th>\n",
              "      <td>1</td>\n",
              "      <td>1.0</td>\n",
              "      <td>10.0</td>\n",
              "      <td>0</td>\n",
              "      <td>1</td>\n",
              "      <td>NaN</td>\n",
              "      <td>0</td>\n",
              "      <td>0</td>\n",
              "      <td>6.0</td>\n",
              "      <td>1</td>\n",
              "      <td>...</td>\n",
              "      <td>1</td>\n",
              "      <td>0.0</td>\n",
              "      <td>3</td>\n",
              "      <td>5</td>\n",
              "      <td>0</td>\n",
              "      <td>2</td>\n",
              "      <td>0</td>\n",
              "      <td>3</td>\n",
              "      <td>NaN</td>\n",
              "      <td>0</td>\n",
              "    </tr>\n",
              "    <tr>\n",
              "      <th>3</th>\n",
              "      <td>5</td>\n",
              "      <td>1.0</td>\n",
              "      <td>10.0</td>\n",
              "      <td>0</td>\n",
              "      <td>1</td>\n",
              "      <td>NaN</td>\n",
              "      <td>0</td>\n",
              "      <td>0</td>\n",
              "      <td>1.0</td>\n",
              "      <td>1</td>\n",
              "      <td>...</td>\n",
              "      <td>0</td>\n",
              "      <td>NaN</td>\n",
              "      <td>2</td>\n",
              "      <td>9</td>\n",
              "      <td>0</td>\n",
              "      <td>0</td>\n",
              "      <td>9</td>\n",
              "      <td>5</td>\n",
              "      <td>NaN</td>\n",
              "      <td>0</td>\n",
              "    </tr>\n",
              "    <tr>\n",
              "      <th>4</th>\n",
              "      <td>1</td>\n",
              "      <td>1.0</td>\n",
              "      <td>10.0</td>\n",
              "      <td>0</td>\n",
              "      <td>1</td>\n",
              "      <td>NaN</td>\n",
              "      <td>0</td>\n",
              "      <td>0</td>\n",
              "      <td>0.0</td>\n",
              "      <td>1</td>\n",
              "      <td>...</td>\n",
              "      <td>1</td>\n",
              "      <td>NaN</td>\n",
              "      <td>0</td>\n",
              "      <td>7</td>\n",
              "      <td>5</td>\n",
              "      <td>0</td>\n",
              "      <td>0</td>\n",
              "      <td>0</td>\n",
              "      <td>NaN</td>\n",
              "      <td>0</td>\n",
              "    </tr>\n",
              "  </tbody>\n",
              "</table>\n",
              "<p>5 rows × 37 columns</p>\n",
              "</div>\n",
              "      <button class=\"colab-df-convert\" onclick=\"convertToInteractive('df-cf99b569-6acb-4a1b-9256-e7fece68fd3f')\"\n",
              "              title=\"Convert this dataframe to an interactive table.\"\n",
              "              style=\"display:none;\">\n",
              "        \n",
              "  <svg xmlns=\"http://www.w3.org/2000/svg\" height=\"24px\"viewBox=\"0 0 24 24\"\n",
              "       width=\"24px\">\n",
              "    <path d=\"M0 0h24v24H0V0z\" fill=\"none\"/>\n",
              "    <path d=\"M18.56 5.44l.94 2.06.94-2.06 2.06-.94-2.06-.94-.94-2.06-.94 2.06-2.06.94zm-11 1L8.5 8.5l.94-2.06 2.06-.94-2.06-.94L8.5 2.5l-.94 2.06-2.06.94zm10 10l.94 2.06.94-2.06 2.06-.94-2.06-.94-.94-2.06-.94 2.06-2.06.94z\"/><path d=\"M17.41 7.96l-1.37-1.37c-.4-.4-.92-.59-1.43-.59-.52 0-1.04.2-1.43.59L10.3 9.45l-7.72 7.72c-.78.78-.78 2.05 0 2.83L4 21.41c.39.39.9.59 1.41.59.51 0 1.02-.2 1.41-.59l7.78-7.78 2.81-2.81c.8-.78.8-2.07 0-2.86zM5.41 20L4 18.59l7.72-7.72 1.47 1.35L5.41 20z\"/>\n",
              "  </svg>\n",
              "      </button>\n",
              "      \n",
              "  <style>\n",
              "    .colab-df-container {\n",
              "      display:flex;\n",
              "      flex-wrap:wrap;\n",
              "      gap: 12px;\n",
              "    }\n",
              "\n",
              "    .colab-df-convert {\n",
              "      background-color: #E8F0FE;\n",
              "      border: none;\n",
              "      border-radius: 50%;\n",
              "      cursor: pointer;\n",
              "      display: none;\n",
              "      fill: #1967D2;\n",
              "      height: 32px;\n",
              "      padding: 0 0 0 0;\n",
              "      width: 32px;\n",
              "    }\n",
              "\n",
              "    .colab-df-convert:hover {\n",
              "      background-color: #E2EBFA;\n",
              "      box-shadow: 0px 1px 2px rgba(60, 64, 67, 0.3), 0px 1px 3px 1px rgba(60, 64, 67, 0.15);\n",
              "      fill: #174EA6;\n",
              "    }\n",
              "\n",
              "    [theme=dark] .colab-df-convert {\n",
              "      background-color: #3B4455;\n",
              "      fill: #D2E3FC;\n",
              "    }\n",
              "\n",
              "    [theme=dark] .colab-df-convert:hover {\n",
              "      background-color: #434B5C;\n",
              "      box-shadow: 0px 1px 3px 1px rgba(0, 0, 0, 0.15);\n",
              "      filter: drop-shadow(0px 1px 2px rgba(0, 0, 0, 0.3));\n",
              "      fill: #FFFFFF;\n",
              "    }\n",
              "  </style>\n",
              "\n",
              "      <script>\n",
              "        const buttonEl =\n",
              "          document.querySelector('#df-cf99b569-6acb-4a1b-9256-e7fece68fd3f button.colab-df-convert');\n",
              "        buttonEl.style.display =\n",
              "          google.colab.kernel.accessAllowed ? 'block' : 'none';\n",
              "\n",
              "        async function convertToInteractive(key) {\n",
              "          const element = document.querySelector('#df-cf99b569-6acb-4a1b-9256-e7fece68fd3f');\n",
              "          const dataTable =\n",
              "            await google.colab.kernel.invokeFunction('convertToInteractive',\n",
              "                                                     [key], {});\n",
              "          if (!dataTable) return;\n",
              "\n",
              "          const docLinkHtml = 'Like what you see? Visit the ' +\n",
              "            '<a target=\"_blank\" href=https://colab.research.google.com/notebooks/data_table.ipynb>data table notebook</a>'\n",
              "            + ' to learn more about interactive tables.';\n",
              "          element.innerHTML = '';\n",
              "          dataTable['output_type'] = 'display_data';\n",
              "          await google.colab.output.renderOutput(dataTable, element);\n",
              "          const docLink = document.createElement('div');\n",
              "          docLink.innerHTML = docLinkHtml;\n",
              "          element.appendChild(docLink);\n",
              "        }\n",
              "      </script>\n",
              "    </div>\n",
              "  </div>\n",
              "  "
            ]
          },
          "metadata": {},
          "execution_count": 4
        }
      ],
      "source": [
        "df.head()"
      ]
    },
    {
      "cell_type": "code",
      "execution_count": 5,
      "metadata": {
        "colab": {
          "base_uri": "https://localhost:8080/"
        },
        "id": "loNE-JhTdSON",
        "outputId": "e103102f-1069-4038-ca26-ff3226da9e82"
      },
      "outputs": [
        {
          "output_type": "execute_result",
          "data": {
            "text/plain": [
              "Workoverload                         29.689521\n",
              "working_ability                      32.600259\n",
              "Trauma                               56.015524\n",
              "Relationship_with_colleagues         63.324709\n",
              "Incoordination                       85.122898\n",
              "Irrational_thoughts_work             88.163001\n",
              "Loss_muscle_strength                 94.695990\n",
              "Irrational_thoughts_risk_lasting     95.407503\n",
              "Coping_strategy                      95.472186\n",
              "Kinesiophobia_pain_stop              95.601552\n",
              "Extremely_nervous                    96.636481\n",
              "Kinesiophobia_physical_exercise      96.701164\n",
              "Weightloss_per_year                  97.606727\n",
              "Fever                                97.800776\n",
              "Duration_of_pain                     97.994825\n",
              "Uses_corticosteroids                 99.159120\n",
              "Serious_disease                      99.223803\n",
              "arm_left_pain_intensity             100.000000\n",
              "arm_right_pain_intensity            100.000000\n",
              "leg_left_pain_intensity             100.000000\n",
              "neck_pain_intensity                 100.000000\n",
              "leg_right_pain_intensity            100.000000\n",
              "Failure_symptoms                    100.000000\n",
              "low_back_pain_intensity             100.000000\n",
              "Treatment                           100.000000\n",
              "Decreased_mobility                  100.000000\n",
              "Continuous_pain                     100.000000\n",
              "Neurogenic_signals                  100.000000\n",
              "Uses_analgesics                     100.000000\n",
              "Age                                 100.000000\n",
              "Stress                              100.000000\n",
              "Depression                          100.000000\n",
              "Familiy_history                     100.000000\n",
              "Earlier_hospitalization             100.000000\n",
              "Sick_leave                          100.000000\n",
              "Nocturnal_pain                      100.000000\n",
              "Paidwork                            100.000000\n",
              "dtype: float64"
            ]
          },
          "metadata": {},
          "execution_count": 5
        }
      ],
      "source": [
        "(df.count()/1546*100).sort_values()"
      ]
    },
    {
      "cell_type": "markdown",
      "metadata": {
        "id": "Cr2e3_HARqai"
      },
      "source": [
        "## Dropping columns with more than 15% missing values"
      ]
    },
    {
      "cell_type": "code",
      "execution_count": 6,
      "metadata": {
        "colab": {
          "base_uri": "https://localhost:8080/"
        },
        "id": "bY5XbO5DUvLW",
        "outputId": "23d0463b-cca2-4963-9528-b23c39067a8d"
      },
      "outputs": [
        {
          "output_type": "stream",
          "name": "stderr",
          "text": [
            "/usr/local/lib/python3.7/dist-packages/ipykernel_launcher.py:1: FutureWarning: In a future version of pandas all arguments of DataFrame.drop except for the argument 'labels' will be keyword-only\n",
            "  \"\"\"Entry point for launching an IPython kernel.\n",
            "/usr/local/lib/python3.7/dist-packages/ipykernel_launcher.py:2: FutureWarning: In a future version of pandas all arguments of DataFrame.drop except for the argument 'labels' will be keyword-only\n",
            "  \n",
            "/usr/local/lib/python3.7/dist-packages/ipykernel_launcher.py:3: FutureWarning: In a future version of pandas all arguments of DataFrame.drop except for the argument 'labels' will be keyword-only\n",
            "  This is separate from the ipykernel package so we can avoid doing imports until\n",
            "/usr/local/lib/python3.7/dist-packages/ipykernel_launcher.py:4: FutureWarning: In a future version of pandas all arguments of DataFrame.drop except for the argument 'labels' will be keyword-only\n",
            "  after removing the cwd from sys.path.\n",
            "/usr/local/lib/python3.7/dist-packages/ipykernel_launcher.py:5: FutureWarning: In a future version of pandas all arguments of DataFrame.drop except for the argument 'labels' will be keyword-only\n",
            "  \"\"\"\n",
            "/usr/local/lib/python3.7/dist-packages/ipykernel_launcher.py:6: FutureWarning: In a future version of pandas all arguments of DataFrame.drop except for the argument 'labels' will be keyword-only\n",
            "  \n"
          ]
        }
      ],
      "source": [
        "df_new = df.drop(\"Irrational_thoughts_work\",1)\n",
        "df_new = df_new.drop(\"Incoordination\",1)\n",
        "df_new = df_new.drop(\"Relationship_with_colleagues\",1)\n",
        "df_new = df_new.drop(\"Trauma\",1)\n",
        "df_new = df_new.drop(\"working_ability\",1)\n",
        "df_new = df_new.drop(\"Workoverload\",1)"
      ]
    },
    {
      "cell_type": "markdown",
      "metadata": {
        "id": "oDXg5Lwejc4s"
      },
      "source": [
        "##Visualize missing values"
      ]
    },
    {
      "cell_type": "code",
      "execution_count": 7,
      "metadata": {
        "colab": {
          "base_uri": "https://localhost:8080/",
          "height": 582
        },
        "id": "AuaC3-0gUv-C",
        "outputId": "3d9fa47f-7a5b-4ec9-ab8c-f586981d74cb"
      },
      "outputs": [
        {
          "output_type": "execute_result",
          "data": {
            "text/plain": [
              "                            Features     counts\n",
              "0                       Workoverload  29.689521\n",
              "1                    working_ability  32.600259\n",
              "2                             Trauma  56.015524\n",
              "3       Relationship_with_colleagues  63.324709\n",
              "4                     Incoordination  85.122898\n",
              "5           Irrational_thoughts_work  88.163001\n",
              "6               Loss_muscle_strength  94.695990\n",
              "7   Irrational_thoughts_risk_lasting  95.407503\n",
              "8                    Coping_strategy  95.472186\n",
              "9            Kinesiophobia_pain_stop  95.601552\n",
              "10                 Extremely_nervous  96.636481\n",
              "11   Kinesiophobia_physical_exercise  96.701164\n",
              "12               Weightloss_per_year  97.606727\n",
              "13                             Fever  97.800776\n",
              "14                  Duration_of_pain  97.994825\n",
              "15              Uses_corticosteroids  99.159120\n",
              "16                   Serious_disease  99.223803"
            ],
            "text/html": [
              "\n",
              "  <div id=\"df-989b296c-08fa-4dc5-991a-54a410231d49\">\n",
              "    <div class=\"colab-df-container\">\n",
              "      <div>\n",
              "<style scoped>\n",
              "    .dataframe tbody tr th:only-of-type {\n",
              "        vertical-align: middle;\n",
              "    }\n",
              "\n",
              "    .dataframe tbody tr th {\n",
              "        vertical-align: top;\n",
              "    }\n",
              "\n",
              "    .dataframe thead th {\n",
              "        text-align: right;\n",
              "    }\n",
              "</style>\n",
              "<table border=\"1\" class=\"dataframe\">\n",
              "  <thead>\n",
              "    <tr style=\"text-align: right;\">\n",
              "      <th></th>\n",
              "      <th>Features</th>\n",
              "      <th>counts</th>\n",
              "    </tr>\n",
              "  </thead>\n",
              "  <tbody>\n",
              "    <tr>\n",
              "      <th>0</th>\n",
              "      <td>Workoverload</td>\n",
              "      <td>29.689521</td>\n",
              "    </tr>\n",
              "    <tr>\n",
              "      <th>1</th>\n",
              "      <td>working_ability</td>\n",
              "      <td>32.600259</td>\n",
              "    </tr>\n",
              "    <tr>\n",
              "      <th>2</th>\n",
              "      <td>Trauma</td>\n",
              "      <td>56.015524</td>\n",
              "    </tr>\n",
              "    <tr>\n",
              "      <th>3</th>\n",
              "      <td>Relationship_with_colleagues</td>\n",
              "      <td>63.324709</td>\n",
              "    </tr>\n",
              "    <tr>\n",
              "      <th>4</th>\n",
              "      <td>Incoordination</td>\n",
              "      <td>85.122898</td>\n",
              "    </tr>\n",
              "    <tr>\n",
              "      <th>5</th>\n",
              "      <td>Irrational_thoughts_work</td>\n",
              "      <td>88.163001</td>\n",
              "    </tr>\n",
              "    <tr>\n",
              "      <th>6</th>\n",
              "      <td>Loss_muscle_strength</td>\n",
              "      <td>94.695990</td>\n",
              "    </tr>\n",
              "    <tr>\n",
              "      <th>7</th>\n",
              "      <td>Irrational_thoughts_risk_lasting</td>\n",
              "      <td>95.407503</td>\n",
              "    </tr>\n",
              "    <tr>\n",
              "      <th>8</th>\n",
              "      <td>Coping_strategy</td>\n",
              "      <td>95.472186</td>\n",
              "    </tr>\n",
              "    <tr>\n",
              "      <th>9</th>\n",
              "      <td>Kinesiophobia_pain_stop</td>\n",
              "      <td>95.601552</td>\n",
              "    </tr>\n",
              "    <tr>\n",
              "      <th>10</th>\n",
              "      <td>Extremely_nervous</td>\n",
              "      <td>96.636481</td>\n",
              "    </tr>\n",
              "    <tr>\n",
              "      <th>11</th>\n",
              "      <td>Kinesiophobia_physical_exercise</td>\n",
              "      <td>96.701164</td>\n",
              "    </tr>\n",
              "    <tr>\n",
              "      <th>12</th>\n",
              "      <td>Weightloss_per_year</td>\n",
              "      <td>97.606727</td>\n",
              "    </tr>\n",
              "    <tr>\n",
              "      <th>13</th>\n",
              "      <td>Fever</td>\n",
              "      <td>97.800776</td>\n",
              "    </tr>\n",
              "    <tr>\n",
              "      <th>14</th>\n",
              "      <td>Duration_of_pain</td>\n",
              "      <td>97.994825</td>\n",
              "    </tr>\n",
              "    <tr>\n",
              "      <th>15</th>\n",
              "      <td>Uses_corticosteroids</td>\n",
              "      <td>99.159120</td>\n",
              "    </tr>\n",
              "    <tr>\n",
              "      <th>16</th>\n",
              "      <td>Serious_disease</td>\n",
              "      <td>99.223803</td>\n",
              "    </tr>\n",
              "  </tbody>\n",
              "</table>\n",
              "</div>\n",
              "      <button class=\"colab-df-convert\" onclick=\"convertToInteractive('df-989b296c-08fa-4dc5-991a-54a410231d49')\"\n",
              "              title=\"Convert this dataframe to an interactive table.\"\n",
              "              style=\"display:none;\">\n",
              "        \n",
              "  <svg xmlns=\"http://www.w3.org/2000/svg\" height=\"24px\"viewBox=\"0 0 24 24\"\n",
              "       width=\"24px\">\n",
              "    <path d=\"M0 0h24v24H0V0z\" fill=\"none\"/>\n",
              "    <path d=\"M18.56 5.44l.94 2.06.94-2.06 2.06-.94-2.06-.94-.94-2.06-.94 2.06-2.06.94zm-11 1L8.5 8.5l.94-2.06 2.06-.94-2.06-.94L8.5 2.5l-.94 2.06-2.06.94zm10 10l.94 2.06.94-2.06 2.06-.94-2.06-.94-.94-2.06-.94 2.06-2.06.94z\"/><path d=\"M17.41 7.96l-1.37-1.37c-.4-.4-.92-.59-1.43-.59-.52 0-1.04.2-1.43.59L10.3 9.45l-7.72 7.72c-.78.78-.78 2.05 0 2.83L4 21.41c.39.39.9.59 1.41.59.51 0 1.02-.2 1.41-.59l7.78-7.78 2.81-2.81c.8-.78.8-2.07 0-2.86zM5.41 20L4 18.59l7.72-7.72 1.47 1.35L5.41 20z\"/>\n",
              "  </svg>\n",
              "      </button>\n",
              "      \n",
              "  <style>\n",
              "    .colab-df-container {\n",
              "      display:flex;\n",
              "      flex-wrap:wrap;\n",
              "      gap: 12px;\n",
              "    }\n",
              "\n",
              "    .colab-df-convert {\n",
              "      background-color: #E8F0FE;\n",
              "      border: none;\n",
              "      border-radius: 50%;\n",
              "      cursor: pointer;\n",
              "      display: none;\n",
              "      fill: #1967D2;\n",
              "      height: 32px;\n",
              "      padding: 0 0 0 0;\n",
              "      width: 32px;\n",
              "    }\n",
              "\n",
              "    .colab-df-convert:hover {\n",
              "      background-color: #E2EBFA;\n",
              "      box-shadow: 0px 1px 2px rgba(60, 64, 67, 0.3), 0px 1px 3px 1px rgba(60, 64, 67, 0.15);\n",
              "      fill: #174EA6;\n",
              "    }\n",
              "\n",
              "    [theme=dark] .colab-df-convert {\n",
              "      background-color: #3B4455;\n",
              "      fill: #D2E3FC;\n",
              "    }\n",
              "\n",
              "    [theme=dark] .colab-df-convert:hover {\n",
              "      background-color: #434B5C;\n",
              "      box-shadow: 0px 1px 3px 1px rgba(0, 0, 0, 0.15);\n",
              "      filter: drop-shadow(0px 1px 2px rgba(0, 0, 0, 0.3));\n",
              "      fill: #FFFFFF;\n",
              "    }\n",
              "  </style>\n",
              "\n",
              "      <script>\n",
              "        const buttonEl =\n",
              "          document.querySelector('#df-989b296c-08fa-4dc5-991a-54a410231d49 button.colab-df-convert');\n",
              "        buttonEl.style.display =\n",
              "          google.colab.kernel.accessAllowed ? 'block' : 'none';\n",
              "\n",
              "        async function convertToInteractive(key) {\n",
              "          const element = document.querySelector('#df-989b296c-08fa-4dc5-991a-54a410231d49');\n",
              "          const dataTable =\n",
              "            await google.colab.kernel.invokeFunction('convertToInteractive',\n",
              "                                                     [key], {});\n",
              "          if (!dataTable) return;\n",
              "\n",
              "          const docLinkHtml = 'Like what you see? Visit the ' +\n",
              "            '<a target=\"_blank\" href=https://colab.research.google.com/notebooks/data_table.ipynb>data table notebook</a>'\n",
              "            + ' to learn more about interactive tables.';\n",
              "          element.innerHTML = '';\n",
              "          dataTable['output_type'] = 'display_data';\n",
              "          await google.colab.output.renderOutput(dataTable, element);\n",
              "          const docLink = document.createElement('div');\n",
              "          docLink.innerHTML = docLinkHtml;\n",
              "          element.appendChild(docLink);\n",
              "        }\n",
              "      </script>\n",
              "    </div>\n",
              "  </div>\n",
              "  "
            ]
          },
          "metadata": {},
          "execution_count": 7
        }
      ],
      "source": [
        "#Data Completeness percentage\n",
        "df2 = (df.count()/1546*100).sort_values().rename_axis('Features').reset_index(name='counts')\n",
        "df2.set_index('Features')\n",
        "df_filtered = df2[df2['counts'] < 100]\n",
        "df_filtered"
      ]
    },
    {
      "cell_type": "code",
      "execution_count": 8,
      "metadata": {
        "colab": {
          "base_uri": "https://localhost:8080/",
          "height": 687
        },
        "id": "58TOzwnfhj_b",
        "outputId": "cb3e251c-60d9-4ced-e040-3e1bf29c6309"
      },
      "outputs": [
        {
          "output_type": "stream",
          "name": "stderr",
          "text": [
            "/usr/local/lib/python3.7/dist-packages/ipykernel_launcher.py:2: SettingWithCopyWarning: \n",
            "A value is trying to be set on a copy of a slice from a DataFrame.\n",
            "Try using .loc[row_indexer,col_indexer] = value instead\n",
            "\n",
            "See the caveats in the documentation: https://pandas.pydata.org/pandas-docs/stable/user_guide/indexing.html#returning-a-view-versus-a-copy\n",
            "  \n"
          ]
        },
        {
          "output_type": "execute_result",
          "data": {
            "text/plain": [
              "                            Features     counts   inverted\n",
              "0                       Workoverload  29.689521  70.310479\n",
              "1                    working_ability  32.600259  67.399741\n",
              "2                             Trauma  56.015524  43.984476\n",
              "3       Relationship_with_colleagues  63.324709  36.675291\n",
              "4                     Incoordination  85.122898  14.877102\n",
              "5           Irrational_thoughts_work  88.163001  11.836999\n",
              "6               Loss_muscle_strength  94.695990   5.304010\n",
              "7   Irrational_thoughts_risk_lasting  95.407503   4.592497\n",
              "8                    Coping_strategy  95.472186   4.527814\n",
              "9            Kinesiophobia_pain_stop  95.601552   4.398448\n",
              "10                 Extremely_nervous  96.636481   3.363519\n",
              "11   Kinesiophobia_physical_exercise  96.701164   3.298836\n",
              "12               Weightloss_per_year  97.606727   2.393273\n",
              "13                             Fever  97.800776   2.199224\n",
              "14                  Duration_of_pain  97.994825   2.005175\n",
              "15              Uses_corticosteroids  99.159120   0.840880\n",
              "16                   Serious_disease  99.223803   0.776197"
            ],
            "text/html": [
              "\n",
              "  <div id=\"df-7f9886f6-c2c9-49fd-8151-60f5db023063\">\n",
              "    <div class=\"colab-df-container\">\n",
              "      <div>\n",
              "<style scoped>\n",
              "    .dataframe tbody tr th:only-of-type {\n",
              "        vertical-align: middle;\n",
              "    }\n",
              "\n",
              "    .dataframe tbody tr th {\n",
              "        vertical-align: top;\n",
              "    }\n",
              "\n",
              "    .dataframe thead th {\n",
              "        text-align: right;\n",
              "    }\n",
              "</style>\n",
              "<table border=\"1\" class=\"dataframe\">\n",
              "  <thead>\n",
              "    <tr style=\"text-align: right;\">\n",
              "      <th></th>\n",
              "      <th>Features</th>\n",
              "      <th>counts</th>\n",
              "      <th>inverted</th>\n",
              "    </tr>\n",
              "  </thead>\n",
              "  <tbody>\n",
              "    <tr>\n",
              "      <th>0</th>\n",
              "      <td>Workoverload</td>\n",
              "      <td>29.689521</td>\n",
              "      <td>70.310479</td>\n",
              "    </tr>\n",
              "    <tr>\n",
              "      <th>1</th>\n",
              "      <td>working_ability</td>\n",
              "      <td>32.600259</td>\n",
              "      <td>67.399741</td>\n",
              "    </tr>\n",
              "    <tr>\n",
              "      <th>2</th>\n",
              "      <td>Trauma</td>\n",
              "      <td>56.015524</td>\n",
              "      <td>43.984476</td>\n",
              "    </tr>\n",
              "    <tr>\n",
              "      <th>3</th>\n",
              "      <td>Relationship_with_colleagues</td>\n",
              "      <td>63.324709</td>\n",
              "      <td>36.675291</td>\n",
              "    </tr>\n",
              "    <tr>\n",
              "      <th>4</th>\n",
              "      <td>Incoordination</td>\n",
              "      <td>85.122898</td>\n",
              "      <td>14.877102</td>\n",
              "    </tr>\n",
              "    <tr>\n",
              "      <th>5</th>\n",
              "      <td>Irrational_thoughts_work</td>\n",
              "      <td>88.163001</td>\n",
              "      <td>11.836999</td>\n",
              "    </tr>\n",
              "    <tr>\n",
              "      <th>6</th>\n",
              "      <td>Loss_muscle_strength</td>\n",
              "      <td>94.695990</td>\n",
              "      <td>5.304010</td>\n",
              "    </tr>\n",
              "    <tr>\n",
              "      <th>7</th>\n",
              "      <td>Irrational_thoughts_risk_lasting</td>\n",
              "      <td>95.407503</td>\n",
              "      <td>4.592497</td>\n",
              "    </tr>\n",
              "    <tr>\n",
              "      <th>8</th>\n",
              "      <td>Coping_strategy</td>\n",
              "      <td>95.472186</td>\n",
              "      <td>4.527814</td>\n",
              "    </tr>\n",
              "    <tr>\n",
              "      <th>9</th>\n",
              "      <td>Kinesiophobia_pain_stop</td>\n",
              "      <td>95.601552</td>\n",
              "      <td>4.398448</td>\n",
              "    </tr>\n",
              "    <tr>\n",
              "      <th>10</th>\n",
              "      <td>Extremely_nervous</td>\n",
              "      <td>96.636481</td>\n",
              "      <td>3.363519</td>\n",
              "    </tr>\n",
              "    <tr>\n",
              "      <th>11</th>\n",
              "      <td>Kinesiophobia_physical_exercise</td>\n",
              "      <td>96.701164</td>\n",
              "      <td>3.298836</td>\n",
              "    </tr>\n",
              "    <tr>\n",
              "      <th>12</th>\n",
              "      <td>Weightloss_per_year</td>\n",
              "      <td>97.606727</td>\n",
              "      <td>2.393273</td>\n",
              "    </tr>\n",
              "    <tr>\n",
              "      <th>13</th>\n",
              "      <td>Fever</td>\n",
              "      <td>97.800776</td>\n",
              "      <td>2.199224</td>\n",
              "    </tr>\n",
              "    <tr>\n",
              "      <th>14</th>\n",
              "      <td>Duration_of_pain</td>\n",
              "      <td>97.994825</td>\n",
              "      <td>2.005175</td>\n",
              "    </tr>\n",
              "    <tr>\n",
              "      <th>15</th>\n",
              "      <td>Uses_corticosteroids</td>\n",
              "      <td>99.159120</td>\n",
              "      <td>0.840880</td>\n",
              "    </tr>\n",
              "    <tr>\n",
              "      <th>16</th>\n",
              "      <td>Serious_disease</td>\n",
              "      <td>99.223803</td>\n",
              "      <td>0.776197</td>\n",
              "    </tr>\n",
              "  </tbody>\n",
              "</table>\n",
              "</div>\n",
              "      <button class=\"colab-df-convert\" onclick=\"convertToInteractive('df-7f9886f6-c2c9-49fd-8151-60f5db023063')\"\n",
              "              title=\"Convert this dataframe to an interactive table.\"\n",
              "              style=\"display:none;\">\n",
              "        \n",
              "  <svg xmlns=\"http://www.w3.org/2000/svg\" height=\"24px\"viewBox=\"0 0 24 24\"\n",
              "       width=\"24px\">\n",
              "    <path d=\"M0 0h24v24H0V0z\" fill=\"none\"/>\n",
              "    <path d=\"M18.56 5.44l.94 2.06.94-2.06 2.06-.94-2.06-.94-.94-2.06-.94 2.06-2.06.94zm-11 1L8.5 8.5l.94-2.06 2.06-.94-2.06-.94L8.5 2.5l-.94 2.06-2.06.94zm10 10l.94 2.06.94-2.06 2.06-.94-2.06-.94-.94-2.06-.94 2.06-2.06.94z\"/><path d=\"M17.41 7.96l-1.37-1.37c-.4-.4-.92-.59-1.43-.59-.52 0-1.04.2-1.43.59L10.3 9.45l-7.72 7.72c-.78.78-.78 2.05 0 2.83L4 21.41c.39.39.9.59 1.41.59.51 0 1.02-.2 1.41-.59l7.78-7.78 2.81-2.81c.8-.78.8-2.07 0-2.86zM5.41 20L4 18.59l7.72-7.72 1.47 1.35L5.41 20z\"/>\n",
              "  </svg>\n",
              "      </button>\n",
              "      \n",
              "  <style>\n",
              "    .colab-df-container {\n",
              "      display:flex;\n",
              "      flex-wrap:wrap;\n",
              "      gap: 12px;\n",
              "    }\n",
              "\n",
              "    .colab-df-convert {\n",
              "      background-color: #E8F0FE;\n",
              "      border: none;\n",
              "      border-radius: 50%;\n",
              "      cursor: pointer;\n",
              "      display: none;\n",
              "      fill: #1967D2;\n",
              "      height: 32px;\n",
              "      padding: 0 0 0 0;\n",
              "      width: 32px;\n",
              "    }\n",
              "\n",
              "    .colab-df-convert:hover {\n",
              "      background-color: #E2EBFA;\n",
              "      box-shadow: 0px 1px 2px rgba(60, 64, 67, 0.3), 0px 1px 3px 1px rgba(60, 64, 67, 0.15);\n",
              "      fill: #174EA6;\n",
              "    }\n",
              "\n",
              "    [theme=dark] .colab-df-convert {\n",
              "      background-color: #3B4455;\n",
              "      fill: #D2E3FC;\n",
              "    }\n",
              "\n",
              "    [theme=dark] .colab-df-convert:hover {\n",
              "      background-color: #434B5C;\n",
              "      box-shadow: 0px 1px 3px 1px rgba(0, 0, 0, 0.15);\n",
              "      filter: drop-shadow(0px 1px 2px rgba(0, 0, 0, 0.3));\n",
              "      fill: #FFFFFF;\n",
              "    }\n",
              "  </style>\n",
              "\n",
              "      <script>\n",
              "        const buttonEl =\n",
              "          document.querySelector('#df-7f9886f6-c2c9-49fd-8151-60f5db023063 button.colab-df-convert');\n",
              "        buttonEl.style.display =\n",
              "          google.colab.kernel.accessAllowed ? 'block' : 'none';\n",
              "\n",
              "        async function convertToInteractive(key) {\n",
              "          const element = document.querySelector('#df-7f9886f6-c2c9-49fd-8151-60f5db023063');\n",
              "          const dataTable =\n",
              "            await google.colab.kernel.invokeFunction('convertToInteractive',\n",
              "                                                     [key], {});\n",
              "          if (!dataTable) return;\n",
              "\n",
              "          const docLinkHtml = 'Like what you see? Visit the ' +\n",
              "            '<a target=\"_blank\" href=https://colab.research.google.com/notebooks/data_table.ipynb>data table notebook</a>'\n",
              "            + ' to learn more about interactive tables.';\n",
              "          element.innerHTML = '';\n",
              "          dataTable['output_type'] = 'display_data';\n",
              "          await google.colab.output.renderOutput(dataTable, element);\n",
              "          const docLink = document.createElement('div');\n",
              "          docLink.innerHTML = docLinkHtml;\n",
              "          element.appendChild(docLink);\n",
              "        }\n",
              "      </script>\n",
              "    </div>\n",
              "  </div>\n",
              "  "
            ]
          },
          "metadata": {},
          "execution_count": 8
        }
      ],
      "source": [
        "#df_filtered = df_filtered[df_filtered[100-'counts']]\n",
        "df_filtered['inverted'] = 100-df_filtered.counts\n",
        "df_filtered"
      ]
    },
    {
      "cell_type": "code",
      "execution_count": 9,
      "metadata": {
        "colab": {
          "base_uri": "https://localhost:8080/",
          "height": 295
        },
        "id": "pouBW4LSPWdc",
        "outputId": "5b986263-fdf3-4340-9fe8-bc1b48e65abc"
      },
      "outputs": [
        {
          "output_type": "display_data",
          "data": {
            "text/plain": [
              "<Figure size 432x288 with 1 Axes>"
            ],
            "image/png": "[encoded data removed]"
          },
          "metadata": {
            "needs_background": "light"
          }
        }
      ],
      "source": [
        "#create bar chart\n",
        "import matplotlib.pyplot as plt\n",
        "\n",
        "y_axis = df_filtered['Features']\n",
        "x_axis = df_filtered['counts']\n",
        "\n",
        "plt.barh (y_axis, x_axis)\n",
        "plt.title('Features and percentage of values present in the data')\n",
        "plt.ylabel('Feature')\n",
        "plt.xlabel('Percentage of data missing')\n",
        "plt.show()"
      ]
    },
    {
      "cell_type": "code",
      "execution_count": 10,
      "metadata": {
        "colab": {
          "base_uri": "https://localhost:8080/",
          "height": 295
        },
        "id": "55rz0UL9ibVj",
        "outputId": "fb1918fb-8837-4eb7-9b09-f251309d20c7"
      },
      "outputs": [
        {
          "output_type": "display_data",
          "data": {
            "text/plain": [
              "<Figure size 432x288 with 1 Axes>"
            ],
            "image/png": "[encoded data removed]"
          },
          "metadata": {
            "needs_background": "light"
          }
        }
      ],
      "source": [
        "#create bar chart\n",
        "import matplotlib.pyplot as plt\n",
        "\n",
        "y_axis = df_filtered['Features']\n",
        "x_axis = df_filtered['inverted']\n",
        "\n",
        "plt.barh (y_axis, x_axis)\n",
        "plt.title('Features and percentage of values missing in the data')\n",
        "plt.ylabel('Feature')\n",
        "plt.xlabel('Percentage of data missing')\n",
        "plt.show()"
      ]
    },
    {
      "cell_type": "code",
      "execution_count": 11,
      "metadata": {
        "colab": {
          "base_uri": "https://localhost:8080/"
        },
        "id": "WN7SffHMU5RH",
        "outputId": "6375c141-6033-4a72-c152-a5a18aadf82e"
      },
      "outputs": [
        {
          "output_type": "execute_result",
          "data": {
            "text/plain": [
              "Index(['Treatment', 'Fever', 'Duration_of_pain', 'Sick_leave',\n",
              "       'Earlier_hospitalization', 'Familiy_history', 'Depression',\n",
              "       'Extremely_nervous', 'Stress', 'Irrational_thoughts_risk_lasting',\n",
              "       'Coping_strategy', 'Kinesiophobia_physical_exercise',\n",
              "       'Kinesiophobia_pain_stop', 'Age', 'Uses_analgesics',\n",
              "       'Uses_corticosteroids', 'Serious_disease', 'Neurogenic_signals',\n",
              "       'Continuous_pain', 'Decreased_mobility', 'Nocturnal_pain',\n",
              "       'Weightloss_per_year', 'Loss_muscle_strength', 'Failure_symptoms',\n",
              "       'neck_pain_intensity', 'low_back_pain_intensity',\n",
              "       'arm_left_pain_intensity', 'arm_right_pain_intensity',\n",
              "       'leg_left_pain_intensity', 'leg_right_pain_intensity', 'Paidwork'],\n",
              "      dtype='object')"
            ]
          },
          "metadata": {},
          "execution_count": 11
        }
      ],
      "source": [
        "df_new.columns"
      ]
    },
    {
      "cell_type": "markdown",
      "metadata": {
        "id": "oQ_2ENeNRzlH"
      },
      "source": [
        "## Impute Missing Values"
      ]
    },
    {
      "cell_type": "markdown",
      "metadata": {
        "id": "8ML049rncKbf"
      },
      "source": [
        "###One-hot Encoding Age column"
      ]
    },
    {
      "cell_type": "code",
      "execution_count": 12,
      "metadata": {
        "id": "n3VN2__lb48M"
      },
      "outputs": [],
      "source": [
        "#One-hot encode age\n",
        "#One hot encoding\n",
        "from numpy import array\n",
        "from numpy import argmax\n",
        "from sklearn.preprocessing import LabelEncoder\n",
        "from sklearn.preprocessing import OneHotEncoder"
      ]
    },
    {
      "cell_type": "code",
      "execution_count": 13,
      "metadata": {
        "id": "mDO8wU5gcN0R"
      },
      "outputs": [],
      "source": [
        "#Age encoding\n",
        "df_new['age_ohe'] = array(df_new['Age'])\n",
        "#integer encode\n",
        "label_encoder = LabelEncoder()\n",
        "age_encoded = label_encoder.fit_transform(df_new['age_ohe'])\n",
        "df_new['age_ohe'] = array(age_encoded)"
      ]
    },
    {
      "cell_type": "code",
      "execution_count": 14,
      "metadata": {
        "colab": {
          "base_uri": "https://localhost:8080/"
        },
        "id": "Umi8MtMxeVoF",
        "outputId": "86e32850-1f9a-4f90-cdf2-55e85a348957"
      },
      "outputs": [
        {
          "output_type": "stream",
          "name": "stderr",
          "text": [
            "/usr/local/lib/python3.7/dist-packages/ipykernel_launcher.py:2: FutureWarning: In a future version of pandas all arguments of DataFrame.drop except for the argument 'labels' will be keyword-only\n",
            "  \n"
          ]
        }
      ],
      "source": [
        "#Dropping original Age column\n",
        "df_new = df_new.drop(\"Age\",1)"
      ]
    },
    {
      "cell_type": "markdown",
      "metadata": {
        "id": "OfHBxutgdIKK"
      },
      "source": [
        "### Iterative Imputer"
      ]
    },
    {
      "cell_type": "code",
      "execution_count": 15,
      "metadata": {
        "colab": {
          "base_uri": "https://localhost:8080/"
        },
        "id": "iYH_FVcudKlO",
        "outputId": "ea6f33ec-a054-417d-fe8e-85d63fe29e09"
      },
      "outputs": [
        {
          "output_type": "stream",
          "name": "stdout",
          "text": [
            "Missing: 521\n",
            "Missing: 0\n"
          ]
        }
      ],
      "source": [
        "# iterative imputation transform\n",
        "from numpy import isnan\n",
        "from pandas import read_csv\n",
        "from sklearn.experimental import enable_iterative_imputer\n",
        "from sklearn.impute import IterativeImputer\n",
        "\n",
        "data = df_new.values\n",
        "ix = [i for i in range(data.shape[1]) if i != 0]\n",
        "X, y = data[:, ix], data[:, 0]\n",
        "# print total missing\n",
        "print('Missing: %d' % sum(isnan(X).flatten()))\n",
        "# define imputer\n",
        "imputer = IterativeImputer(max_iter = 50, skip_complete = True)\n",
        "# fit on the dataset\n",
        "imputer.fit(X)\n",
        "# transform the dataset\n",
        "Xtrans = imputer.transform(X)\n",
        "# print total missing\n",
        "print('Missing: %d' % sum(isnan(Xtrans).flatten()))"
      ]
    },
    {
      "cell_type": "code",
      "execution_count": 16,
      "metadata": {
        "id": "DchVwwSEepGi"
      },
      "outputs": [],
      "source": [
        "from sklearn.ensemble import RandomForestClassifier\n",
        "from sklearn.pipeline import Pipeline\n",
        "# define modeling pipeline\n",
        "model = RandomForestClassifier()\n",
        "imputer = IterativeImputer()\n",
        "pipeline = Pipeline(steps=[('i', imputer), ('m', model)])"
      ]
    },
    {
      "cell_type": "code",
      "execution_count": 17,
      "metadata": {
        "colab": {
          "base_uri": "https://localhost:8080/"
        },
        "id": "wa6MxvfKewg4",
        "outputId": "483a9473-818e-4db2-f06a-46c4e629e472"
      },
      "outputs": [
        {
          "output_type": "stream",
          "name": "stdout",
          "text": [
            "Mean Accuracy: 0.469 (0.038)\n"
          ]
        }
      ],
      "source": [
        "from numpy import mean\n",
        "from numpy import std\n",
        "from sklearn.model_selection import cross_val_score\n",
        "from sklearn.model_selection import RepeatedStratifiedKFold\n",
        "# define model evaluation\n",
        "cv = RepeatedStratifiedKFold(n_splits=10, n_repeats=3, random_state=1)\n",
        "# evaluate model\n",
        "scores = cross_val_score(pipeline, X, y, scoring='accuracy', cv=cv, n_jobs=-1, error_score='raise')\n",
        "print('Mean Accuracy: %.3f (%.3f)' % (mean(scores), std(scores)))"
      ]
    },
    {
      "cell_type": "code",
      "execution_count": 18,
      "metadata": {
        "id": "OpkqoDSNfYfa"
      },
      "outputs": [],
      "source": [
        "feature_cols = ['Fever', 'Duration_of_pain', 'Sick_leave',\n",
        "       'Earlier_hospitalization', 'Familiy_history', 'Depression',\n",
        "       'Extremely_nervous', 'Stress', 'Irrational_thoughts_risk_lasting',\n",
        "       'Coping_strategy', 'Kinesiophobia_physical_exercise',\n",
        "       'Kinesiophobia_pain_stop', 'Uses_analgesics',\n",
        "       'Uses_corticosteroids', 'Serious_disease', 'Neurogenic_signals',\n",
        "       'Continuous_pain', 'Decreased_mobility', 'Nocturnal_pain',\n",
        "       'Weightloss_per_year', 'Loss_muscle_strength', 'Failure_symptoms',\n",
        "       'neck_pain_intensity', 'low_back_pain_intensity',\n",
        "       'arm_left_pain_intensity', 'arm_right_pain_intensity',\n",
        "       'leg_left_pain_intensity', 'leg_right_pain_intensity', 'Paidwork',\n",
        "       'age_ohe']\n",
        "X = df_new[feature_cols] # Features\n",
        "y = df_new.Treatment # Target variable"
      ]
    },
    {
      "cell_type": "code",
      "execution_count": 19,
      "metadata": {
        "id": "VytWor9VhRRj"
      },
      "outputs": [],
      "source": [
        "X = pd.DataFrame(Xtrans, columns = feature_cols)"
      ]
    },
    {
      "cell_type": "markdown",
      "metadata": {
        "id": "aXtETT26hlwY"
      },
      "source": [
        "##Standard Scaling Data"
      ]
    },
    {
      "cell_type": "code",
      "execution_count": 20,
      "metadata": {
        "id": "6ErwcLsbhpYg"
      },
      "outputs": [],
      "source": [
        "from sklearn.preprocessing import StandardScaler\n",
        "x = X.loc[:, feature_cols].values\n",
        "#y = df_new.loc[:,['Treatment']].values\n",
        "x = StandardScaler().fit_transform(x)\n",
        "X = pd.DataFrame(x, columns = feature_cols)"
      ]
    },
    {
      "cell_type": "code",
      "execution_count": 21,
      "metadata": {
        "colab": {
          "base_uri": "https://localhost:8080/",
          "height": 488
        },
        "id": "wFKaD1pWjSCJ",
        "outputId": "f51c3d7e-9485-46ef-f31b-aebb954f3920"
      },
      "outputs": [
        {
          "output_type": "execute_result",
          "data": {
            "text/plain": [
              "         Fever  Duration_of_pain  Sick_leave  Earlier_hospitalization  \\\n",
              "0     1.640359          0.535798   -0.656873                 0.666978   \n",
              "1     1.640359          0.535798   -0.656873                 0.666978   \n",
              "2     1.640359          0.535798   -0.656873                 0.666978   \n",
              "3     1.640359          0.535798   -0.656873                 0.666978   \n",
              "4     1.640359          0.535798   -0.656873                 0.666978   \n",
              "...        ...               ...         ...                      ...   \n",
              "1541 -0.610885         -0.790924    1.522365                -1.499300   \n",
              "1542 -0.610885          0.535798   -0.656873                -1.499300   \n",
              "1543 -0.610885          0.535798   -0.656873                 0.666978   \n",
              "1544 -0.610885          0.535798    1.522365                 0.666978   \n",
              "1545 -0.610885         -0.127563   -0.656873                -1.499300   \n",
              "\n",
              "      Familiy_history  Depression  Extremely_nervous    Stress  \\\n",
              "0           -0.587808   -0.321710          -1.027434 -1.851972   \n",
              "1            1.701237   -0.321710          -1.027434  0.539965   \n",
              "2           -0.587808   -0.321710           0.963109  0.539965   \n",
              "3           -0.587808   -0.321710          -0.695677  0.539965   \n",
              "4           -0.587808   -0.321710          -1.027434  0.539965   \n",
              "...               ...         ...                ...       ...   \n",
              "1541        -0.587808   -0.321710          -0.032163  0.539965   \n",
              "1542        -0.587808   -0.321710          -1.027434  0.539965   \n",
              "1543         1.701237    3.108387           1.626624  0.539965   \n",
              "1544         1.701237   -0.321710          -0.032163 -1.851972   \n",
              "1545        -0.587808   -0.321710           0.631352  0.539965   \n",
              "\n",
              "      Irrational_thoughts_risk_lasting  Coping_strategy  ...  \\\n",
              "0                             0.879192        -1.529941  ...   \n",
              "1                            -0.791042         1.177440  ...   \n",
              "2                             0.461634        -0.756404  ...   \n",
              "3                             1.296751        -1.143172  ...   \n",
              "4                             0.044075         1.177440  ...   \n",
              "...                                ...              ...  ...   \n",
              "1541                          0.461634        -0.369635  ...   \n",
              "1542                          1.296751         0.403902  ...   \n",
              "1543                         -0.791042        -1.143172  ...   \n",
              "1544                          0.461634         1.177440  ...   \n",
              "1545                          0.879192        -1.529941  ...   \n",
              "\n",
              "      Loss_muscle_strength  Failure_symptoms  neck_pain_intensity  \\\n",
              "0                 0.947948          0.346828            -0.577630   \n",
              "1                 0.947948          0.346828             1.955235   \n",
              "2                -1.110131          0.346828             0.507884   \n",
              "3                 0.947948         -2.883271             0.146046   \n",
              "4                -1.110131          0.346828            -0.577630   \n",
              "...                    ...               ...                  ...   \n",
              "1541              0.947948          0.346828            -0.577630   \n",
              "1542             -1.110131          0.346828            -0.577630   \n",
              "1543              0.947948          0.346828            -0.577630   \n",
              "1544              0.947948          0.346828            -0.577630   \n",
              "1545             -1.110131          0.346828            -0.577630   \n",
              "\n",
              "      low_back_pain_intensity  arm_left_pain_intensity  \\\n",
              "0                    0.583078                 3.708302   \n",
              "1                    0.583078                 3.199874   \n",
              "2                   -0.601985                -0.359123   \n",
              "3                    0.978099                -0.359123   \n",
              "4                    0.188057                 2.183018   \n",
              "...                       ...                      ...   \n",
              "1541                 0.583078                -0.359123   \n",
              "1542                 1.373120                -0.359123   \n",
              "1543                 0.583078                -0.359123   \n",
              "1544                 0.583078                -0.359123   \n",
              "1545                 0.583078                -0.359123   \n",
              "\n",
              "      arm_right_pain_intensity  leg_left_pain_intensity  \\\n",
              "0                     3.149029                 0.925116   \n",
              "1                     1.645664                -0.812356   \n",
              "2                     0.643420                -0.812356   \n",
              "3                    -0.358824                 1.793852   \n",
              "4                    -0.358824                -0.812356   \n",
              "...                        ...                      ...   \n",
              "1541                 -0.358824                -0.812356   \n",
              "1542                 -0.358824                -0.812356   \n",
              "1543                 -0.358824                -0.812356   \n",
              "1544                 -0.358824                -0.812356   \n",
              "1545                 -0.358824                 1.504274   \n",
              "\n",
              "      leg_right_pain_intensity  Paidwork   age_ohe  \n",
              "0                     0.926929 -0.699573  1.457135  \n",
              "1                    -0.803438  1.429443  0.148549  \n",
              "2                     0.061746 -0.699573  0.148549  \n",
              "3                     0.638534 -0.699573  0.148549  \n",
              "4                    -0.803438 -0.699573  0.148549  \n",
              "...                        ...       ...       ...  \n",
              "1541                 -0.803438  1.429443  0.148549  \n",
              "1542                  1.792112 -0.699573  0.802842  \n",
              "1543                  1.503718 -0.699573  0.802842  \n",
              "1544                 -0.803438  1.429443  0.148549  \n",
              "1545                  1.503718  1.429443  0.802842  \n",
              "\n",
              "[1546 rows x 30 columns]"
            ],
            "text/html": [
              "\n",
              "  <div id=\"df-a97ea09d-b296-4d5a-83fd-b04927947714\">\n",
              "    <div class=\"colab-df-container\">\n",
              "      <div>\n",
              "<style scoped>\n",
              "    .dataframe tbody tr th:only-of-type {\n",
              "        vertical-align: middle;\n",
              "    }\n",
              "\n",
              "    .dataframe tbody tr th {\n",
              "        vertical-align: top;\n",
              "    }\n",
              "\n",
              "    .dataframe thead th {\n",
              "        text-align: right;\n",
              "    }\n",
              "</style>\n",
              "<table border=\"1\" class=\"dataframe\">\n",
              "  <thead>\n",
              "    <tr style=\"text-align: right;\">\n",
              "      <th></th>\n",
              "      <th>Fever</th>\n",
              "      <th>Duration_of_pain</th>\n",
              "      <th>Sick_leave</th>\n",
              "      <th>Earlier_hospitalization</th>\n",
              "      <th>Familiy_history</th>\n",
              "      <th>Depression</th>\n",
              "      <th>Extremely_nervous</th>\n",
              "      <th>Stress</th>\n",
              "      <th>Irrational_thoughts_risk_lasting</th>\n",
              "      <th>Coping_strategy</th>\n",
              "      <th>...</th>\n",
              "      <th>Loss_muscle_strength</th>\n",
              "      <th>Failure_symptoms</th>\n",
              "      <th>neck_pain_intensity</th>\n",
              "      <th>low_back_pain_intensity</th>\n",
              "      <th>arm_left_pain_intensity</th>\n",
              "      <th>arm_right_pain_intensity</th>\n",
              "      <th>leg_left_pain_intensity</th>\n",
              "      <th>leg_right_pain_intensity</th>\n",
              "      <th>Paidwork</th>\n",
              "      <th>age_ohe</th>\n",
              "    </tr>\n",
              "  </thead>\n",
              "  <tbody>\n",
              "    <tr>\n",
              "      <th>0</th>\n",
              "      <td>1.640359</td>\n",
              "      <td>0.535798</td>\n",
              "      <td>-0.656873</td>\n",
              "      <td>0.666978</td>\n",
              "      <td>-0.587808</td>\n",
              "      <td>-0.321710</td>\n",
              "      <td>-1.027434</td>\n",
              "      <td>-1.851972</td>\n",
              "      <td>0.879192</td>\n",
              "      <td>-1.529941</td>\n",
              "      <td>...</td>\n",
              "      <td>0.947948</td>\n",
              "      <td>0.346828</td>\n",
              "      <td>-0.577630</td>\n",
              "      <td>0.583078</td>\n",
              "      <td>3.708302</td>\n",
              "      <td>3.149029</td>\n",
              "      <td>0.925116</td>\n",
              "      <td>0.926929</td>\n",
              "      <td>-0.699573</td>\n",
              "      <td>1.457135</td>\n",
              "    </tr>\n",
              "    <tr>\n",
              "      <th>1</th>\n",
              "      <td>1.640359</td>\n",
              "      <td>0.535798</td>\n",
              "      <td>-0.656873</td>\n",
              "      <td>0.666978</td>\n",
              "      <td>1.701237</td>\n",
              "      <td>-0.321710</td>\n",
              "      <td>-1.027434</td>\n",
              "      <td>0.539965</td>\n",
              "      <td>-0.791042</td>\n",
              "      <td>1.177440</td>\n",
              "      <td>...</td>\n",
              "      <td>0.947948</td>\n",
              "      <td>0.346828</td>\n",
              "      <td>1.955235</td>\n",
              "      <td>0.583078</td>\n",
              "      <td>3.199874</td>\n",
              "      <td>1.645664</td>\n",
              "      <td>-0.812356</td>\n",
              "      <td>-0.803438</td>\n",
              "      <td>1.429443</td>\n",
              "      <td>0.148549</td>\n",
              "    </tr>\n",
              "    <tr>\n",
              "      <th>2</th>\n",
              "      <td>1.640359</td>\n",
              "      <td>0.535798</td>\n",
              "      <td>-0.656873</td>\n",
              "      <td>0.666978</td>\n",
              "      <td>-0.587808</td>\n",
              "      <td>-0.321710</td>\n",
              "      <td>0.963109</td>\n",
              "      <td>0.539965</td>\n",
              "      <td>0.461634</td>\n",
              "      <td>-0.756404</td>\n",
              "      <td>...</td>\n",
              "      <td>-1.110131</td>\n",
              "      <td>0.346828</td>\n",
              "      <td>0.507884</td>\n",
              "      <td>-0.601985</td>\n",
              "      <td>-0.359123</td>\n",
              "      <td>0.643420</td>\n",
              "      <td>-0.812356</td>\n",
              "      <td>0.061746</td>\n",
              "      <td>-0.699573</td>\n",
              "      <td>0.148549</td>\n",
              "    </tr>\n",
              "    <tr>\n",
              "      <th>3</th>\n",
              "      <td>1.640359</td>\n",
              "      <td>0.535798</td>\n",
              "      <td>-0.656873</td>\n",
              "      <td>0.666978</td>\n",
              "      <td>-0.587808</td>\n",
              "      <td>-0.321710</td>\n",
              "      <td>-0.695677</td>\n",
              "      <td>0.539965</td>\n",
              "      <td>1.296751</td>\n",
              "      <td>-1.143172</td>\n",
              "      <td>...</td>\n",
              "      <td>0.947948</td>\n",
              "      <td>-2.883271</td>\n",
              "      <td>0.146046</td>\n",
              "      <td>0.978099</td>\n",
              "      <td>-0.359123</td>\n",
              "      <td>-0.358824</td>\n",
              "      <td>1.793852</td>\n",
              "      <td>0.638534</td>\n",
              "      <td>-0.699573</td>\n",
              "      <td>0.148549</td>\n",
              "    </tr>\n",
              "    <tr>\n",
              "      <th>4</th>\n",
              "      <td>1.640359</td>\n",
              "      <td>0.535798</td>\n",
              "      <td>-0.656873</td>\n",
              "      <td>0.666978</td>\n",
              "      <td>-0.587808</td>\n",
              "      <td>-0.321710</td>\n",
              "      <td>-1.027434</td>\n",
              "      <td>0.539965</td>\n",
              "      <td>0.044075</td>\n",
              "      <td>1.177440</td>\n",
              "      <td>...</td>\n",
              "      <td>-1.110131</td>\n",
              "      <td>0.346828</td>\n",
              "      <td>-0.577630</td>\n",
              "      <td>0.188057</td>\n",
              "      <td>2.183018</td>\n",
              "      <td>-0.358824</td>\n",
              "      <td>-0.812356</td>\n",
              "      <td>-0.803438</td>\n",
              "      <td>-0.699573</td>\n",
              "      <td>0.148549</td>\n",
              "    </tr>\n",
              "    <tr>\n",
              "      <th>...</th>\n",
              "      <td>...</td>\n",
              "      <td>...</td>\n",
              "      <td>...</td>\n",
              "      <td>...</td>\n",
              "      <td>...</td>\n",
              "      <td>...</td>\n",
              "      <td>...</td>\n",
              "      <td>...</td>\n",
              "      <td>...</td>\n",
              "      <td>...</td>\n",
              "      <td>...</td>\n",
              "      <td>...</td>\n",
              "      <td>...</td>\n",
              "      <td>...</td>\n",
              "      <td>...</td>\n",
              "      <td>...</td>\n",
              "      <td>...</td>\n",
              "      <td>...</td>\n",
              "      <td>...</td>\n",
              "      <td>...</td>\n",
              "      <td>...</td>\n",
              "    </tr>\n",
              "    <tr>\n",
              "      <th>1541</th>\n",
              "      <td>-0.610885</td>\n",
              "      <td>-0.790924</td>\n",
              "      <td>1.522365</td>\n",
              "      <td>-1.499300</td>\n",
              "      <td>-0.587808</td>\n",
              "      <td>-0.321710</td>\n",
              "      <td>-0.032163</td>\n",
              "      <td>0.539965</td>\n",
              "      <td>0.461634</td>\n",
              "      <td>-0.369635</td>\n",
              "      <td>...</td>\n",
              "      <td>0.947948</td>\n",
              "      <td>0.346828</td>\n",
              "      <td>-0.577630</td>\n",
              "      <td>0.583078</td>\n",
              "      <td>-0.359123</td>\n",
              "      <td>-0.358824</td>\n",
              "      <td>-0.812356</td>\n",
              "      <td>-0.803438</td>\n",
              "      <td>1.429443</td>\n",
              "      <td>0.148549</td>\n",
              "    </tr>\n",
              "    <tr>\n",
              "      <th>1542</th>\n",
              "      <td>-0.610885</td>\n",
              "      <td>0.535798</td>\n",
              "      <td>-0.656873</td>\n",
              "      <td>-1.499300</td>\n",
              "      <td>-0.587808</td>\n",
              "      <td>-0.321710</td>\n",
              "      <td>-1.027434</td>\n",
              "      <td>0.539965</td>\n",
              "      <td>1.296751</td>\n",
              "      <td>0.403902</td>\n",
              "      <td>...</td>\n",
              "      <td>-1.110131</td>\n",
              "      <td>0.346828</td>\n",
              "      <td>-0.577630</td>\n",
              "      <td>1.373120</td>\n",
              "      <td>-0.359123</td>\n",
              "      <td>-0.358824</td>\n",
              "      <td>-0.812356</td>\n",
              "      <td>1.792112</td>\n",
              "      <td>-0.699573</td>\n",
              "      <td>0.802842</td>\n",
              "    </tr>\n",
              "    <tr>\n",
              "      <th>1543</th>\n",
              "      <td>-0.610885</td>\n",
              "      <td>0.535798</td>\n",
              "      <td>-0.656873</td>\n",
              "      <td>0.666978</td>\n",
              "      <td>1.701237</td>\n",
              "      <td>3.108387</td>\n",
              "      <td>1.626624</td>\n",
              "      <td>0.539965</td>\n",
              "      <td>-0.791042</td>\n",
              "      <td>-1.143172</td>\n",
              "      <td>...</td>\n",
              "      <td>0.947948</td>\n",
              "      <td>0.346828</td>\n",
              "      <td>-0.577630</td>\n",
              "      <td>0.583078</td>\n",
              "      <td>-0.359123</td>\n",
              "      <td>-0.358824</td>\n",
              "      <td>-0.812356</td>\n",
              "      <td>1.503718</td>\n",
              "      <td>-0.699573</td>\n",
              "      <td>0.802842</td>\n",
              "    </tr>\n",
              "    <tr>\n",
              "      <th>1544</th>\n",
              "      <td>-0.610885</td>\n",
              "      <td>0.535798</td>\n",
              "      <td>1.522365</td>\n",
              "      <td>0.666978</td>\n",
              "      <td>1.701237</td>\n",
              "      <td>-0.321710</td>\n",
              "      <td>-0.032163</td>\n",
              "      <td>-1.851972</td>\n",
              "      <td>0.461634</td>\n",
              "      <td>1.177440</td>\n",
              "      <td>...</td>\n",
              "      <td>0.947948</td>\n",
              "      <td>0.346828</td>\n",
              "      <td>-0.577630</td>\n",
              "      <td>0.583078</td>\n",
              "      <td>-0.359123</td>\n",
              "      <td>-0.358824</td>\n",
              "      <td>-0.812356</td>\n",
              "      <td>-0.803438</td>\n",
              "      <td>1.429443</td>\n",
              "      <td>0.148549</td>\n",
              "    </tr>\n",
              "    <tr>\n",
              "      <th>1545</th>\n",
              "      <td>-0.610885</td>\n",
              "      <td>-0.127563</td>\n",
              "      <td>-0.656873</td>\n",
              "      <td>-1.499300</td>\n",
              "      <td>-0.587808</td>\n",
              "      <td>-0.321710</td>\n",
              "      <td>0.631352</td>\n",
              "      <td>0.539965</td>\n",
              "      <td>0.879192</td>\n",
              "      <td>-1.529941</td>\n",
              "      <td>...</td>\n",
              "      <td>-1.110131</td>\n",
              "      <td>0.346828</td>\n",
              "      <td>-0.577630</td>\n",
              "      <td>0.583078</td>\n",
              "      <td>-0.359123</td>\n",
              "      <td>-0.358824</td>\n",
              "      <td>1.504274</td>\n",
              "      <td>1.503718</td>\n",
              "      <td>1.429443</td>\n",
              "      <td>0.802842</td>\n",
              "    </tr>\n",
              "  </tbody>\n",
              "</table>\n",
              "<p>1546 rows × 30 columns</p>\n",
              "</div>\n",
              "      <button class=\"colab-df-convert\" onclick=\"convertToInteractive('df-a97ea09d-b296-4d5a-83fd-b04927947714')\"\n",
              "              title=\"Convert this dataframe to an interactive table.\"\n",
              "              style=\"display:none;\">\n",
              "        \n",
              "  <svg xmlns=\"http://www.w3.org/2000/svg\" height=\"24px\"viewBox=\"0 0 24 24\"\n",
              "       width=\"24px\">\n",
              "    <path d=\"M0 0h24v24H0V0z\" fill=\"none\"/>\n",
              "    <path d=\"M18.56 5.44l.94 2.06.94-2.06 2.06-.94-2.06-.94-.94-2.06-.94 2.06-2.06.94zm-11 1L8.5 8.5l.94-2.06 2.06-.94-2.06-.94L8.5 2.5l-.94 2.06-2.06.94zm10 10l.94 2.06.94-2.06 2.06-.94-2.06-.94-.94-2.06-.94 2.06-2.06.94z\"/><path d=\"M17.41 7.96l-1.37-1.37c-.4-.4-.92-.59-1.43-.59-.52 0-1.04.2-1.43.59L10.3 9.45l-7.72 7.72c-.78.78-.78 2.05 0 2.83L4 21.41c.39.39.9.59 1.41.59.51 0 1.02-.2 1.41-.59l7.78-7.78 2.81-2.81c.8-.78.8-2.07 0-2.86zM5.41 20L4 18.59l7.72-7.72 1.47 1.35L5.41 20z\"/>\n",
              "  </svg>\n",
              "      </button>\n",
              "      \n",
              "  <style>\n",
              "    .colab-df-container {\n",
              "      display:flex;\n",
              "      flex-wrap:wrap;\n",
              "      gap: 12px;\n",
              "    }\n",
              "\n",
              "    .colab-df-convert {\n",
              "      background-color: #E8F0FE;\n",
              "      border: none;\n",
              "      border-radius: 50%;\n",
              "      cursor: pointer;\n",
              "      display: none;\n",
              "      fill: #1967D2;\n",
              "      height: 32px;\n",
              "      padding: 0 0 0 0;\n",
              "      width: 32px;\n",
              "    }\n",
              "\n",
              "    .colab-df-convert:hover {\n",
              "      background-color: #E2EBFA;\n",
              "      box-shadow: 0px 1px 2px rgba(60, 64, 67, 0.3), 0px 1px 3px 1px rgba(60, 64, 67, 0.15);\n",
              "      fill: #174EA6;\n",
              "    }\n",
              "\n",
              "    [theme=dark] .colab-df-convert {\n",
              "      background-color: #3B4455;\n",
              "      fill: #D2E3FC;\n",
              "    }\n",
              "\n",
              "    [theme=dark] .colab-df-convert:hover {\n",
              "      background-color: #434B5C;\n",
              "      box-shadow: 0px 1px 3px 1px rgba(0, 0, 0, 0.15);\n",
              "      filter: drop-shadow(0px 1px 2px rgba(0, 0, 0, 0.3));\n",
              "      fill: #FFFFFF;\n",
              "    }\n",
              "  </style>\n",
              "\n",
              "      <script>\n",
              "        const buttonEl =\n",
              "          document.querySelector('#df-a97ea09d-b296-4d5a-83fd-b04927947714 button.colab-df-convert');\n",
              "        buttonEl.style.display =\n",
              "          google.colab.kernel.accessAllowed ? 'block' : 'none';\n",
              "\n",
              "        async function convertToInteractive(key) {\n",
              "          const element = document.querySelector('#df-a97ea09d-b296-4d5a-83fd-b04927947714');\n",
              "          const dataTable =\n",
              "            await google.colab.kernel.invokeFunction('convertToInteractive',\n",
              "                                                     [key], {});\n",
              "          if (!dataTable) return;\n",
              "\n",
              "          const docLinkHtml = 'Like what you see? Visit the ' +\n",
              "            '<a target=\"_blank\" href=https://colab.research.google.com/notebooks/data_table.ipynb>data table notebook</a>'\n",
              "            + ' to learn more about interactive tables.';\n",
              "          element.innerHTML = '';\n",
              "          dataTable['output_type'] = 'display_data';\n",
              "          await google.colab.output.renderOutput(dataTable, element);\n",
              "          const docLink = document.createElement('div');\n",
              "          docLink.innerHTML = docLinkHtml;\n",
              "          element.appendChild(docLink);\n",
              "        }\n",
              "      </script>\n",
              "    </div>\n",
              "  </div>\n",
              "  "
            ]
          },
          "metadata": {},
          "execution_count": 21
        }
      ],
      "source": [
        "X"
      ]
    },
    {
      "cell_type": "markdown",
      "metadata": {
        "id": "MXDiHRDZR2I6"
      },
      "source": [
        "## Over and Undersampling"
      ]
    },
    {
      "cell_type": "code",
      "execution_count": 22,
      "metadata": {
        "id": "FdtKoAH4fyDs"
      },
      "outputs": [],
      "source": [
        "# Generate and plot a synthetic imbalanced classification dataset\n",
        "from collections import Counter\n",
        "from sklearn.datasets import make_classification\n",
        "from matplotlib import pyplot\n",
        "from numpy import where\n",
        "from imblearn.over_sampling import SMOTE"
      ]
    },
    {
      "cell_type": "markdown",
      "metadata": {
        "id": "YD899eAAkY0R"
      },
      "source": [
        "###Visualize class imbalance"
      ]
    },
    {
      "cell_type": "code",
      "execution_count": 24,
      "metadata": {
        "colab": {
          "base_uri": "https://localhost:8080/"
        },
        "id": "GO9wFVGjkcN4",
        "outputId": "65b4e6d8-f602-49fd-e119-7fda178cdcfa"
      },
      "outputs": [
        {
          "output_type": "stream",
          "name": "stdout",
          "text": [
            "Counter({1: 659, 5: 649, 2: 160, 3: 65, 4: 13})\n"
          ]
        }
      ],
      "source": [
        "# summarize class distribution\n",
        "counter = Counter(y)\n",
        "print(counter)"
      ]
    },
    {
      "cell_type": "code",
      "execution_count": 26,
      "metadata": {
        "colab": {
          "base_uri": "https://localhost:8080/",
          "height": 411
        },
        "id": "rn1RZoHDkzFg",
        "outputId": "7b20a30a-7591-48c7-ee36-b9f3e29de887"
      },
      "outputs": [
        {
          "output_type": "display_data",
          "data": {
            "text/plain": [
              "<Figure size 720x504 with 1 Axes>"
            ],
            "image/png": "[encoded data removed]"
          },
          "metadata": {}
        }
      ],
      "source": [
        "df_counter = pd.DataFrame.from_dict(counter, orient='index').reset_index()\n",
        "#create Pie chart\n",
        "from matplotlib import pyplot as plt\n",
        "import numpy as np\n",
        " \n",
        "# Creating dataset\n",
        "features = df_counter['index']\n",
        "\n",
        "data = df_counter[0]\n",
        " \n",
        "# Creating plot\n",
        "fig = plt.figure(figsize =(10, 7))\n",
        "plt.pie(data, labels = features)\n",
        " \n",
        "# show plot\n",
        "plt.show()"
      ]
    },
    {
      "cell_type": "code",
      "execution_count": 27,
      "metadata": {
        "id": "LiBVYE0jf_sk"
      },
      "outputs": [],
      "source": [
        "from imblearn.under_sampling import RandomUnderSampler\n",
        "from imblearn.pipeline import Pipeline"
      ]
    },
    {
      "cell_type": "code",
      "execution_count": 28,
      "metadata": {
        "id": "eRwsRoySgJmj"
      },
      "outputs": [],
      "source": [
        "over = SMOTE()\n",
        "under = RandomUnderSampler()"
      ]
    },
    {
      "cell_type": "code",
      "execution_count": 29,
      "metadata": {
        "id": "lxotnA6igP9y"
      },
      "outputs": [],
      "source": [
        "steps = [('o', over), ('u', under)]\n",
        "pipeline = Pipeline(steps=steps)"
      ]
    },
    {
      "cell_type": "code",
      "execution_count": 30,
      "metadata": {
        "id": "X0FkhC7SgV5g"
      },
      "outputs": [],
      "source": [
        "# transform the dataset\n",
        "X, y = pipeline.fit_resample(X, y)"
      ]
    },
    {
      "cell_type": "code",
      "execution_count": 31,
      "metadata": {
        "colab": {
          "base_uri": "https://localhost:8080/"
        },
        "id": "faBOM2pYj4ja",
        "outputId": "db4031e6-3e10-436c-954c-cdb9a74f6384"
      },
      "outputs": [
        {
          "output_type": "stream",
          "name": "stdout",
          "text": [
            "Counter({1: 659, 2: 659, 3: 659, 4: 659, 5: 659})\n"
          ]
        }
      ],
      "source": [
        "# summarize the new class distribution\n",
        "counter = Counter(y)\n",
        "print(counter)"
      ]
    },
    {
      "cell_type": "markdown",
      "metadata": {
        "id": "EtY1En-Ya7_q"
      },
      "source": [
        "#Feature analysis"
      ]
    },
    {
      "cell_type": "markdown",
      "metadata": {
        "id": "hXFKX7l7bCLR"
      },
      "source": [
        "##PCA"
      ]
    },
    {
      "cell_type": "code",
      "execution_count": 32,
      "metadata": {
        "id": "TCDJNeS2nkqb"
      },
      "outputs": [],
      "source": [
        "from sklearn.decomposition import PCA"
      ]
    },
    {
      "cell_type": "code",
      "execution_count": 33,
      "metadata": {
        "id": "G0Hg8GF6bGbR"
      },
      "outputs": [],
      "source": [
        "pca_model = PCA(n_components=10).fit(X)\n",
        "X_pc = pca_model.transform(X)\n",
        "\n",
        "# number of components\n",
        "n_pcs= pca_model.components_.shape[0]"
      ]
    },
    {
      "cell_type": "code",
      "execution_count": 34,
      "metadata": {
        "id": "k3SLoL9knEPO"
      },
      "outputs": [],
      "source": [
        "# get the index of the most important feature on EACH component\n",
        "# LIST COMPREHENSION HERE\n",
        "most_important = [np.abs(pca_model.components_[i]).argmax() for i in range(n_pcs)]\n",
        "initial_feature_names = feature_cols\n",
        "# get the names\n",
        "most_important_names = [initial_feature_names[most_important[i]] for i in range(n_pcs)]\n",
        "# LIST COMPREHENSION HERE AGAIN\n",
        "dic = {'PC{}'.format(i): most_important_names[i] for i in range(n_pcs)}\n",
        "# build the dataframe\n",
        "pca_mostimp = pd.DataFrame(dic.items())"
      ]
    },
    {
      "cell_type": "code",
      "execution_count": 35,
      "metadata": {
        "colab": {
          "base_uri": "https://localhost:8080/",
          "height": 363
        },
        "id": "8aWrXWnDqhFJ",
        "outputId": "bf43c212-89ec-4b2b-9f66-a5b2b7269b54"
      },
      "outputs": [
        {
          "output_type": "execute_result",
          "data": {
            "text/plain": [
              "     0                                1\n",
              "0  PC0                            Fever\n",
              "1  PC1  Kinesiophobia_physical_exercise\n",
              "2  PC2          Kinesiophobia_pain_stop\n",
              "3  PC3          leg_left_pain_intensity\n",
              "4  PC4                 Duration_of_pain\n",
              "5  PC5          arm_left_pain_intensity\n",
              "6  PC6             Loss_muscle_strength\n",
              "7  PC7                  Coping_strategy\n",
              "8  PC8         leg_right_pain_intensity\n",
              "9  PC9                           Stress"
            ],
            "text/html": [
              "\n",
              "  <div id=\"df-f08c17ce-9279-41dd-92d7-72730265bfb0\">\n",
              "    <div class=\"colab-df-container\">\n",
              "      <div>\n",
              "<style scoped>\n",
              "    .dataframe tbody tr th:only-of-type {\n",
              "        vertical-align: middle;\n",
              "    }\n",
              "\n",
              "    .dataframe tbody tr th {\n",
              "        vertical-align: top;\n",
              "    }\n",
              "\n",
              "    .dataframe thead th {\n",
              "        text-align: right;\n",
              "    }\n",
              "</style>\n",
              "<table border=\"1\" class=\"dataframe\">\n",
              "  <thead>\n",
              "    <tr style=\"text-align: right;\">\n",
              "      <th></th>\n",
              "      <th>0</th>\n",
              "      <th>1</th>\n",
              "    </tr>\n",
              "  </thead>\n",
              "  <tbody>\n",
              "    <tr>\n",
              "      <th>0</th>\n",
              "      <td>PC0</td>\n",
              "      <td>Fever</td>\n",
              "    </tr>\n",
              "    <tr>\n",
              "      <th>1</th>\n",
              "      <td>PC1</td>\n",
              "      <td>Kinesiophobia_physical_exercise</td>\n",
              "    </tr>\n",
              "    <tr>\n",
              "      <th>2</th>\n",
              "      <td>PC2</td>\n",
              "      <td>Kinesiophobia_pain_stop</td>\n",
              "    </tr>\n",
              "    <tr>\n",
              "      <th>3</th>\n",
              "      <td>PC3</td>\n",
              "      <td>leg_left_pain_intensity</td>\n",
              "    </tr>\n",
              "    <tr>\n",
              "      <th>4</th>\n",
              "      <td>PC4</td>\n",
              "      <td>Duration_of_pain</td>\n",
              "    </tr>\n",
              "    <tr>\n",
              "      <th>5</th>\n",
              "      <td>PC5</td>\n",
              "      <td>arm_left_pain_intensity</td>\n",
              "    </tr>\n",
              "    <tr>\n",
              "      <th>6</th>\n",
              "      <td>PC6</td>\n",
              "      <td>Loss_muscle_strength</td>\n",
              "    </tr>\n",
              "    <tr>\n",
              "      <th>7</th>\n",
              "      <td>PC7</td>\n",
              "      <td>Coping_strategy</td>\n",
              "    </tr>\n",
              "    <tr>\n",
              "      <th>8</th>\n",
              "      <td>PC8</td>\n",
              "      <td>leg_right_pain_intensity</td>\n",
              "    </tr>\n",
              "    <tr>\n",
              "      <th>9</th>\n",
              "      <td>PC9</td>\n",
              "      <td>Stress</td>\n",
              "    </tr>\n",
              "  </tbody>\n",
              "</table>\n",
              "</div>\n",
              "      <button class=\"colab-df-convert\" onclick=\"convertToInteractive('df-f08c17ce-9279-41dd-92d7-72730265bfb0')\"\n",
              "              title=\"Convert this dataframe to an interactive table.\"\n",
              "              style=\"display:none;\">\n",
              "        \n",
              "  <svg xmlns=\"http://www.w3.org/2000/svg\" height=\"24px\"viewBox=\"0 0 24 24\"\n",
              "       width=\"24px\">\n",
              "    <path d=\"M0 0h24v24H0V0z\" fill=\"none\"/>\n",
              "    <path d=\"M18.56 5.44l.94 2.06.94-2.06 2.06-.94-2.06-.94-.94-2.06-.94 2.06-2.06.94zm-11 1L8.5 8.5l.94-2.06 2.06-.94-2.06-.94L8.5 2.5l-.94 2.06-2.06.94zm10 10l.94 2.06.94-2.06 2.06-.94-2.06-.94-.94-2.06-.94 2.06-2.06.94z\"/><path d=\"M17.41 7.96l-1.37-1.37c-.4-.4-.92-.59-1.43-.59-.52 0-1.04.2-1.43.59L10.3 9.45l-7.72 7.72c-.78.78-.78 2.05 0 2.83L4 21.41c.39.39.9.59 1.41.59.51 0 1.02-.2 1.41-.59l7.78-7.78 2.81-2.81c.8-.78.8-2.07 0-2.86zM5.41 20L4 18.59l7.72-7.72 1.47 1.35L5.41 20z\"/>\n",
              "  </svg>\n",
              "      </button>\n",
              "      \n",
              "  <style>\n",
              "    .colab-df-container {\n",
              "      display:flex;\n",
              "      flex-wrap:wrap;\n",
              "      gap: 12px;\n",
              "    }\n",
              "\n",
              "    .colab-df-convert {\n",
              "      background-color: #E8F0FE;\n",
              "      border: none;\n",
              "      border-radius: 50%;\n",
              "      cursor: pointer;\n",
              "      display: none;\n",
              "      fill: #1967D2;\n",
              "      height: 32px;\n",
              "      padding: 0 0 0 0;\n",
              "      width: 32px;\n",
              "    }\n",
              "\n",
              "    .colab-df-convert:hover {\n",
              "      background-color: #E2EBFA;\n",
              "      box-shadow: 0px 1px 2px rgba(60, 64, 67, 0.3), 0px 1px 3px 1px rgba(60, 64, 67, 0.15);\n",
              "      fill: #174EA6;\n",
              "    }\n",
              "\n",
              "    [theme=dark] .colab-df-convert {\n",
              "      background-color: #3B4455;\n",
              "      fill: #D2E3FC;\n",
              "    }\n",
              "\n",
              "    [theme=dark] .colab-df-convert:hover {\n",
              "      background-color: #434B5C;\n",
              "      box-shadow: 0px 1px 3px 1px rgba(0, 0, 0, 0.15);\n",
              "      filter: drop-shadow(0px 1px 2px rgba(0, 0, 0, 0.3));\n",
              "      fill: #FFFFFF;\n",
              "    }\n",
              "  </style>\n",
              "\n",
              "      <script>\n",
              "        const buttonEl =\n",
              "          document.querySelector('#df-f08c17ce-9279-41dd-92d7-72730265bfb0 button.colab-df-convert');\n",
              "        buttonEl.style.display =\n",
              "          google.colab.kernel.accessAllowed ? 'block' : 'none';\n",
              "\n",
              "        async function convertToInteractive(key) {\n",
              "          const element = document.querySelector('#df-f08c17ce-9279-41dd-92d7-72730265bfb0');\n",
              "          const dataTable =\n",
              "            await google.colab.kernel.invokeFunction('convertToInteractive',\n",
              "                                                     [key], {});\n",
              "          if (!dataTable) return;\n",
              "\n",
              "          const docLinkHtml = 'Like what you see? Visit the ' +\n",
              "            '<a target=\"_blank\" href=https://colab.research.google.com/notebooks/data_table.ipynb>data table notebook</a>'\n",
              "            + ' to learn more about interactive tables.';\n",
              "          element.innerHTML = '';\n",
              "          dataTable['output_type'] = 'display_data';\n",
              "          await google.colab.output.renderOutput(dataTable, element);\n",
              "          const docLink = document.createElement('div');\n",
              "          docLink.innerHTML = docLinkHtml;\n",
              "          element.appendChild(docLink);\n",
              "        }\n",
              "      </script>\n",
              "    </div>\n",
              "  </div>\n",
              "  "
            ]
          },
          "metadata": {},
          "execution_count": 35
        }
      ],
      "source": [
        "pca_mostimp"
      ]
    },
    {
      "cell_type": "code",
      "execution_count": 36,
      "metadata": {
        "id": "8M48BAirrfla"
      },
      "outputs": [],
      "source": [
        "X_selection_pca = X[[\"Fever\", \"Decreased_mobility\", \"Kinesiophobia_pain_stop\",\"leg_left_pain_intensity\", \"Duration_of_pain\", \"arm_left_pain_intensity\", \"Stress\",\"Coping_strategy\" ]]"
      ]
    },
    {
      "cell_type": "code",
      "execution_count": 37,
      "metadata": {
        "colab": {
          "base_uri": "https://localhost:8080/",
          "height": 468
        },
        "id": "NdzEYBI7sL8-",
        "outputId": "0abccc2e-c8be-43b3-c32a-9ee2d2595490"
      },
      "outputs": [
        {
          "output_type": "execute_result",
          "data": {
            "text/plain": [
              "         Fever  Decreased_mobility  Kinesiophobia_pain_stop  \\\n",
              "0     1.640359            0.702147                -0.378192   \n",
              "1     1.640359           -0.296797                -0.378192   \n",
              "2     1.640359           -0.429990                 0.439210   \n",
              "3     1.640359            0.768743                -2.012998   \n",
              "4     1.640359           -1.828512                -2.012998   \n",
              "...        ...                 ...                      ...   \n",
              "3290 -0.610885            0.635551                 0.439210   \n",
              "3291 -0.610885            0.102781                 0.847912   \n",
              "3292  1.640359           -1.695319                 0.847912   \n",
              "3293 -0.610885           -1.695319                 0.030509   \n",
              "3294  1.640359            0.435762                 0.847912   \n",
              "\n",
              "      leg_left_pain_intensity  Duration_of_pain  arm_left_pain_intensity  \\\n",
              "0                    0.925116          0.535798                 3.708302   \n",
              "1                   -0.812356          0.535798                -0.359123   \n",
              "2                   -0.812356          0.535798                 2.183018   \n",
              "3                   -0.812356         -0.790924                -0.359123   \n",
              "4                   -0.812356          0.188663                -0.359123   \n",
              "...                       ...               ...                      ...   \n",
              "3290                 1.504274          0.535798                -0.359123   \n",
              "3291                 1.504274          0.535798                 2.183018   \n",
              "3292                 0.635537         -1.454286                 1.166162   \n",
              "3293                -0.812356         -1.454286                -0.359123   \n",
              "3294                 1.214695         -0.790924                -0.359123   \n",
              "\n",
              "        Stress  Coping_strategy  \n",
              "0    -1.851972        -1.529941  \n",
              "1     0.539965        -0.756404  \n",
              "2     0.539965         1.177440  \n",
              "3     0.539965        -0.756404  \n",
              "4    -1.851972         0.189502  \n",
              "...        ...              ...  \n",
              "3290  0.539965         0.017134  \n",
              "3291  0.539965         0.790671  \n",
              "3292 -1.851972         0.403902  \n",
              "3293  0.539965        -1.529941  \n",
              "3294  0.539965         0.017134  \n",
              "\n",
              "[3295 rows x 8 columns]"
            ],
            "text/html": [
              "\n",
              "  <div id=\"df-5a21274c-6312-4a10-a000-20d97dfde7d9\">\n",
              "    <div class=\"colab-df-container\">\n",
              "      <div>\n",
              "<style scoped>\n",
              "    .dataframe tbody tr th:only-of-type {\n",
              "        vertical-align: middle;\n",
              "    }\n",
              "\n",
              "    .dataframe tbody tr th {\n",
              "        vertical-align: top;\n",
              "    }\n",
              "\n",
              "    .dataframe thead th {\n",
              "        text-align: right;\n",
              "    }\n",
              "</style>\n",
              "<table border=\"1\" class=\"dataframe\">\n",
              "  <thead>\n",
              "    <tr style=\"text-align: right;\">\n",
              "      <th></th>\n",
              "      <th>Fever</th>\n",
              "      <th>Decreased_mobility</th>\n",
              "      <th>Kinesiophobia_pain_stop</th>\n",
              "      <th>leg_left_pain_intensity</th>\n",
              "      <th>Duration_of_pain</th>\n",
              "      <th>arm_left_pain_intensity</th>\n",
              "      <th>Stress</th>\n",
              "      <th>Coping_strategy</th>\n",
              "    </tr>\n",
              "  </thead>\n",
              "  <tbody>\n",
              "    <tr>\n",
              "      <th>0</th>\n",
              "      <td>1.640359</td>\n",
              "      <td>0.702147</td>\n",
              "      <td>-0.378192</td>\n",
              "      <td>0.925116</td>\n",
              "      <td>0.535798</td>\n",
              "      <td>3.708302</td>\n",
              "      <td>-1.851972</td>\n",
              "      <td>-1.529941</td>\n",
              "    </tr>\n",
              "    <tr>\n",
              "      <th>1</th>\n",
              "      <td>1.640359</td>\n",
              "      <td>-0.296797</td>\n",
              "      <td>-0.378192</td>\n",
              "      <td>-0.812356</td>\n",
              "      <td>0.535798</td>\n",
              "      <td>-0.359123</td>\n",
              "      <td>0.539965</td>\n",
              "      <td>-0.756404</td>\n",
              "    </tr>\n",
              "    <tr>\n",
              "      <th>2</th>\n",
              "      <td>1.640359</td>\n",
              "      <td>-0.429990</td>\n",
              "      <td>0.439210</td>\n",
              "      <td>-0.812356</td>\n",
              "      <td>0.535798</td>\n",
              "      <td>2.183018</td>\n",
              "      <td>0.539965</td>\n",
              "      <td>1.177440</td>\n",
              "    </tr>\n",
              "    <tr>\n",
              "      <th>3</th>\n",
              "      <td>1.640359</td>\n",
              "      <td>0.768743</td>\n",
              "      <td>-2.012998</td>\n",
              "      <td>-0.812356</td>\n",
              "      <td>-0.790924</td>\n",
              "      <td>-0.359123</td>\n",
              "      <td>0.539965</td>\n",
              "      <td>-0.756404</td>\n",
              "    </tr>\n",
              "    <tr>\n",
              "      <th>4</th>\n",
              "      <td>1.640359</td>\n",
              "      <td>-1.828512</td>\n",
              "      <td>-2.012998</td>\n",
              "      <td>-0.812356</td>\n",
              "      <td>0.188663</td>\n",
              "      <td>-0.359123</td>\n",
              "      <td>-1.851972</td>\n",
              "      <td>0.189502</td>\n",
              "    </tr>\n",
              "    <tr>\n",
              "      <th>...</th>\n",
              "      <td>...</td>\n",
              "      <td>...</td>\n",
              "      <td>...</td>\n",
              "      <td>...</td>\n",
              "      <td>...</td>\n",
              "      <td>...</td>\n",
              "      <td>...</td>\n",
              "      <td>...</td>\n",
              "    </tr>\n",
              "    <tr>\n",
              "      <th>3290</th>\n",
              "      <td>-0.610885</td>\n",
              "      <td>0.635551</td>\n",
              "      <td>0.439210</td>\n",
              "      <td>1.504274</td>\n",
              "      <td>0.535798</td>\n",
              "      <td>-0.359123</td>\n",
              "      <td>0.539965</td>\n",
              "      <td>0.017134</td>\n",
              "    </tr>\n",
              "    <tr>\n",
              "      <th>3291</th>\n",
              "      <td>-0.610885</td>\n",
              "      <td>0.102781</td>\n",
              "      <td>0.847912</td>\n",
              "      <td>1.504274</td>\n",
              "      <td>0.535798</td>\n",
              "      <td>2.183018</td>\n",
              "      <td>0.539965</td>\n",
              "      <td>0.790671</td>\n",
              "    </tr>\n",
              "    <tr>\n",
              "      <th>3292</th>\n",
              "      <td>1.640359</td>\n",
              "      <td>-1.695319</td>\n",
              "      <td>0.847912</td>\n",
              "      <td>0.635537</td>\n",
              "      <td>-1.454286</td>\n",
              "      <td>1.166162</td>\n",
              "      <td>-1.851972</td>\n",
              "      <td>0.403902</td>\n",
              "    </tr>\n",
              "    <tr>\n",
              "      <th>3293</th>\n",
              "      <td>-0.610885</td>\n",
              "      <td>-1.695319</td>\n",
              "      <td>0.030509</td>\n",
              "      <td>-0.812356</td>\n",
              "      <td>-1.454286</td>\n",
              "      <td>-0.359123</td>\n",
              "      <td>0.539965</td>\n",
              "      <td>-1.529941</td>\n",
              "    </tr>\n",
              "    <tr>\n",
              "      <th>3294</th>\n",
              "      <td>1.640359</td>\n",
              "      <td>0.435762</td>\n",
              "      <td>0.847912</td>\n",
              "      <td>1.214695</td>\n",
              "      <td>-0.790924</td>\n",
              "      <td>-0.359123</td>\n",
              "      <td>0.539965</td>\n",
              "      <td>0.017134</td>\n",
              "    </tr>\n",
              "  </tbody>\n",
              "</table>\n",
              "<p>3295 rows × 8 columns</p>\n",
              "</div>\n",
              "      <button class=\"colab-df-convert\" onclick=\"convertToInteractive('df-5a21274c-6312-4a10-a000-20d97dfde7d9')\"\n",
              "              title=\"Convert this dataframe to an interactive table.\"\n",
              "              style=\"display:none;\">\n",
              "        \n",
              "  <svg xmlns=\"http://www.w3.org/2000/svg\" height=\"24px\"viewBox=\"0 0 24 24\"\n",
              "       width=\"24px\">\n",
              "    <path d=\"M0 0h24v24H0V0z\" fill=\"none\"/>\n",
              "    <path d=\"M18.56 5.44l.94 2.06.94-2.06 2.06-.94-2.06-.94-.94-2.06-.94 2.06-2.06.94zm-11 1L8.5 8.5l.94-2.06 2.06-.94-2.06-.94L8.5 2.5l-.94 2.06-2.06.94zm10 10l.94 2.06.94-2.06 2.06-.94-2.06-.94-.94-2.06-.94 2.06-2.06.94z\"/><path d=\"M17.41 7.96l-1.37-1.37c-.4-.4-.92-.59-1.43-.59-.52 0-1.04.2-1.43.59L10.3 9.45l-7.72 7.72c-.78.78-.78 2.05 0 2.83L4 21.41c.39.39.9.59 1.41.59.51 0 1.02-.2 1.41-.59l7.78-7.78 2.81-2.81c.8-.78.8-2.07 0-2.86zM5.41 20L4 18.59l7.72-7.72 1.47 1.35L5.41 20z\"/>\n",
              "  </svg>\n",
              "      </button>\n",
              "      \n",
              "  <style>\n",
              "    .colab-df-container {\n",
              "      display:flex;\n",
              "      flex-wrap:wrap;\n",
              "      gap: 12px;\n",
              "    }\n",
              "\n",
              "    .colab-df-convert {\n",
              "      background-color: #E8F0FE;\n",
              "      border: none;\n",
              "      border-radius: 50%;\n",
              "      cursor: pointer;\n",
              "      display: none;\n",
              "      fill: #1967D2;\n",
              "      height: 32px;\n",
              "      padding: 0 0 0 0;\n",
              "      width: 32px;\n",
              "    }\n",
              "\n",
              "    .colab-df-convert:hover {\n",
              "      background-color: #E2EBFA;\n",
              "      box-shadow: 0px 1px 2px rgba(60, 64, 67, 0.3), 0px 1px 3px 1px rgba(60, 64, 67, 0.15);\n",
              "      fill: #174EA6;\n",
              "    }\n",
              "\n",
              "    [theme=dark] .colab-df-convert {\n",
              "      background-color: #3B4455;\n",
              "      fill: #D2E3FC;\n",
              "    }\n",
              "\n",
              "    [theme=dark] .colab-df-convert:hover {\n",
              "      background-color: #434B5C;\n",
              "      box-shadow: 0px 1px 3px 1px rgba(0, 0, 0, 0.15);\n",
              "      filter: drop-shadow(0px 1px 2px rgba(0, 0, 0, 0.3));\n",
              "      fill: #FFFFFF;\n",
              "    }\n",
              "  </style>\n",
              "\n",
              "      <script>\n",
              "        const buttonEl =\n",
              "          document.querySelector('#df-5a21274c-6312-4a10-a000-20d97dfde7d9 button.colab-df-convert');\n",
              "        buttonEl.style.display =\n",
              "          google.colab.kernel.accessAllowed ? 'block' : 'none';\n",
              "\n",
              "        async function convertToInteractive(key) {\n",
              "          const element = document.querySelector('#df-5a21274c-6312-4a10-a000-20d97dfde7d9');\n",
              "          const dataTable =\n",
              "            await google.colab.kernel.invokeFunction('convertToInteractive',\n",
              "                                                     [key], {});\n",
              "          if (!dataTable) return;\n",
              "\n",
              "          const docLinkHtml = 'Like what you see? Visit the ' +\n",
              "            '<a target=\"_blank\" href=https://colab.research.google.com/notebooks/data_table.ipynb>data table notebook</a>'\n",
              "            + ' to learn more about interactive tables.';\n",
              "          element.innerHTML = '';\n",
              "          dataTable['output_type'] = 'display_data';\n",
              "          await google.colab.output.renderOutput(dataTable, element);\n",
              "          const docLink = document.createElement('div');\n",
              "          docLink.innerHTML = docLinkHtml;\n",
              "          element.appendChild(docLink);\n",
              "        }\n",
              "      </script>\n",
              "    </div>\n",
              "  </div>\n",
              "  "
            ]
          },
          "metadata": {},
          "execution_count": 37
        }
      ],
      "source": [
        "X_selection_pca"
      ]
    },
    {
      "cell_type": "code",
      "execution_count": 38,
      "metadata": {
        "id": "t1onXqdLsfzV"
      },
      "outputs": [],
      "source": [
        "# split data into train and test sets\n",
        "from sklearn.model_selection import train_test_split\n",
        "from sklearn.metrics import accuracy_score\n",
        "seed = 7\n",
        "test_size = 0.33\n",
        "X_train, X_test, y_train, y_test = train_test_split(X_selection_pca, y, test_size=test_size, random_state=seed)"
      ]
    },
    {
      "cell_type": "code",
      "execution_count": 39,
      "metadata": {
        "colab": {
          "base_uri": "https://localhost:8080/"
        },
        "id": "tzQ-vxtwnO1U",
        "outputId": "14d99134-f8f9-4d62-95f3-7546e847e171"
      },
      "outputs": [
        {
          "output_type": "execute_result",
          "data": {
            "text/plain": [
              "array([0.16362004, 0.07856586, 0.06288811, 0.05681586, 0.05335111,\n",
              "       0.04997399, 0.04236068, 0.0391678 , 0.03494829, 0.03447694])"
            ]
          },
          "metadata": {},
          "execution_count": 39
        }
      ],
      "source": [
        "pca_model.explained_variance_ratio_"
      ]
    },
    {
      "cell_type": "markdown",
      "metadata": {
        "id": "h-Nor6HZkLAq"
      },
      "source": [
        "###Random forest"
      ]
    },
    {
      "cell_type": "code",
      "execution_count": 40,
      "metadata": {
        "colab": {
          "base_uri": "https://localhost:8080/"
        },
        "id": "SX_2JJBjkLAq",
        "outputId": "0bc3f5e1-9867-40b9-81d1-1360efc871dd"
      },
      "outputs": [
        {
          "output_type": "stream",
          "name": "stdout",
          "text": [
            "Mean Absolute Error: 0.95 degrees.\n"
          ]
        }
      ],
      "source": [
        "# Random  forest\n",
        "from sklearn.ensemble import RandomForestClassifier\n",
        "# Instantiate model with 1000 decision trees\n",
        "rf_model = RandomForestClassifier(n_estimators = 1000, random_state = 42)\n",
        "# Train the model on training data\n",
        "rd_model = rf_model.fit(X_train, y_train)\n",
        "\n",
        "# make predictions for test data\n",
        "y_pred = rf_model.predict(X_test)\n",
        "predictions = [round(value) for value in y_pred]\n",
        "# Calculate the absolute errors\n",
        "errors = abs(predictions - y_test)\n",
        "# Print out the mean absolute error (mae)\n",
        "print('Mean Absolute Error:', round(np.mean(errors), 2), 'degrees.')"
      ]
    },
    {
      "cell_type": "code",
      "execution_count": 41,
      "metadata": {
        "colab": {
          "base_uri": "https://localhost:8080/"
        },
        "id": "g70SNL4QkLAr",
        "outputId": "4c1ff37f-9f05-492a-9523-16f032edc44a"
      },
      "outputs": [
        {
          "output_type": "stream",
          "name": "stdout",
          "text": [
            "Accuracy: 66.91%\n"
          ]
        }
      ],
      "source": [
        "# evaluate predictions\n",
        "from sklearn.metrics import accuracy_score\n",
        "accuracy = accuracy_score(y_test, predictions)\n",
        "print(\"Accuracy: %.2f%%\" % (accuracy * 100.0))"
      ]
    },
    {
      "cell_type": "code",
      "execution_count": 42,
      "metadata": {
        "colab": {
          "base_uri": "https://localhost:8080/"
        },
        "id": "1erOw5OzkLAr",
        "outputId": "d0d52ac2-ac8f-49a7-9178-333368214c26"
      },
      "outputs": [
        {
          "output_type": "execute_result",
          "data": {
            "text/plain": [
              "array([[106,  14,   8,   5,  72],\n",
              "       [ 34, 156,  17,   8,  18],\n",
              "       [ 12,   9, 180,   6,   9],\n",
              "       [  3,   3,   1, 199,   0],\n",
              "       [110,  13,  14,   4,  87]])"
            ]
          },
          "metadata": {},
          "execution_count": 42
        }
      ],
      "source": [
        "#make confusion matrix\n",
        "from sklearn import metrics\n",
        "cnf_matrix = metrics.confusion_matrix(y_test, predictions)\n",
        "cnf_matrix"
      ]
    },
    {
      "cell_type": "code",
      "execution_count": 43,
      "metadata": {
        "colab": {
          "base_uri": "https://localhost:8080/"
        },
        "id": "RSWpRWzAkLAr",
        "outputId": "0a012950-3fc9-41e3-f243-6c14989e19a8"
      },
      "outputs": [
        {
          "output_type": "stream",
          "name": "stdout",
          "text": [
            "              precision    recall  f1-score   support\n",
            "\n",
            "           1       0.40      0.52      0.45       205\n",
            "           2       0.80      0.67      0.73       233\n",
            "           3       0.82      0.83      0.83       216\n",
            "           4       0.90      0.97      0.93       206\n",
            "           5       0.47      0.38      0.42       228\n",
            "\n",
            "    accuracy                           0.67      1088\n",
            "   macro avg       0.68      0.67      0.67      1088\n",
            "weighted avg       0.68      0.67      0.67      1088\n",
            "\n"
          ]
        }
      ],
      "source": [
        "#classification report\n",
        "from sklearn.metrics import classification_report\n",
        "print(classification_report(y_test, predictions))"
      ]
    },
    {
      "cell_type": "markdown",
      "metadata": {
        "id": "dvsp9T4lbKEH"
      },
      "source": [
        "##Recursive feature elimination"
      ]
    },
    {
      "cell_type": "code",
      "execution_count": 44,
      "metadata": {
        "colab": {
          "base_uri": "https://localhost:8080/"
        },
        "id": "XzwjIxqtbNo_",
        "outputId": "04977a36-b378-40dc-eeb2-50da5f86050f"
      },
      "outputs": [
        {
          "output_type": "stream",
          "name": "stdout",
          "text": [
            "Num Features: 10\n",
            "Selected Features: [ True False False False  True False False False False False False False\n",
            "  True False  True False  True False False False False False  True False\n",
            "  True  True  True False False  True]\n",
            "Feature Ranking: [ 1  4 20 14  1 10 11  8 19 16  6 18  1  3  1  5  1 15 12 17 13 21  1  7\n",
            "  1  1  1  2  9  1]\n"
          ]
        }
      ],
      "source": [
        "# Feature Extraction with RFE\n",
        "from pandas import read_csv\n",
        "from sklearn.feature_selection import RFE\n",
        "from sklearn.linear_model import LogisticRegression\n",
        "\n",
        "# feature extraction\n",
        "model = LogisticRegression(solver='lbfgs', max_iter = 500)\n",
        "rfe = RFE(model, n_features_to_select = 10)\n",
        "fit = rfe.fit(X, y)\n",
        "print(\"Num Features: %d\" % fit.n_features_)\n",
        "print(\"Selected Features: %s\" % fit.support_)\n",
        "print(\"Feature Ranking: %s\" % fit.ranking_)"
      ]
    },
    {
      "cell_type": "code",
      "execution_count": 45,
      "metadata": {
        "colab": {
          "base_uri": "https://localhost:8080/"
        },
        "id": "BC0ySgl-q1z-",
        "outputId": "60c9993d-76c4-4ad1-e045-2717a5fd3974"
      },
      "outputs": [
        {
          "output_type": "stream",
          "name": "stdout",
          "text": [
            "Index(['Fever', 'Familiy_history', 'Uses_analgesics', 'Serious_disease',\n",
            "       'Continuous_pain', 'neck_pain_intensity', 'arm_left_pain_intensity',\n",
            "       'arm_right_pain_intensity', 'leg_left_pain_intensity', 'age_ohe'],\n",
            "      dtype='object')\n"
          ]
        }
      ],
      "source": [
        "for feature in fit.support_.nonzero():\n",
        "  print(X.columns[feature])"
      ]
    },
    {
      "cell_type": "code",
      "execution_count": 46,
      "metadata": {
        "colab": {
          "base_uri": "https://localhost:8080/",
          "height": 488
        },
        "id": "wNMR6uy27WtH",
        "outputId": "8f0b7ddd-649d-44fb-e9ed-b648da74f3f9"
      },
      "outputs": [
        {
          "output_type": "execute_result",
          "data": {
            "text/plain": [
              "         Fever  Familiy_history  Uses_analgesics  Serious_disease  \\\n",
              "0     1.640359        -0.587808        -1.131475         1.537495   \n",
              "1     1.640359        -0.587808        -1.131475         1.537495   \n",
              "2     1.640359        -0.587808        -1.131475         1.537495   \n",
              "3     1.640359        -0.587808        -1.131475        -0.652203   \n",
              "4     1.640359        -0.587808        -1.131475         1.537495   \n",
              "...        ...              ...              ...              ...   \n",
              "3290 -0.610885        -0.587808         0.883802        -0.652203   \n",
              "3291 -0.610885        -0.587808         0.883802        -0.652203   \n",
              "3292  1.640359        -0.587808        -1.131475         1.537495   \n",
              "3293 -0.610885        -0.587808        -1.131475        -0.652203   \n",
              "3294  1.640359        -0.587808        -1.131475         1.537495   \n",
              "\n",
              "      Continuous_pain  neck_pain_intensity  arm_left_pain_intensity  \\\n",
              "0            0.171156            -0.577630                 3.708302   \n",
              "1            0.171156             0.507884                -0.359123   \n",
              "2            0.171156            -0.577630                 2.183018   \n",
              "3            0.171156             2.317073                -0.359123   \n",
              "4            0.171156             1.593397                -0.359123   \n",
              "...               ...                  ...                      ...   \n",
              "3290         0.171156             1.231559                -0.359123   \n",
              "3291         0.171156             1.231559                 2.183018   \n",
              "3292         0.171156             1.593397                 1.166162   \n",
              "3293         0.171156            -0.577630                -0.359123   \n",
              "3294         0.171156             2.678911                -0.359123   \n",
              "\n",
              "      arm_right_pain_intensity  leg_left_pain_intensity   age_ohe  \n",
              "0                     3.149029                 0.925116  1.457135  \n",
              "1                     0.643420                -0.812356  0.148549  \n",
              "2                    -0.358824                -0.812356  0.148549  \n",
              "3                    -0.358824                -0.812356 -1.160037  \n",
              "4                     3.149029                -0.812356  0.148549  \n",
              "...                        ...                      ...       ...  \n",
              "3290                 -0.358824                 1.504274 -1.160037  \n",
              "3291                 -0.358824                 1.504274 -1.160037  \n",
              "3292                  2.146785                 0.635537  0.148549  \n",
              "3293                 -0.358824                -0.812356 -1.814330  \n",
              "3294                 -0.358824                 1.214695 -2.468623  \n",
              "\n",
              "[3295 rows x 10 columns]"
            ],
            "text/html": [
              "\n",
              "  <div id=\"df-2e5b6f73-44af-4931-bfbc-6bf22b7116cd\">\n",
              "    <div class=\"colab-df-container\">\n",
              "      <div>\n",
              "<style scoped>\n",
              "    .dataframe tbody tr th:only-of-type {\n",
              "        vertical-align: middle;\n",
              "    }\n",
              "\n",
              "    .dataframe tbody tr th {\n",
              "        vertical-align: top;\n",
              "    }\n",
              "\n",
              "    .dataframe thead th {\n",
              "        text-align: right;\n",
              "    }\n",
              "</style>\n",
              "<table border=\"1\" class=\"dataframe\">\n",
              "  <thead>\n",
              "    <tr style=\"text-align: right;\">\n",
              "      <th></th>\n",
              "      <th>Fever</th>\n",
              "      <th>Familiy_history</th>\n",
              "      <th>Uses_analgesics</th>\n",
              "      <th>Serious_disease</th>\n",
              "      <th>Continuous_pain</th>\n",
              "      <th>neck_pain_intensity</th>\n",
              "      <th>arm_left_pain_intensity</th>\n",
              "      <th>arm_right_pain_intensity</th>\n",
              "      <th>leg_left_pain_intensity</th>\n",
              "      <th>age_ohe</th>\n",
              "    </tr>\n",
              "  </thead>\n",
              "  <tbody>\n",
              "    <tr>\n",
              "      <th>0</th>\n",
              "      <td>1.640359</td>\n",
              "      <td>-0.587808</td>\n",
              "      <td>-1.131475</td>\n",
              "      <td>1.537495</td>\n",
              "      <td>0.171156</td>\n",
              "      <td>-0.577630</td>\n",
              "      <td>3.708302</td>\n",
              "      <td>3.149029</td>\n",
              "      <td>0.925116</td>\n",
              "      <td>1.457135</td>\n",
              "    </tr>\n",
              "    <tr>\n",
              "      <th>1</th>\n",
              "      <td>1.640359</td>\n",
              "      <td>-0.587808</td>\n",
              "      <td>-1.131475</td>\n",
              "      <td>1.537495</td>\n",
              "      <td>0.171156</td>\n",
              "      <td>0.507884</td>\n",
              "      <td>-0.359123</td>\n",
              "      <td>0.643420</td>\n",
              "      <td>-0.812356</td>\n",
              "      <td>0.148549</td>\n",
              "    </tr>\n",
              "    <tr>\n",
              "      <th>2</th>\n",
              "      <td>1.640359</td>\n",
              "      <td>-0.587808</td>\n",
              "      <td>-1.131475</td>\n",
              "      <td>1.537495</td>\n",
              "      <td>0.171156</td>\n",
              "      <td>-0.577630</td>\n",
              "      <td>2.183018</td>\n",
              "      <td>-0.358824</td>\n",
              "      <td>-0.812356</td>\n",
              "      <td>0.148549</td>\n",
              "    </tr>\n",
              "    <tr>\n",
              "      <th>3</th>\n",
              "      <td>1.640359</td>\n",
              "      <td>-0.587808</td>\n",
              "      <td>-1.131475</td>\n",
              "      <td>-0.652203</td>\n",
              "      <td>0.171156</td>\n",
              "      <td>2.317073</td>\n",
              "      <td>-0.359123</td>\n",
              "      <td>-0.358824</td>\n",
              "      <td>-0.812356</td>\n",
              "      <td>-1.160037</td>\n",
              "    </tr>\n",
              "    <tr>\n",
              "      <th>4</th>\n",
              "      <td>1.640359</td>\n",
              "      <td>-0.587808</td>\n",
              "      <td>-1.131475</td>\n",
              "      <td>1.537495</td>\n",
              "      <td>0.171156</td>\n",
              "      <td>1.593397</td>\n",
              "      <td>-0.359123</td>\n",
              "      <td>3.149029</td>\n",
              "      <td>-0.812356</td>\n",
              "      <td>0.148549</td>\n",
              "    </tr>\n",
              "    <tr>\n",
              "      <th>...</th>\n",
              "      <td>...</td>\n",
              "      <td>...</td>\n",
              "      <td>...</td>\n",
              "      <td>...</td>\n",
              "      <td>...</td>\n",
              "      <td>...</td>\n",
              "      <td>...</td>\n",
              "      <td>...</td>\n",
              "      <td>...</td>\n",
              "      <td>...</td>\n",
              "    </tr>\n",
              "    <tr>\n",
              "      <th>3290</th>\n",
              "      <td>-0.610885</td>\n",
              "      <td>-0.587808</td>\n",
              "      <td>0.883802</td>\n",
              "      <td>-0.652203</td>\n",
              "      <td>0.171156</td>\n",
              "      <td>1.231559</td>\n",
              "      <td>-0.359123</td>\n",
              "      <td>-0.358824</td>\n",
              "      <td>1.504274</td>\n",
              "      <td>-1.160037</td>\n",
              "    </tr>\n",
              "    <tr>\n",
              "      <th>3291</th>\n",
              "      <td>-0.610885</td>\n",
              "      <td>-0.587808</td>\n",
              "      <td>0.883802</td>\n",
              "      <td>-0.652203</td>\n",
              "      <td>0.171156</td>\n",
              "      <td>1.231559</td>\n",
              "      <td>2.183018</td>\n",
              "      <td>-0.358824</td>\n",
              "      <td>1.504274</td>\n",
              "      <td>-1.160037</td>\n",
              "    </tr>\n",
              "    <tr>\n",
              "      <th>3292</th>\n",
              "      <td>1.640359</td>\n",
              "      <td>-0.587808</td>\n",
              "      <td>-1.131475</td>\n",
              "      <td>1.537495</td>\n",
              "      <td>0.171156</td>\n",
              "      <td>1.593397</td>\n",
              "      <td>1.166162</td>\n",
              "      <td>2.146785</td>\n",
              "      <td>0.635537</td>\n",
              "      <td>0.148549</td>\n",
              "    </tr>\n",
              "    <tr>\n",
              "      <th>3293</th>\n",
              "      <td>-0.610885</td>\n",
              "      <td>-0.587808</td>\n",
              "      <td>-1.131475</td>\n",
              "      <td>-0.652203</td>\n",
              "      <td>0.171156</td>\n",
              "      <td>-0.577630</td>\n",
              "      <td>-0.359123</td>\n",
              "      <td>-0.358824</td>\n",
              "      <td>-0.812356</td>\n",
              "      <td>-1.814330</td>\n",
              "    </tr>\n",
              "    <tr>\n",
              "      <th>3294</th>\n",
              "      <td>1.640359</td>\n",
              "      <td>-0.587808</td>\n",
              "      <td>-1.131475</td>\n",
              "      <td>1.537495</td>\n",
              "      <td>0.171156</td>\n",
              "      <td>2.678911</td>\n",
              "      <td>-0.359123</td>\n",
              "      <td>-0.358824</td>\n",
              "      <td>1.214695</td>\n",
              "      <td>-2.468623</td>\n",
              "    </tr>\n",
              "  </tbody>\n",
              "</table>\n",
              "<p>3295 rows × 10 columns</p>\n",
              "</div>\n",
              "      <button class=\"colab-df-convert\" onclick=\"convertToInteractive('df-2e5b6f73-44af-4931-bfbc-6bf22b7116cd')\"\n",
              "              title=\"Convert this dataframe to an interactive table.\"\n",
              "              style=\"display:none;\">\n",
              "        \n",
              "  <svg xmlns=\"http://www.w3.org/2000/svg\" height=\"24px\"viewBox=\"0 0 24 24\"\n",
              "       width=\"24px\">\n",
              "    <path d=\"M0 0h24v24H0V0z\" fill=\"none\"/>\n",
              "    <path d=\"M18.56 5.44l.94 2.06.94-2.06 2.06-.94-2.06-.94-.94-2.06-.94 2.06-2.06.94zm-11 1L8.5 8.5l.94-2.06 2.06-.94-2.06-.94L8.5 2.5l-.94 2.06-2.06.94zm10 10l.94 2.06.94-2.06 2.06-.94-2.06-.94-.94-2.06-.94 2.06-2.06.94z\"/><path d=\"M17.41 7.96l-1.37-1.37c-.4-.4-.92-.59-1.43-.59-.52 0-1.04.2-1.43.59L10.3 9.45l-7.72 7.72c-.78.78-.78 2.05 0 2.83L4 21.41c.39.39.9.59 1.41.59.51 0 1.02-.2 1.41-.59l7.78-7.78 2.81-2.81c.8-.78.8-2.07 0-2.86zM5.41 20L4 18.59l7.72-7.72 1.47 1.35L5.41 20z\"/>\n",
              "  </svg>\n",
              "      </button>\n",
              "      \n",
              "  <style>\n",
              "    .colab-df-container {\n",
              "      display:flex;\n",
              "      flex-wrap:wrap;\n",
              "      gap: 12px;\n",
              "    }\n",
              "\n",
              "    .colab-df-convert {\n",
              "      background-color: #E8F0FE;\n",
              "      border: none;\n",
              "      border-radius: 50%;\n",
              "      cursor: pointer;\n",
              "      display: none;\n",
              "      fill: #1967D2;\n",
              "      height: 32px;\n",
              "      padding: 0 0 0 0;\n",
              "      width: 32px;\n",
              "    }\n",
              "\n",
              "    .colab-df-convert:hover {\n",
              "      background-color: #E2EBFA;\n",
              "      box-shadow: 0px 1px 2px rgba(60, 64, 67, 0.3), 0px 1px 3px 1px rgba(60, 64, 67, 0.15);\n",
              "      fill: #174EA6;\n",
              "    }\n",
              "\n",
              "    [theme=dark] .colab-df-convert {\n",
              "      background-color: #3B4455;\n",
              "      fill: #D2E3FC;\n",
              "    }\n",
              "\n",
              "    [theme=dark] .colab-df-convert:hover {\n",
              "      background-color: #434B5C;\n",
              "      box-shadow: 0px 1px 3px 1px rgba(0, 0, 0, 0.15);\n",
              "      filter: drop-shadow(0px 1px 2px rgba(0, 0, 0, 0.3));\n",
              "      fill: #FFFFFF;\n",
              "    }\n",
              "  </style>\n",
              "\n",
              "      <script>\n",
              "        const buttonEl =\n",
              "          document.querySelector('#df-2e5b6f73-44af-4931-bfbc-6bf22b7116cd button.colab-df-convert');\n",
              "        buttonEl.style.display =\n",
              "          google.colab.kernel.accessAllowed ? 'block' : 'none';\n",
              "\n",
              "        async function convertToInteractive(key) {\n",
              "          const element = document.querySelector('#df-2e5b6f73-44af-4931-bfbc-6bf22b7116cd');\n",
              "          const dataTable =\n",
              "            await google.colab.kernel.invokeFunction('convertToInteractive',\n",
              "                                                     [key], {});\n",
              "          if (!dataTable) return;\n",
              "\n",
              "          const docLinkHtml = 'Like what you see? Visit the ' +\n",
              "            '<a target=\"_blank\" href=https://colab.research.google.com/notebooks/data_table.ipynb>data table notebook</a>'\n",
              "            + ' to learn more about interactive tables.';\n",
              "          element.innerHTML = '';\n",
              "          dataTable['output_type'] = 'display_data';\n",
              "          await google.colab.output.renderOutput(dataTable, element);\n",
              "          const docLink = document.createElement('div');\n",
              "          docLink.innerHTML = docLinkHtml;\n",
              "          element.appendChild(docLink);\n",
              "        }\n",
              "      </script>\n",
              "    </div>\n",
              "  </div>\n",
              "  "
            ]
          },
          "metadata": {},
          "execution_count": 46
        }
      ],
      "source": [
        "X_selection_rfe = X[X.columns[feature]]\n",
        "X_selection_rfe"
      ]
    },
    {
      "cell_type": "code",
      "execution_count": 47,
      "metadata": {
        "id": "a5zQT1bjs1SE"
      },
      "outputs": [],
      "source": [
        "# split data into train and test sets\n",
        "seed = 7\n",
        "test_size = 0.33\n",
        "X_train, X_test, y_train, y_test = train_test_split(X_selection_rfe, y, test_size=test_size, random_state=seed)"
      ]
    },
    {
      "cell_type": "markdown",
      "metadata": {
        "id": "jgJouBKhj6uE"
      },
      "source": [
        "###Random forest"
      ]
    },
    {
      "cell_type": "code",
      "execution_count": 48,
      "metadata": {
        "colab": {
          "base_uri": "https://localhost:8080/"
        },
        "id": "lUyghMYMj6uE",
        "outputId": "2fb2d3cc-799d-4b72-8b71-42b25bb77f47"
      },
      "outputs": [
        {
          "output_type": "stream",
          "name": "stdout",
          "text": [
            "Mean Absolute Error: 1.0 degrees.\n"
          ]
        }
      ],
      "source": [
        "# Random  forest\n",
        "from sklearn.ensemble import RandomForestClassifier\n",
        "# Instantiate model with 1000 decision trees\n",
        "rf_model = RandomForestClassifier(n_estimators = 1000, random_state = 42)\n",
        "# Train the model on training data\n",
        "rd_model = rf_model.fit(X_train, y_train)\n",
        "\n",
        "# make predictions for test data\n",
        "y_pred = rf_model.predict(X_test)\n",
        "predictions = [round(value) for value in y_pred]\n",
        "# Calculate the absolute errors\n",
        "errors = abs(predictions - y_test)\n",
        "# Print out the mean absolute error (mae)\n",
        "print('Mean Absolute Error:', round(np.mean(errors), 2), 'degrees.')"
      ]
    },
    {
      "cell_type": "code",
      "execution_count": 49,
      "metadata": {
        "colab": {
          "base_uri": "https://localhost:8080/"
        },
        "id": "HMG3h6TIj6uF",
        "outputId": "b83a5a41-1900-44df-919f-17f0f60ff575"
      },
      "outputs": [
        {
          "output_type": "stream",
          "name": "stdout",
          "text": [
            "Accuracy: 62.50%\n"
          ]
        }
      ],
      "source": [
        "# evaluate predictions\n",
        "from sklearn.metrics import accuracy_score\n",
        "accuracy = accuracy_score(y_test, predictions)\n",
        "print(\"Accuracy: %.2f%%\" % (accuracy * 100.0))"
      ]
    },
    {
      "cell_type": "code",
      "execution_count": 50,
      "metadata": {
        "colab": {
          "base_uri": "https://localhost:8080/"
        },
        "id": "oxjR0ZNHj6uF",
        "outputId": "25e31874-1cab-4a3f-d85a-1924ca587dc3"
      },
      "outputs": [
        {
          "output_type": "execute_result",
          "data": {
            "text/plain": [
              "array([[ 89,  21,   9,   7,  79],\n",
              "       [ 23, 154,  13,   4,  39],\n",
              "       [ 10,  28, 149,  20,   9],\n",
              "       [  1,   6,  11, 186,   2],\n",
              "       [ 87,  19,  15,   5, 102]])"
            ]
          },
          "metadata": {},
          "execution_count": 50
        }
      ],
      "source": [
        "#make confusion matrix\n",
        "from sklearn import metrics\n",
        "cnf_matrix = metrics.confusion_matrix(y_test, predictions)\n",
        "cnf_matrix"
      ]
    },
    {
      "cell_type": "code",
      "execution_count": 51,
      "metadata": {
        "colab": {
          "base_uri": "https://localhost:8080/"
        },
        "id": "eqYIeeE7j6uF",
        "outputId": "8d71a88d-1f5d-47bc-b5ce-2b863348e8d6"
      },
      "outputs": [
        {
          "output_type": "stream",
          "name": "stdout",
          "text": [
            "              precision    recall  f1-score   support\n",
            "\n",
            "           1       0.42      0.43      0.43       205\n",
            "           2       0.68      0.66      0.67       233\n",
            "           3       0.76      0.69      0.72       216\n",
            "           4       0.84      0.90      0.87       206\n",
            "           5       0.44      0.45      0.44       228\n",
            "\n",
            "    accuracy                           0.62      1088\n",
            "   macro avg       0.63      0.63      0.63      1088\n",
            "weighted avg       0.63      0.62      0.62      1088\n",
            "\n"
          ]
        }
      ],
      "source": [
        "#classification report\n",
        "from sklearn.metrics import classification_report\n",
        "print(classification_report(y_test, predictions))"
      ]
    },
    {
      "cell_type": "markdown",
      "metadata": {
        "id": "iVUMLONFZKoj"
      },
      "source": [
        "###XGBoost"
      ]
    },
    {
      "cell_type": "code",
      "execution_count": 52,
      "metadata": {
        "id": "85k5-rroyrvS"
      },
      "outputs": [],
      "source": [
        "from sklearn.model_selection import train_test_split\n",
        "from xgboost import XGBClassifier\n",
        "from sklearn.metrics import accuracy_score"
      ]
    },
    {
      "cell_type": "code",
      "execution_count": 53,
      "metadata": {
        "colab": {
          "base_uri": "https://localhost:8080/"
        },
        "id": "FcSdkQoAyrvS",
        "outputId": "ce1f8b3e-f6f6-4890-9c74-44ebe312d88f"
      },
      "outputs": [
        {
          "output_type": "execute_result",
          "data": {
            "text/plain": [
              "XGBClassifier(objective='multi:softprob')"
            ]
          },
          "metadata": {},
          "execution_count": 53
        }
      ],
      "source": [
        "# fit model no training data\n",
        "model = XGBClassifier()\n",
        "model.fit(X_train, y_train)"
      ]
    },
    {
      "cell_type": "code",
      "execution_count": 54,
      "metadata": {
        "id": "JmUG082QyrvT"
      },
      "outputs": [],
      "source": [
        "# make predictions for test data\n",
        "y_pred = model.predict(X_test)\n",
        "predictions = [round(value) for value in y_pred]"
      ]
    },
    {
      "cell_type": "code",
      "execution_count": 55,
      "metadata": {
        "colab": {
          "base_uri": "https://localhost:8080/"
        },
        "id": "sriR_Co8yrvT",
        "outputId": "dadb0ce3-454b-4dff-e1b4-9089407680eb"
      },
      "outputs": [
        {
          "output_type": "stream",
          "name": "stdout",
          "text": [
            "Accuracy: 56.25%\n"
          ]
        }
      ],
      "source": [
        "# evaluate predictions\n",
        "accuracy = accuracy_score(y_test, predictions)\n",
        "print(\"Accuracy: %.2f%%\" % (accuracy * 100.0))"
      ]
    },
    {
      "cell_type": "code",
      "execution_count": 56,
      "metadata": {
        "colab": {
          "base_uri": "https://localhost:8080/"
        },
        "id": "wqtLd5-cyrvT",
        "outputId": "af42b8f1-d3c2-4001-fd69-f1eb941d2144"
      },
      "outputs": [
        {
          "output_type": "execute_result",
          "data": {
            "text/plain": [
              "array([[106,  22,  10,  13,  54],\n",
              "       [ 41, 143,  10,  11,  28],\n",
              "       [  7,  37, 127,  37,   8],\n",
              "       [  1,   7,  17, 181,   0],\n",
              "       [ 97,  36,  25,  15,  55]])"
            ]
          },
          "metadata": {},
          "execution_count": 56
        }
      ],
      "source": [
        "from sklearn import metrics\n",
        "cnf_matrix = metrics.confusion_matrix(y_test, y_pred)\n",
        "cnf_matrix"
      ]
    },
    {
      "cell_type": "code",
      "execution_count": 57,
      "metadata": {
        "colab": {
          "base_uri": "https://localhost:8080/"
        },
        "id": "g6A5ovf2yrvT",
        "outputId": "c9cd1883-27ca-4e48-b13d-f7af240961d9"
      },
      "outputs": [
        {
          "output_type": "stream",
          "name": "stdout",
          "text": [
            "              precision    recall  f1-score   support\n",
            "\n",
            "           1       0.42      0.52      0.46       205\n",
            "           2       0.58      0.61      0.60       233\n",
            "           3       0.67      0.59      0.63       216\n",
            "           4       0.70      0.88      0.78       206\n",
            "           5       0.38      0.24      0.29       228\n",
            "\n",
            "    accuracy                           0.56      1088\n",
            "   macro avg       0.55      0.57      0.55      1088\n",
            "weighted avg       0.55      0.56      0.55      1088\n",
            "\n"
          ]
        }
      ],
      "source": [
        "from sklearn.metrics import classification_report\n",
        "print(classification_report(y_test, y_pred))"
      ]
    },
    {
      "cell_type": "markdown",
      "metadata": {
        "id": "B5-hG49qyrvU"
      },
      "source": [
        "###K-Fold Cross Validation"
      ]
    },
    {
      "cell_type": "code",
      "execution_count": 58,
      "metadata": {
        "colab": {
          "base_uri": "https://localhost:8080/"
        },
        "id": "WMm30O2qyrvU",
        "outputId": "ce0dc92d-bfc7-4770-aeba-f27e8c3d66db"
      },
      "outputs": [
        {
          "output_type": "stream",
          "name": "stdout",
          "text": [
            "Accuracy: 0.702 (0.026)\n"
          ]
        }
      ],
      "source": [
        "from numpy import mean\n",
        "from numpy import std\n",
        "from sklearn.datasets import make_classification\n",
        "from sklearn.model_selection import KFold\n",
        "from sklearn.model_selection import cross_val_score\n",
        "\n",
        "# prepare the cross-validation procedure\n",
        "cv = KFold(n_splits=10, random_state=1, shuffle=True)\n",
        "\n",
        "# evaluate model\n",
        "scores = cross_val_score(model, X, y, scoring='accuracy', cv=cv, n_jobs=-1)\n",
        "# report performance\n",
        "print('Accuracy: %.3f (%.3f)' % (mean(scores), std(scores)))"
      ]
    },
    {
      "cell_type": "markdown",
      "metadata": {
        "id": "m2VOWN5GbM-C"
      },
      "source": [
        "##Univariate selection"
      ]
    },
    {
      "cell_type": "code",
      "execution_count": 59,
      "metadata": {
        "colab": {
          "base_uri": "https://localhost:8080/"
        },
        "id": "SRn7Qf2SbTuM",
        "outputId": "c84184bc-79fb-4e6c-c04f-a0110ff15fe5"
      },
      "outputs": [
        {
          "output_type": "stream",
          "name": "stdout",
          "text": [
            "[ 26.571  37.697  34.583   9.84   46.114  12.671   8.164  14.58   11.981\n",
            "  22.702  37.1    16.328  17.608  30.099  34.857  24.271  11.637   3.443\n",
            "  25.305   7.013  19.282   8.248  65.12    4.047  22.961  38.883  60.845\n",
            "  66.326  69.221 136.947]\n",
            "[[ 0.536 -0.588 -0.578  3.149  0.925  0.927 -0.7    1.457]\n",
            " [ 0.536 -0.588  0.508  0.643 -0.812  0.062 -0.7    0.149]\n",
            " [ 0.536 -0.588 -0.578 -0.359 -0.812 -0.803 -0.7    0.149]\n",
            " [-0.791 -0.588  2.317 -0.359 -0.812 -0.803 -0.7   -1.16 ]\n",
            " [ 0.189 -0.588  1.593  3.149 -0.812  0.35  -0.7    0.149]]\n"
          ]
        }
      ],
      "source": [
        "# Feature Selection with Univariate Statistical Tests\n",
        "from pandas import read_csv\n",
        "from numpy import set_printoptions\n",
        "from sklearn.feature_selection import SelectKBest\n",
        "from sklearn.feature_selection import f_classif\n",
        "# feature extraction\n",
        "test = SelectKBest(score_func=f_classif, k=8)\n",
        "fit = test.fit(X, y)\n",
        "# summarize scores\n",
        "set_printoptions(precision=3)\n",
        "print(fit.scores_,)\n",
        "features = fit.transform(X)\n",
        "# summarize selected features\n",
        "print(features[0:5,:])"
      ]
    },
    {
      "cell_type": "code",
      "execution_count": 60,
      "metadata": {
        "colab": {
          "base_uri": "https://localhost:8080/"
        },
        "id": "sUH8ivBClLHt",
        "outputId": "44b6e390-2b39-4f04-bdea-768334d53395"
      },
      "outputs": [
        {
          "output_type": "stream",
          "name": "stdout",
          "text": [
            "[ 26.571  37.697  34.583   9.84   46.114  12.671   8.164  14.58   11.981\n",
            "  22.702  37.1    16.328  17.608  30.099  34.857  24.271  11.637   3.443\n",
            "  25.305   7.013  19.282   8.248  65.12    4.047  22.961  38.883  60.845\n",
            "  66.326  69.221 136.947]\n"
          ]
        },
        {
          "output_type": "execute_result",
          "data": {
            "text/plain": [
              "Index(['Duration_of_pain', 'Familiy_history',\n",
              "       'Kinesiophobia_physical_exercise', 'Serious_disease',\n",
              "       'neck_pain_intensity', 'arm_right_pain_intensity',\n",
              "       'leg_left_pain_intensity', 'leg_right_pain_intensity', 'Paidwork',\n",
              "       'age_ohe'],\n",
              "      dtype='object')"
            ]
          },
          "metadata": {},
          "execution_count": 60
        }
      ],
      "source": [
        "#import needed packages\n",
        "from sklearn.datasets import load_digits\n",
        "import pandas as pd\n",
        "from sklearn.feature_selection import SelectKBest, chi2\n",
        "\n",
        "#X, y = load_digits(return_X_y=True)\n",
        "#df = pd.DataFrame(X, columns= ['feaure %s'%i for i in range(X.shape[1])])\n",
        "\n",
        "# feature extraction\n",
        "test = SelectKBest(score_func=f_classif, k=10)\n",
        "fit = test.fit(X, y)\n",
        "# summarize scores\n",
        "set_printoptions(precision=3)\n",
        "print(fit.scores_,)\n",
        "features = fit.transform(X)\n",
        "X.shape\n",
        "X.columns[fit.get_support()]"
      ]
    },
    {
      "cell_type": "code",
      "execution_count": 61,
      "metadata": {
        "colab": {
          "base_uri": "https://localhost:8080/"
        },
        "id": "CgIyjeIVsVFh",
        "outputId": "33326858-c549-4fc8-b554-5439ec4920bb"
      },
      "outputs": [
        {
          "output_type": "stream",
          "name": "stdout",
          "text": [
            "                               Specs       Score\n",
            "29                           age_ohe  136.947406\n",
            "28                          Paidwork   69.220964\n",
            "27          leg_right_pain_intensity   66.325508\n",
            "22               neck_pain_intensity   65.119812\n",
            "26           leg_left_pain_intensity   60.844929\n",
            "4                    Familiy_history   46.114381\n",
            "25          arm_right_pain_intensity   38.882558\n",
            "1                   Duration_of_pain   37.697191\n",
            "10   Kinesiophobia_physical_exercise   37.099847\n",
            "14                   Serious_disease   34.856602\n",
            "2                         Sick_leave   34.582882\n",
            "13              Uses_corticosteroids   30.099144\n",
            "0                              Fever   26.571038\n",
            "18                    Nocturnal_pain   25.304658\n",
            "15                Neurogenic_signals   24.271340\n",
            "24           arm_left_pain_intensity   22.961184\n",
            "9                    Coping_strategy   22.702411\n",
            "20              Loss_muscle_strength   19.281889\n",
            "12                   Uses_analgesics   17.607913\n",
            "11           Kinesiophobia_pain_stop   16.327747\n",
            "7                             Stress   14.579641\n",
            "5                         Depression   12.671179\n",
            "8   Irrational_thoughts_risk_lasting   11.981458\n",
            "16                   Continuous_pain   11.637500\n",
            "3            Earlier_hospitalization    9.839972\n",
            "21                  Failure_symptoms    8.248442\n",
            "6                  Extremely_nervous    8.163796\n",
            "19               Weightloss_per_year    7.013148\n",
            "23           low_back_pain_intensity    4.047113\n",
            "17                Decreased_mobility    3.443431\n"
          ]
        }
      ],
      "source": [
        "from sklearn.datasets import load_digits\n",
        "import pandas as pd\n",
        "from sklearn.feature_selection import SelectKBest, chi2\n",
        "\n",
        "#apply SelectKBest class to extract top 10 best features\n",
        "#bestfeatures = SelectKBest(score_func=chi2, k=10)\n",
        "#fit = bestfeatures.fit(X,y)\n",
        "# feature extraction\n",
        "test = SelectKBest(score_func=f_classif, k=10)\n",
        "fit = test.fit(X, y)\n",
        "\n",
        "dfscores = pd.DataFrame(fit.scores_)\n",
        "dfcolumns = pd.DataFrame(X.columns)\n",
        "#concat two dataframes for better visualization \n",
        "featureScores = pd.concat([dfcolumns,dfscores],axis=1)\n",
        "featureScores.columns = ['Specs','Score']  #naming the dataframe columns\n",
        "print(featureScores.nlargest(30,'Score'))  #print 10 best features"
      ]
    },
    {
      "cell_type": "code",
      "execution_count": 62,
      "metadata": {
        "id": "Hjb2XgtEjhXC"
      },
      "outputs": [],
      "source": [
        "X_selected_univariate = X[X.columns[fit.get_support()]]"
      ]
    },
    {
      "cell_type": "code",
      "execution_count": 64,
      "metadata": {
        "id": "WYOMtA7z-38Y"
      },
      "outputs": [],
      "source": [
        "# split data into train and test sets\n",
        "seed = 7\n",
        "test_size = 0.33\n",
        "X_train, X_test, y_train, y_test = train_test_split(X_selected_univariate, y, test_size=test_size, random_state=seed)"
      ]
    },
    {
      "cell_type": "markdown",
      "metadata": {
        "id": "e_E8Ju2FWdxt"
      },
      "source": [
        "## Feature importance from random forest"
      ]
    },
    {
      "cell_type": "code",
      "execution_count": 65,
      "metadata": {
        "id": "EJ1fp7CkWdxt"
      },
      "outputs": [],
      "source": [
        "from sklearn.model_selection import train_test_split\n",
        "from sklearn.metrics import accuracy_score"
      ]
    },
    {
      "cell_type": "code",
      "execution_count": 66,
      "metadata": {
        "id": "zQRvCZ_YWdxu"
      },
      "outputs": [],
      "source": [
        "# split data into train and test sets\n",
        "seed = 7\n",
        "test_size = 0.33\n",
        "X_train, X_test, y_train, y_test = train_test_split(X, y, test_size=test_size, random_state=seed)"
      ]
    },
    {
      "cell_type": "code",
      "execution_count": 67,
      "metadata": {
        "id": "LfcXs8iQWdxz"
      },
      "outputs": [],
      "source": [
        "# Random  forest\n",
        "from sklearn.ensemble import RandomForestClassifier\n",
        "# Instantiate model with 1000 decision trees\n",
        "rf_model = RandomForestClassifier(n_estimators = 1000, random_state = 42)\n",
        "# Train the model on training data\n",
        "rd_model = rf_model.fit(X_train, y_train)"
      ]
    },
    {
      "cell_type": "code",
      "execution_count": 68,
      "metadata": {
        "colab": {
          "base_uri": "https://localhost:8080/"
        },
        "id": "eHfyoHR8Wdxz",
        "outputId": "a5b6c5c4-1998-4755-d79f-ee54a1c9d047"
      },
      "outputs": [
        {
          "output_type": "stream",
          "name": "stdout",
          "text": [
            "Mean Absolute Error: 0.75 degrees.\n"
          ]
        }
      ],
      "source": [
        "# make predictions for test data\n",
        "y_pred = rf_model.predict(X_test)\n",
        "predictions = [round(value) for value in y_pred]\n",
        "# Calculate the absolute errors\n",
        "errors = abs(predictions - y_test)\n",
        "# Print out the mean absolute error (mae)\n",
        "print('Mean Absolute Error:', round(np.mean(errors), 2), 'degrees.')"
      ]
    },
    {
      "cell_type": "code",
      "execution_count": 69,
      "metadata": {
        "colab": {
          "base_uri": "https://localhost:8080/"
        },
        "id": "EQGN_J1cWdx0",
        "outputId": "8595b1ce-669e-45bd-bc72-87db7ad6d6fc"
      },
      "outputs": [
        {
          "output_type": "stream",
          "name": "stdout",
          "text": [
            "Accuracy: 78.03%\n"
          ]
        }
      ],
      "source": [
        "# evaluate predictions\n",
        "accuracy = accuracy_score(y_test, predictions)\n",
        "print(\"Accuracy: %.2f%%\" % (accuracy * 100.0))"
      ]
    },
    {
      "cell_type": "code",
      "execution_count": 70,
      "metadata": {
        "colab": {
          "base_uri": "https://localhost:8080/"
        },
        "id": "YvXz9p-oWdx0",
        "outputId": "af80f497-87ee-4592-f4ec-03d7a87c8b41"
      },
      "outputs": [
        {
          "output_type": "execute_result",
          "data": {
            "text/plain": [
              "array([[132,   6,   1,   0,  66],\n",
              "       [ 21, 194,   2,   1,  15],\n",
              "       [  4,   0, 211,   1,   0],\n",
              "       [  0,   1,   0, 205,   0],\n",
              "       [104,  13,   2,   2, 107]])"
            ]
          },
          "metadata": {},
          "execution_count": 70
        }
      ],
      "source": [
        "#make confusion matrix\n",
        "from sklearn import metrics\n",
        "cnf_matrix = metrics.confusion_matrix(y_test, predictions)\n",
        "cnf_matrix"
      ]
    },
    {
      "cell_type": "code",
      "execution_count": 71,
      "metadata": {
        "colab": {
          "base_uri": "https://localhost:8080/"
        },
        "id": "DrRfi_hNWdx0",
        "outputId": "e4323052-a090-45b4-b8f4-c74666e70c7c"
      },
      "outputs": [
        {
          "output_type": "stream",
          "name": "stdout",
          "text": [
            "              precision    recall  f1-score   support\n",
            "\n",
            "           1       0.51      0.64      0.57       205\n",
            "           2       0.91      0.83      0.87       233\n",
            "           3       0.98      0.98      0.98       216\n",
            "           4       0.98      1.00      0.99       206\n",
            "           5       0.57      0.47      0.51       228\n",
            "\n",
            "    accuracy                           0.78      1088\n",
            "   macro avg       0.79      0.78      0.78      1088\n",
            "weighted avg       0.79      0.78      0.78      1088\n",
            "\n"
          ]
        }
      ],
      "source": [
        "#classification report\n",
        "from sklearn.metrics import classification_report\n",
        "print(classification_report(y_test, predictions))"
      ]
    },
    {
      "cell_type": "markdown",
      "metadata": {
        "id": "5p947uLzv2qs"
      },
      "source": [
        "###Obtaining feature importance and selecting features"
      ]
    },
    {
      "cell_type": "code",
      "execution_count": 72,
      "metadata": {
        "colab": {
          "base_uri": "https://localhost:8080/",
          "height": 282
        },
        "id": "spVciDlqagnX",
        "outputId": "2af5a938-1cd6-4d0c-a0b1-c660dcd31255"
      },
      "outputs": [
        {
          "output_type": "execute_result",
          "data": {
            "text/plain": [
              "<BarContainer object of 30 artists>"
            ]
          },
          "metadata": {},
          "execution_count": 72
        },
        {
          "output_type": "display_data",
          "data": {
            "text/plain": [
              "<Figure size 432x288 with 1 Axes>"
            ],
            "image/png": "[encoded data removed]"
          },
          "metadata": {
            "needs_background": "light"
          }
        }
      ],
      "source": [
        "# Let's load the packages\n",
        "import numpy as np\n",
        "import pandas as pd\n",
        "from sklearn.datasets import load_boston\n",
        "from sklearn.model_selection import train_test_split\n",
        "from sklearn.ensemble import RandomForestRegressor\n",
        "from sklearn.inspection import permutation_importance\n",
        "#import shap\n",
        "from matplotlib import pyplot as plt\n",
        "plt.barh(X.columns, rf_model.feature_importances_)"
      ]
    },
    {
      "cell_type": "code",
      "execution_count": 73,
      "metadata": {
        "colab": {
          "base_uri": "https://localhost:8080/",
          "height": 314
        },
        "id": "vAF28nO4bCQE",
        "outputId": "27f92407-0132-4772-ca9f-db571ae0ad3d"
      },
      "outputs": [
        {
          "output_type": "execute_result",
          "data": {
            "text/plain": [
              "<Figure size 144x144 with 0 Axes>"
            ]
          },
          "metadata": {},
          "execution_count": 73
        },
        {
          "output_type": "display_data",
          "data": {
            "text/plain": [
              "<Figure size 432x288 with 1 Axes>"
            ],
            "image/png": "[encoded data removed]"
          },
          "metadata": {
            "needs_background": "light"
          }
        },
        {
          "output_type": "display_data",
          "data": {
            "text/plain": [
              "<Figure size 144x144 with 0 Axes>"
            ]
          },
          "metadata": {}
        }
      ],
      "source": [
        "sorted_idx = rf_model.feature_importances_.argsort()\n",
        "plt.barh(X.columns[sorted_idx], rf_model.feature_importances_[sorted_idx])\n",
        "plt.xlabel(\"Random Forest Feature Importance\")\n",
        "plt.figure(figsize=(2, 2))"
      ]
    },
    {
      "cell_type": "code",
      "execution_count": 74,
      "metadata": {
        "colab": {
          "base_uri": "https://localhost:8080/"
        },
        "id": "M5gG_zDDb2Q0",
        "outputId": "850ff002-7f7c-4747-cbd3-d409b377ec65"
      },
      "outputs": [
        {
          "output_type": "execute_result",
          "data": {
            "text/plain": [
              "29                             age_ohe\n",
              "28                   Extremely_nervous\n",
              "27                     Coping_strategy\n",
              "26                  Decreased_mobility\n",
              "25             low_back_pain_intensity\n",
              "24             leg_left_pain_intensity\n",
              "23    Irrational_thoughts_risk_lasting\n",
              "22     Kinesiophobia_physical_exercise\n",
              "21                 Weightloss_per_year\n",
              "20             Kinesiophobia_pain_stop\n",
              "Name: Features, dtype: object"
            ]
          },
          "metadata": {},
          "execution_count": 74
        }
      ],
      "source": [
        "rf_features = pd.DataFrame(X.columns[sorted_idx])\n",
        "rf_scores = pd.DataFrame(rf_model.feature_importances_[sorted_idx])\n",
        "rf_features['Scores'] = rf_scores\n",
        "rf_features['Features']=rf_features[0]\n",
        "rf_features = rf_features.nlargest(10, 'Scores')['Features']\n",
        "rf_features\n"
      ]
    },
    {
      "cell_type": "code",
      "execution_count": 76,
      "metadata": {
        "id": "ZSWaQkgonMpQ"
      },
      "outputs": [],
      "source": [
        "X_selected_rf = X[['age_ohe', 'Decreased_mobility', 'Kinesiophobia_physical_exercise', 'Extremely_nervous', 'Coping_strategy', 'low_back_pain_intensity','Irrational_thoughts_risk_lasting','leg_left_pain_intensity', 'leg_right_pain_intensity', 'Kinesiophobia_pain_stop']]\n"
      ]
    },
    {
      "cell_type": "code",
      "execution_count": 77,
      "metadata": {
        "id": "D7pSGBqWtzWA"
      },
      "outputs": [],
      "source": [
        "#obtaining feature importance using permutation from random forest: (second method to obtain feature importnance)\n",
        "#this is computationally very extensive!!\n",
        "#from sklearn.inspection import permutation_importance\n",
        "#perm_importance = permutation_importance(rf_model, X_test, y_test)\n",
        "#sorted_idx = perm_importance.importances_mean.argsort()\n",
        "#plt.barh(X.columns[sorted_idx], perm_importance.importances_mean[sorted_idx])\n",
        "#plt.xlabel(\"Permutation Importance\")\n"
      ]
    },
    {
      "cell_type": "markdown",
      "metadata": {
        "id": "yyJUUJrov-vs"
      },
      "source": [
        "### Random forest with selected features from Random forest featre importance"
      ]
    },
    {
      "cell_type": "code",
      "execution_count": 78,
      "metadata": {
        "id": "PrE4eZ09pf_x"
      },
      "outputs": [],
      "source": [
        "# split data into train and test sets\n",
        "from sklearn.model_selection import train_test_split\n",
        "seed = 7\n",
        "test_size = 0.33\n",
        "X_train, X_test, y_train, y_test = train_test_split(X_selected_rf, y, test_size=test_size, random_state=seed)"
      ]
    },
    {
      "cell_type": "code",
      "execution_count": 79,
      "metadata": {
        "id": "MzTNVvyprq7r"
      },
      "outputs": [],
      "source": [
        "# Random  forest\n",
        "from sklearn.ensemble import RandomForestClassifier\n",
        "# Instantiate model with 1000 decision trees\n",
        "rf_model = RandomForestClassifier(n_estimators = 1000, random_state = 42)\n",
        "# Train the model on training data\n",
        "rd_model = rf_model.fit(X_train, y_train)"
      ]
    },
    {
      "cell_type": "code",
      "execution_count": 80,
      "metadata": {
        "colab": {
          "base_uri": "https://localhost:8080/"
        },
        "id": "kYzugJgurwxT",
        "outputId": "2997352f-e52a-42ea-fb50-63c815573b83"
      },
      "outputs": [
        {
          "output_type": "stream",
          "name": "stdout",
          "text": [
            "Mean Absolute Error: 0.86 degrees.\n"
          ]
        }
      ],
      "source": [
        "# make predictions for test data\n",
        "y_pred = rf_model.predict(X_test)\n",
        "predictions = [round(value) for value in y_pred]\n",
        "# Calculate the absolute errors\n",
        "errors = abs(predictions - y_test)\n",
        "# Print out the mean absolute error (mae)\n",
        "print('Mean Absolute Error:', round(np.mean(errors), 2), 'degrees.')"
      ]
    },
    {
      "cell_type": "code",
      "execution_count": 81,
      "metadata": {
        "colab": {
          "base_uri": "https://localhost:8080/"
        },
        "id": "46OQDAe0r0of",
        "outputId": "c68e8df9-4657-49e8-9626-76f7374f2998"
      },
      "outputs": [
        {
          "output_type": "stream",
          "name": "stdout",
          "text": [
            "Accuracy: 72.89%\n"
          ]
        }
      ],
      "source": [
        "# evaluate predictions\n",
        "accuracy = accuracy_score(y_test, predictions)\n",
        "print(\"Accuracy: %.2f%%\" % (accuracy * 100.0))"
      ]
    },
    {
      "cell_type": "code",
      "execution_count": 82,
      "metadata": {
        "colab": {
          "base_uri": "https://localhost:8080/"
        },
        "id": "yylLUQxUr33o",
        "outputId": "cc1d0786-0c52-4680-e02d-a1bc608041a9"
      },
      "outputs": [
        {
          "output_type": "execute_result",
          "data": {
            "text/plain": [
              "array([[104,  15,   6,   4,  76],\n",
              "       [ 21, 187,   4,   3,  18],\n",
              "       [ 10,   1, 201,   1,   3],\n",
              "       [  0,   1,   0, 204,   1],\n",
              "       [ 97,  23,   8,   3,  97]])"
            ]
          },
          "metadata": {},
          "execution_count": 82
        }
      ],
      "source": [
        "#make confusion matrix\n",
        "from sklearn import metrics\n",
        "cnf_matrix = metrics.confusion_matrix(y_test, predictions)\n",
        "cnf_matrix"
      ]
    },
    {
      "cell_type": "code",
      "execution_count": 83,
      "metadata": {
        "colab": {
          "base_uri": "https://localhost:8080/"
        },
        "id": "xwg5iItBr6yJ",
        "outputId": "9213cab5-c629-43dd-b6d2-f1b15954395b"
      },
      "outputs": [
        {
          "output_type": "stream",
          "name": "stdout",
          "text": [
            "              precision    recall  f1-score   support\n",
            "\n",
            "           1       0.45      0.51      0.48       205\n",
            "           2       0.82      0.80      0.81       233\n",
            "           3       0.92      0.93      0.92       216\n",
            "           4       0.95      0.99      0.97       206\n",
            "           5       0.50      0.43      0.46       228\n",
            "\n",
            "    accuracy                           0.73      1088\n",
            "   macro avg       0.73      0.73      0.73      1088\n",
            "weighted avg       0.73      0.73      0.73      1088\n",
            "\n"
          ]
        }
      ],
      "source": [
        "#classification report\n",
        "from sklearn.metrics import classification_report\n",
        "print(classification_report(y_test, predictions))"
      ]
    },
    {
      "cell_type": "markdown",
      "metadata": {
        "id": "zENe4P3DTouE"
      },
      "source": [
        "###Decision Tree with random forest top 10 features\n"
      ]
    },
    {
      "cell_type": "code",
      "execution_count": 84,
      "metadata": {
        "id": "zILefyGkTouF"
      },
      "outputs": [],
      "source": [
        "#Decision tree\n",
        "from sklearn.tree import DecisionTreeClassifier\n",
        "# Create Decision Tree classifer object\n",
        "dt_model = DecisionTreeClassifier()\n",
        "# Fit data to Decision Tree Classifer\n",
        "dt_model = dt_model.fit(X_train,y_train)"
      ]
    },
    {
      "cell_type": "code",
      "execution_count": 85,
      "metadata": {
        "id": "BlRAKpWXTouF"
      },
      "outputs": [],
      "source": [
        "#Predict the response for test dataset\n",
        "y_pred = dt_model.predict(X_test)\n",
        "#round values of y_pred\n",
        "dt_predictions = [round(value) for value in y_pred]"
      ]
    },
    {
      "cell_type": "code",
      "execution_count": 86,
      "metadata": {
        "colab": {
          "base_uri": "https://localhost:8080/"
        },
        "id": "FVGuSgvaTouF",
        "outputId": "44a21b61-a66f-4e11-c781-4b38371d178c"
      },
      "outputs": [
        {
          "output_type": "stream",
          "name": "stdout",
          "text": [
            "Accuracy: 61.03%\n"
          ]
        }
      ],
      "source": [
        "# evaluate predictions\n",
        "accuracy = accuracy_score(y_test, dt_predictions)\n",
        "print(\"Accuracy: %.2f%%\" % (accuracy * 100.0))"
      ]
    },
    {
      "cell_type": "code",
      "execution_count": 87,
      "metadata": {
        "colab": {
          "base_uri": "https://localhost:8080/"
        },
        "id": "5YKqWysRTouF",
        "outputId": "898c7f3c-6979-4b2f-cae0-08191dd5a558"
      },
      "outputs": [
        {
          "output_type": "execute_result",
          "data": {
            "text/plain": [
              "array([[ 94,  25,  14,   7,  65],\n",
              "       [ 31, 140,  18,   4,  40],\n",
              "       [ 14,  15, 160,   9,  18],\n",
              "       [  2,   4,   2, 193,   5],\n",
              "       [ 87,  37,  17,  10,  77]])"
            ]
          },
          "metadata": {},
          "execution_count": 87
        }
      ],
      "source": [
        "#make confusion matrix\n",
        "from sklearn import metrics\n",
        "cnf_matrix = metrics.confusion_matrix(y_test, y_pred)\n",
        "cnf_matrix"
      ]
    },
    {
      "cell_type": "code",
      "execution_count": 88,
      "metadata": {
        "colab": {
          "base_uri": "https://localhost:8080/"
        },
        "id": "h8ZkzEvITouF",
        "outputId": "40b22aeb-cbb6-4b5e-8d28-d0af002fe457"
      },
      "outputs": [
        {
          "output_type": "stream",
          "name": "stdout",
          "text": [
            "              precision    recall  f1-score   support\n",
            "\n",
            "           1       0.41      0.46      0.43       205\n",
            "           2       0.63      0.60      0.62       233\n",
            "           3       0.76      0.74      0.75       216\n",
            "           4       0.87      0.94      0.90       206\n",
            "           5       0.38      0.34      0.36       228\n",
            "\n",
            "    accuracy                           0.61      1088\n",
            "   macro avg       0.61      0.61      0.61      1088\n",
            "weighted avg       0.61      0.61      0.61      1088\n",
            "\n"
          ]
        }
      ],
      "source": [
        "#show the performance of the decision tree classification model using the classification_report\n",
        "from sklearn.metrics import classification_report\n",
        "print(classification_report(y_test, y_pred))"
      ]
    },
    {
      "cell_type": "markdown",
      "metadata": {
        "id": "9yZopkWHUxqb"
      },
      "source": [
        "###XGBoost with random forst top ten features"
      ]
    },
    {
      "cell_type": "code",
      "execution_count": 89,
      "metadata": {
        "colab": {
          "base_uri": "https://localhost:8080/"
        },
        "id": "e_89RgB3Uxqd",
        "outputId": "d7319701-109d-480f-e25d-17f934ae26d6"
      },
      "outputs": [
        {
          "output_type": "execute_result",
          "data": {
            "text/plain": [
              "XGBClassifier(objective='multi:softprob')"
            ]
          },
          "metadata": {},
          "execution_count": 89
        }
      ],
      "source": [
        "from xgboost import XGBClassifier\n",
        "# fit model no training data\n",
        "model = XGBClassifier()\n",
        "model.fit(X_train, y_train)"
      ]
    },
    {
      "cell_type": "code",
      "execution_count": 90,
      "metadata": {
        "id": "Ir8ZR_XnUxqd"
      },
      "outputs": [],
      "source": [
        "# make predictions for test data\n",
        "y_pred = model.predict(X_test)\n",
        "predictions = [round(value) for value in y_pred]"
      ]
    },
    {
      "cell_type": "code",
      "execution_count": 91,
      "metadata": {
        "colab": {
          "base_uri": "https://localhost:8080/"
        },
        "id": "i1w5SrHYUxqd",
        "outputId": "06bcc3f3-f54c-4cad-c01e-37719ff16b94"
      },
      "outputs": [
        {
          "output_type": "stream",
          "name": "stdout",
          "text": [
            "Accuracy: 65.26%\n"
          ]
        }
      ],
      "source": [
        "# evaluate predictions\n",
        "accuracy = accuracy_score(y_test, predictions)\n",
        "print(\"Accuracy: %.2f%%\" % (accuracy * 100.0))"
      ]
    },
    {
      "cell_type": "code",
      "execution_count": 92,
      "metadata": {
        "colab": {
          "base_uri": "https://localhost:8080/"
        },
        "id": "H5qPEatRUxqd",
        "outputId": "3c4d2a77-e31f-466c-d572-deda6661da81"
      },
      "outputs": [
        {
          "output_type": "execute_result",
          "data": {
            "text/plain": [
              "array([[105,  20,   6,  11,  63],\n",
              "       [ 32, 150,  15,  14,  22],\n",
              "       [  9,  15, 180,   5,   7],\n",
              "       [  1,   7,   0, 198,   0],\n",
              "       [102,  29,  11,   9,  77]])"
            ]
          },
          "metadata": {},
          "execution_count": 92
        }
      ],
      "source": [
        "from sklearn import metrics\n",
        "cnf_matrix = metrics.confusion_matrix(y_test, y_pred)\n",
        "cnf_matrix"
      ]
    },
    {
      "cell_type": "code",
      "execution_count": 93,
      "metadata": {
        "colab": {
          "base_uri": "https://localhost:8080/"
        },
        "id": "8CKDk3tdUxqd",
        "outputId": "4a41d336-4bf0-463b-9cdb-376a1c669817"
      },
      "outputs": [
        {
          "output_type": "stream",
          "name": "stdout",
          "text": [
            "              precision    recall  f1-score   support\n",
            "\n",
            "           1       0.42      0.51      0.46       205\n",
            "           2       0.68      0.64      0.66       233\n",
            "           3       0.85      0.83      0.84       216\n",
            "           4       0.84      0.96      0.89       206\n",
            "           5       0.46      0.34      0.39       228\n",
            "\n",
            "    accuracy                           0.65      1088\n",
            "   macro avg       0.65      0.66      0.65      1088\n",
            "weighted avg       0.65      0.65      0.65      1088\n",
            "\n"
          ]
        }
      ],
      "source": [
        "from sklearn.metrics import classification_report\n",
        "print(classification_report(y_test, y_pred))"
      ]
    },
    {
      "cell_type": "markdown",
      "metadata": {
        "id": "JDWhDBDgTouF"
      },
      "source": [
        "###K Fold cross validation\n"
      ]
    },
    {
      "cell_type": "code",
      "execution_count": 94,
      "metadata": {
        "colab": {
          "base_uri": "https://localhost:8080/"
        },
        "id": "gfuaSGUITouF",
        "outputId": "ef335507-4764-4ef5-9f86-6b2513f92182"
      },
      "outputs": [
        {
          "output_type": "stream",
          "name": "stdout",
          "text": [
            "Accuracy: 0.662 (0.015)\n"
          ]
        }
      ],
      "source": [
        "from numpy import mean\n",
        "from numpy import std\n",
        "from sklearn.datasets import make_classification\n",
        "from sklearn.model_selection import KFold\n",
        "from sklearn.model_selection import cross_val_score\n",
        "\n",
        "# prepare the cross-validation procedure\n",
        "cv = KFold(n_splits=10, random_state=1, shuffle=True)\n",
        "\n",
        "# evaluate model\n",
        "scores = cross_val_score(dt_model, X, y, scoring='accuracy', cv=cv, n_jobs=-1)\n",
        "# report performance\n",
        "print('Accuracy: %.3f (%.3f)' % (mean(scores), std(scores)))"
      ]
    },
    {
      "cell_type": "markdown",
      "metadata": {
        "id": "eUij1Mr1bVQQ"
      },
      "source": [
        "#Final Feature selection\n"
      ]
    },
    {
      "cell_type": "code",
      "execution_count": 95,
      "metadata": {
        "id": "knBfltuo9aUz"
      },
      "outputs": [],
      "source": [
        "final_selection = pd.DataFrame(['Duration_of_pain', 'Sick_leave', 'Familiy_history',\n",
        "       'Kinesiophobia_physical_exercise', 'neck_pain_intensity',\n",
        "       'arm_right_pain_intensity', 'leg_left_pain_intensity',\n",
        "       'leg_right_pain_intensity', 'Paidwork', 'age_ohe','Fever', 'Familiy_history', 'Uses_analgesics', 'Serious_disease',\n",
        "       'Continuous_pain', 'neck_pain_intensity', 'arm_left_pain_intensity',\n",
        "       'arm_right_pain_intensity', 'leg_left_pain_intensity', 'age_ohe','Uses_corticosteroids', 'Serious_disease', 'neck_pain_intensity',\n",
        "       'Neurogenic_signals', 'Kinesiophobia_physical_exercise', 'age_ohe',\n",
        "       'Nocturnal_pain', 'Paidwork', 'leg_left_pain_intensity',\n",
        "       'Extremely_nervous'])"
      ]
    },
    {
      "cell_type": "code",
      "execution_count": 96,
      "metadata": {
        "colab": {
          "base_uri": "https://localhost:8080/",
          "height": 645
        },
        "id": "RvjuR6P--mOE",
        "outputId": "30aab4e3-5f56-462d-88d0-ab2ef45d98fc"
      },
      "outputs": [
        {
          "output_type": "execute_result",
          "data": {
            "text/plain": [
              "    index                                0\n",
              "0       0                 Duration_of_pain\n",
              "1       1                       Sick_leave\n",
              "2       2                  Familiy_history\n",
              "3       3  Kinesiophobia_physical_exercise\n",
              "4       4              neck_pain_intensity\n",
              "5       5         arm_right_pain_intensity\n",
              "6       6          leg_left_pain_intensity\n",
              "7       7         leg_right_pain_intensity\n",
              "8       8                         Paidwork\n",
              "9       9                          age_ohe\n",
              "10     10                            Fever\n",
              "11     12                  Uses_analgesics\n",
              "12     13                  Serious_disease\n",
              "13     14                  Continuous_pain\n",
              "14     16          arm_left_pain_intensity\n",
              "15     20             Uses_corticosteroids\n",
              "16     23               Neurogenic_signals\n",
              "17     26                   Nocturnal_pain\n",
              "18     29                Extremely_nervous"
            ],
            "text/html": [
              "\n",
              "  <div id=\"df-291e1a95-82c0-4e8f-87f1-a58e87e1890d\">\n",
              "    <div class=\"colab-df-container\">\n",
              "      <div>\n",
              "<style scoped>\n",
              "    .dataframe tbody tr th:only-of-type {\n",
              "        vertical-align: middle;\n",
              "    }\n",
              "\n",
              "    .dataframe tbody tr th {\n",
              "        vertical-align: top;\n",
              "    }\n",
              "\n",
              "    .dataframe thead th {\n",
              "        text-align: right;\n",
              "    }\n",
              "</style>\n",
              "<table border=\"1\" class=\"dataframe\">\n",
              "  <thead>\n",
              "    <tr style=\"text-align: right;\">\n",
              "      <th></th>\n",
              "      <th>index</th>\n",
              "      <th>0</th>\n",
              "    </tr>\n",
              "  </thead>\n",
              "  <tbody>\n",
              "    <tr>\n",
              "      <th>0</th>\n",
              "      <td>0</td>\n",
              "      <td>Duration_of_pain</td>\n",
              "    </tr>\n",
              "    <tr>\n",
              "      <th>1</th>\n",
              "      <td>1</td>\n",
              "      <td>Sick_leave</td>\n",
              "    </tr>\n",
              "    <tr>\n",
              "      <th>2</th>\n",
              "      <td>2</td>\n",
              "      <td>Familiy_history</td>\n",
              "    </tr>\n",
              "    <tr>\n",
              "      <th>3</th>\n",
              "      <td>3</td>\n",
              "      <td>Kinesiophobia_physical_exercise</td>\n",
              "    </tr>\n",
              "    <tr>\n",
              "      <th>4</th>\n",
              "      <td>4</td>\n",
              "      <td>neck_pain_intensity</td>\n",
              "    </tr>\n",
              "    <tr>\n",
              "      <th>5</th>\n",
              "      <td>5</td>\n",
              "      <td>arm_right_pain_intensity</td>\n",
              "    </tr>\n",
              "    <tr>\n",
              "      <th>6</th>\n",
              "      <td>6</td>\n",
              "      <td>leg_left_pain_intensity</td>\n",
              "    </tr>\n",
              "    <tr>\n",
              "      <th>7</th>\n",
              "      <td>7</td>\n",
              "      <td>leg_right_pain_intensity</td>\n",
              "    </tr>\n",
              "    <tr>\n",
              "      <th>8</th>\n",
              "      <td>8</td>\n",
              "      <td>Paidwork</td>\n",
              "    </tr>\n",
              "    <tr>\n",
              "      <th>9</th>\n",
              "      <td>9</td>\n",
              "      <td>age_ohe</td>\n",
              "    </tr>\n",
              "    <tr>\n",
              "      <th>10</th>\n",
              "      <td>10</td>\n",
              "      <td>Fever</td>\n",
              "    </tr>\n",
              "    <tr>\n",
              "      <th>11</th>\n",
              "      <td>12</td>\n",
              "      <td>Uses_analgesics</td>\n",
              "    </tr>\n",
              "    <tr>\n",
              "      <th>12</th>\n",
              "      <td>13</td>\n",
              "      <td>Serious_disease</td>\n",
              "    </tr>\n",
              "    <tr>\n",
              "      <th>13</th>\n",
              "      <td>14</td>\n",
              "      <td>Continuous_pain</td>\n",
              "    </tr>\n",
              "    <tr>\n",
              "      <th>14</th>\n",
              "      <td>16</td>\n",
              "      <td>arm_left_pain_intensity</td>\n",
              "    </tr>\n",
              "    <tr>\n",
              "      <th>15</th>\n",
              "      <td>20</td>\n",
              "      <td>Uses_corticosteroids</td>\n",
              "    </tr>\n",
              "    <tr>\n",
              "      <th>16</th>\n",
              "      <td>23</td>\n",
              "      <td>Neurogenic_signals</td>\n",
              "    </tr>\n",
              "    <tr>\n",
              "      <th>17</th>\n",
              "      <td>26</td>\n",
              "      <td>Nocturnal_pain</td>\n",
              "    </tr>\n",
              "    <tr>\n",
              "      <th>18</th>\n",
              "      <td>29</td>\n",
              "      <td>Extremely_nervous</td>\n",
              "    </tr>\n",
              "  </tbody>\n",
              "</table>\n",
              "</div>\n",
              "      <button class=\"colab-df-convert\" onclick=\"convertToInteractive('df-291e1a95-82c0-4e8f-87f1-a58e87e1890d')\"\n",
              "              title=\"Convert this dataframe to an interactive table.\"\n",
              "              style=\"display:none;\">\n",
              "        \n",
              "  <svg xmlns=\"http://www.w3.org/2000/svg\" height=\"24px\"viewBox=\"0 0 24 24\"\n",
              "       width=\"24px\">\n",
              "    <path d=\"M0 0h24v24H0V0z\" fill=\"none\"/>\n",
              "    <path d=\"M18.56 5.44l.94 2.06.94-2.06 2.06-.94-2.06-.94-.94-2.06-.94 2.06-2.06.94zm-11 1L8.5 8.5l.94-2.06 2.06-.94-2.06-.94L8.5 2.5l-.94 2.06-2.06.94zm10 10l.94 2.06.94-2.06 2.06-.94-2.06-.94-.94-2.06-.94 2.06-2.06.94z\"/><path d=\"M17.41 7.96l-1.37-1.37c-.4-.4-.92-.59-1.43-.59-.52 0-1.04.2-1.43.59L10.3 9.45l-7.72 7.72c-.78.78-.78 2.05 0 2.83L4 21.41c.39.39.9.59 1.41.59.51 0 1.02-.2 1.41-.59l7.78-7.78 2.81-2.81c.8-.78.8-2.07 0-2.86zM5.41 20L4 18.59l7.72-7.72 1.47 1.35L5.41 20z\"/>\n",
              "  </svg>\n",
              "      </button>\n",
              "      \n",
              "  <style>\n",
              "    .colab-df-container {\n",
              "      display:flex;\n",
              "      flex-wrap:wrap;\n",
              "      gap: 12px;\n",
              "    }\n",
              "\n",
              "    .colab-df-convert {\n",
              "      background-color: #E8F0FE;\n",
              "      border: none;\n",
              "      border-radius: 50%;\n",
              "      cursor: pointer;\n",
              "      display: none;\n",
              "      fill: #1967D2;\n",
              "      height: 32px;\n",
              "      padding: 0 0 0 0;\n",
              "      width: 32px;\n",
              "    }\n",
              "\n",
              "    .colab-df-convert:hover {\n",
              "      background-color: #E2EBFA;\n",
              "      box-shadow: 0px 1px 2px rgba(60, 64, 67, 0.3), 0px 1px 3px 1px rgba(60, 64, 67, 0.15);\n",
              "      fill: #174EA6;\n",
              "    }\n",
              "\n",
              "    [theme=dark] .colab-df-convert {\n",
              "      background-color: #3B4455;\n",
              "      fill: #D2E3FC;\n",
              "    }\n",
              "\n",
              "    [theme=dark] .colab-df-convert:hover {\n",
              "      background-color: #434B5C;\n",
              "      box-shadow: 0px 1px 3px 1px rgba(0, 0, 0, 0.15);\n",
              "      filter: drop-shadow(0px 1px 2px rgba(0, 0, 0, 0.3));\n",
              "      fill: #FFFFFF;\n",
              "    }\n",
              "  </style>\n",
              "\n",
              "      <script>\n",
              "        const buttonEl =\n",
              "          document.querySelector('#df-291e1a95-82c0-4e8f-87f1-a58e87e1890d button.colab-df-convert');\n",
              "        buttonEl.style.display =\n",
              "          google.colab.kernel.accessAllowed ? 'block' : 'none';\n",
              "\n",
              "        async function convertToInteractive(key) {\n",
              "          const element = document.querySelector('#df-291e1a95-82c0-4e8f-87f1-a58e87e1890d');\n",
              "          const dataTable =\n",
              "            await google.colab.kernel.invokeFunction('convertToInteractive',\n",
              "                                                     [key], {});\n",
              "          if (!dataTable) return;\n",
              "\n",
              "          const docLinkHtml = 'Like what you see? Visit the ' +\n",
              "            '<a target=\"_blank\" href=https://colab.research.google.com/notebooks/data_table.ipynb>data table notebook</a>'\n",
              "            + ' to learn more about interactive tables.';\n",
              "          element.innerHTML = '';\n",
              "          dataTable['output_type'] = 'display_data';\n",
              "          await google.colab.output.renderOutput(dataTable, element);\n",
              "          const docLink = document.createElement('div');\n",
              "          docLink.innerHTML = docLinkHtml;\n",
              "          element.appendChild(docLink);\n",
              "        }\n",
              "      </script>\n",
              "    </div>\n",
              "  </div>\n",
              "  "
            ]
          },
          "metadata": {},
          "execution_count": 96
        }
      ],
      "source": [
        "final_selection = final_selection.drop_duplicates().reset_index()\n",
        "final_selection"
      ]
    },
    {
      "cell_type": "markdown",
      "metadata": {
        "id": "4lepQGogSHYB"
      },
      "source": [
        "# Model Comparison for classification on 5 classes"
      ]
    },
    {
      "cell_type": "code",
      "execution_count": 97,
      "metadata": {
        "id": "mbPS7YjtkpK2"
      },
      "outputs": [],
      "source": [
        "from sklearn.model_selection import train_test_split\n",
        "from sklearn.metrics import accuracy_score"
      ]
    },
    {
      "cell_type": "code",
      "execution_count": 98,
      "metadata": {
        "id": "nYaibXNWkioa"
      },
      "outputs": [],
      "source": [
        "# split data into train and test sets\n",
        "seed = 7\n",
        "test_size = 0.33\n",
        "X_train, X_test, y_train, y_test = train_test_split(X, y, test_size=test_size, random_state=seed)"
      ]
    },
    {
      "cell_type": "markdown",
      "metadata": {
        "id": "q0elhH6PkkMl"
      },
      "source": [
        "##XGBoost"
      ]
    },
    {
      "cell_type": "code",
      "execution_count": 99,
      "metadata": {
        "colab": {
          "base_uri": "https://localhost:8080/"
        },
        "id": "bN-C1JZOksfL",
        "outputId": "787d59d7-03bc-4593-ef1e-917e0983e91c"
      },
      "outputs": [
        {
          "output_type": "execute_result",
          "data": {
            "text/plain": [
              "XGBClassifier(n_estimators=200, objective='multi:softprob')"
            ]
          },
          "metadata": {},
          "execution_count": 99
        }
      ],
      "source": [
        "from xgboost import XGBClassifier\n",
        "# fit model no training data\n",
        "model = XGBClassifier(n_estimators = 200)\n",
        "model.fit(X_train, y_train)"
      ]
    },
    {
      "cell_type": "code",
      "execution_count": 100,
      "metadata": {
        "id": "T-TpmXFAkoFg"
      },
      "outputs": [],
      "source": [
        "# make predictions for test data\n",
        "y_pred = model.predict(X_test)\n",
        "predictions = [round(value) for value in y_pred]"
      ]
    },
    {
      "cell_type": "code",
      "execution_count": 101,
      "metadata": {
        "colab": {
          "base_uri": "https://localhost:8080/"
        },
        "id": "vJY9ZqTfk-vw",
        "outputId": "a3737be5-18c6-4869-87cc-7a145030004f"
      },
      "outputs": [
        {
          "output_type": "stream",
          "name": "stdout",
          "text": [
            "Accuracy: 72.33%\n"
          ]
        }
      ],
      "source": [
        "# evaluate predictions\n",
        "accuracy = accuracy_score(y_test, predictions)\n",
        "print(\"Accuracy: %.2f%%\" % (accuracy * 100.0))"
      ]
    },
    {
      "cell_type": "code",
      "execution_count": 102,
      "metadata": {
        "colab": {
          "base_uri": "https://localhost:8080/"
        },
        "id": "4-Re8hGlk_If",
        "outputId": "30382da4-a769-4052-f1af-73508f6a9335"
      },
      "outputs": [
        {
          "output_type": "execute_result",
          "data": {
            "text/plain": [
              "array([[112,  12,   4,   1,  76],\n",
              "       [ 26, 167,   9,   2,  29],\n",
              "       [  8,   2, 200,   1,   5],\n",
              "       [  3,   0,   0, 203,   0],\n",
              "       [ 95,  19,   6,   3, 105]])"
            ]
          },
          "metadata": {},
          "execution_count": 102
        }
      ],
      "source": [
        "from sklearn import metrics\n",
        "cnf_matrix = metrics.confusion_matrix(y_test, y_pred)\n",
        "cnf_matrix"
      ]
    },
    {
      "cell_type": "code",
      "execution_count": 103,
      "metadata": {
        "colab": {
          "base_uri": "https://localhost:8080/"
        },
        "id": "gswIa0galTLr",
        "outputId": "5c743e65-074b-413e-8fb8-38cebb8fbead"
      },
      "outputs": [
        {
          "output_type": "stream",
          "name": "stdout",
          "text": [
            "              precision    recall  f1-score   support\n",
            "\n",
            "           1       0.46      0.55      0.50       205\n",
            "           2       0.83      0.72      0.77       233\n",
            "           3       0.91      0.93      0.92       216\n",
            "           4       0.97      0.99      0.98       206\n",
            "           5       0.49      0.46      0.47       228\n",
            "\n",
            "    accuracy                           0.72      1088\n",
            "   macro avg       0.73      0.73      0.73      1088\n",
            "weighted avg       0.73      0.72      0.73      1088\n",
            "\n"
          ]
        }
      ],
      "source": [
        "from sklearn.metrics import classification_report\n",
        "print(classification_report(y_test, y_pred))"
      ]
    },
    {
      "cell_type": "markdown",
      "metadata": {
        "id": "4LzA5GvpWsBH"
      },
      "source": [
        "###K-Fold Cross Validation"
      ]
    },
    {
      "cell_type": "code",
      "execution_count": 104,
      "metadata": {
        "colab": {
          "base_uri": "https://localhost:8080/"
        },
        "id": "h6gSx267li9D",
        "outputId": "ba1d4f01-0c0a-45d2-8751-ea3af4e9b059"
      },
      "outputs": [
        {
          "output_type": "stream",
          "name": "stdout",
          "text": [
            "Accuracy: 0.734 (0.020)\n"
          ]
        }
      ],
      "source": [
        "from numpy import mean\n",
        "from numpy import std\n",
        "from sklearn.datasets import make_classification\n",
        "from sklearn.model_selection import KFold\n",
        "from sklearn.model_selection import cross_val_score\n",
        "\n",
        "# prepare the cross-validation procedure\n",
        "cv = KFold(n_splits=10, random_state=1, shuffle=True)\n",
        "\n",
        "# evaluate model\n",
        "scores = cross_val_score(model, X, y, scoring='accuracy', cv=cv, n_jobs=-1)\n",
        "# report performance\n",
        "print('Accuracy: %.3f (%.3f)' % (mean(scores), std(scores)))"
      ]
    },
    {
      "cell_type": "markdown",
      "metadata": {
        "id": "YM6uZMmMnlx7"
      },
      "source": [
        "##Logistic Regression"
      ]
    },
    {
      "cell_type": "code",
      "execution_count": 106,
      "metadata": {
        "id": "JxtYGpJwnp5W"
      },
      "outputs": [],
      "source": [
        "#Logistic Regression\n",
        "from sklearn.linear_model import LogisticRegression\n",
        "# instantiate the model (using the default parameters)\n",
        "logreg = LogisticRegression()\n",
        "# fit the model with data (Train)\n",
        "lr_model = logreg.fit(X_train,y_train)"
      ]
    },
    {
      "cell_type": "code",
      "execution_count": 107,
      "metadata": {
        "id": "JxEYBZwYpxb5"
      },
      "outputs": [],
      "source": [
        "#make predictions using test data\n",
        "y_pred=logreg.predict(X_test)\n",
        "#round values of y_pred\n",
        "lr_predictions = [round(value) for value in y_pred]"
      ]
    },
    {
      "cell_type": "code",
      "execution_count": 108,
      "metadata": {
        "colab": {
          "base_uri": "https://localhost:8080/"
        },
        "id": "R6rnlsf5qNeh",
        "outputId": "66e6874a-b8e3-42d7-82e7-089631880507"
      },
      "outputs": [
        {
          "output_type": "stream",
          "name": "stdout",
          "text": [
            "Accuracy: 51.10%\n"
          ]
        }
      ],
      "source": [
        "# evaluate predictions\n",
        "accuracy = accuracy_score(y_test, lr_predictions)\n",
        "print(\"Accuracy: %.2f%%\" % (accuracy * 100.0))"
      ]
    },
    {
      "cell_type": "code",
      "execution_count": 109,
      "metadata": {
        "colab": {
          "base_uri": "https://localhost:8080/"
        },
        "id": "nA8gmfA2qgop",
        "outputId": "96d2fadb-745c-428a-be1d-7b62a17442ac"
      },
      "outputs": [
        {
          "output_type": "execute_result",
          "data": {
            "text/plain": [
              "array([[ 60,  57,  34,  30,  24],\n",
              "       [ 34, 128,  20,  19,  32],\n",
              "       [ 18,  11, 134,  32,  21],\n",
              "       [  1,   5,   7, 191,   2],\n",
              "       [ 45,  58,  54,  28,  43]])"
            ]
          },
          "metadata": {},
          "execution_count": 109
        }
      ],
      "source": [
        "#make confusion matrix\n",
        "from sklearn import metrics\n",
        "cnf_matrix = metrics.confusion_matrix(y_test, y_pred)\n",
        "cnf_matrix"
      ]
    },
    {
      "cell_type": "code",
      "execution_count": 110,
      "metadata": {
        "colab": {
          "base_uri": "https://localhost:8080/"
        },
        "id": "OsFCBQLKrg83",
        "outputId": "9172d8ba-9781-4a61-e9c5-25cc2d0e16ce"
      },
      "outputs": [
        {
          "output_type": "stream",
          "name": "stdout",
          "text": [
            "              precision    recall  f1-score   support\n",
            "\n",
            "           1       0.38      0.29      0.33       205\n",
            "           2       0.49      0.55      0.52       233\n",
            "           3       0.54      0.62      0.58       216\n",
            "           4       0.64      0.93      0.75       206\n",
            "           5       0.35      0.19      0.25       228\n",
            "\n",
            "    accuracy                           0.51      1088\n",
            "   macro avg       0.48      0.52      0.49      1088\n",
            "weighted avg       0.48      0.51      0.48      1088\n",
            "\n"
          ]
        }
      ],
      "source": [
        "#show the performance of the logistic regression classification model using the classification_report\n",
        "from sklearn.metrics import classification_report\n",
        "print(classification_report(y_test, y_pred))"
      ]
    },
    {
      "cell_type": "markdown",
      "metadata": {
        "id": "3TW77KEXqyfD"
      },
      "source": [
        "###K Fold cross validation"
      ]
    },
    {
      "cell_type": "code",
      "execution_count": 111,
      "metadata": {
        "colab": {
          "base_uri": "https://localhost:8080/"
        },
        "id": "REuGfs0Uq2zk",
        "outputId": "23015aa7-7044-42ea-8a27-67509b1e3291"
      },
      "outputs": [
        {
          "output_type": "stream",
          "name": "stdout",
          "text": [
            "Accuracy: 0.510 (0.025)\n"
          ]
        }
      ],
      "source": [
        "from numpy import mean\n",
        "from numpy import std\n",
        "from sklearn.datasets import make_classification\n",
        "from sklearn.model_selection import KFold\n",
        "from sklearn.model_selection import cross_val_score\n",
        "\n",
        "# prepare the cross-validation procedure\n",
        "cv = KFold(n_splits=10, random_state=1, shuffle=True)\n",
        "\n",
        "# evaluate model\n",
        "scores = cross_val_score(lr_model, X, y, scoring='accuracy', cv=cv, n_jobs=-1)\n",
        "# report performance\n",
        "print('Accuracy: %.3f (%.3f)' % (mean(scores), std(scores)))"
      ]
    },
    {
      "cell_type": "markdown",
      "metadata": {
        "id": "UyCy1oJ8rIrL"
      },
      "source": [
        "##Decision Tree\n"
      ]
    },
    {
      "cell_type": "code",
      "execution_count": 112,
      "metadata": {
        "id": "Z93vpAgbrTex"
      },
      "outputs": [],
      "source": [
        "#Decision tree\n",
        "from sklearn.tree import DecisionTreeClassifier\n",
        "# Create Decision Tree classifer object\n",
        "dt_model = DecisionTreeClassifier()\n",
        "# Fit data to Decision Tree Classifer\n",
        "dt_model = dt_model.fit(X_train,y_train)"
      ]
    },
    {
      "cell_type": "code",
      "execution_count": 113,
      "metadata": {
        "id": "aSLLAss1r6y2"
      },
      "outputs": [],
      "source": [
        "#Predict the response for test dataset\n",
        "y_pred = dt_model.predict(X_test)\n",
        "#round values of y_pred\n",
        "dt_predictions = [round(value) for value in y_pred]"
      ]
    },
    {
      "cell_type": "code",
      "execution_count": 114,
      "metadata": {
        "colab": {
          "base_uri": "https://localhost:8080/"
        },
        "id": "4ve2YqAbsN7X",
        "outputId": "4d1b6ab2-4012-4c53-868b-c208ecab9892"
      },
      "outputs": [
        {
          "output_type": "stream",
          "name": "stdout",
          "text": [
            "Accuracy: 62.59%\n"
          ]
        }
      ],
      "source": [
        "# evaluate predictions\n",
        "accuracy = accuracy_score(y_test, dt_predictions)\n",
        "print(\"Accuracy: %.2f%%\" % (accuracy * 100.0))"
      ]
    },
    {
      "cell_type": "code",
      "execution_count": 115,
      "metadata": {
        "colab": {
          "base_uri": "https://localhost:8080/"
        },
        "id": "88_T7UZNsyel",
        "outputId": "16361fb0-f6e0-4821-8672-f75be2f0ab0b"
      },
      "outputs": [
        {
          "output_type": "execute_result",
          "data": {
            "text/plain": [
              "array([[ 93,  33,  11,   4,  64],\n",
              "       [ 29, 159,  16,   6,  23],\n",
              "       [  6,  13, 167,   8,  22],\n",
              "       [  1,   4,   1, 198,   2],\n",
              "       [104,  33,  16,  11,  64]])"
            ]
          },
          "metadata": {},
          "execution_count": 115
        }
      ],
      "source": [
        "#make confusion matrix\n",
        "from sklearn import metrics\n",
        "cnf_matrix = metrics.confusion_matrix(y_test, y_pred)\n",
        "cnf_matrix"
      ]
    },
    {
      "cell_type": "code",
      "execution_count": 116,
      "metadata": {
        "colab": {
          "base_uri": "https://localhost:8080/"
        },
        "id": "nnlMneUns41d",
        "outputId": "f9b48ac9-c891-424d-b853-eea3f36b3648"
      },
      "outputs": [
        {
          "output_type": "stream",
          "name": "stdout",
          "text": [
            "              precision    recall  f1-score   support\n",
            "\n",
            "           1       0.40      0.45      0.42       205\n",
            "           2       0.66      0.68      0.67       233\n",
            "           3       0.79      0.77      0.78       216\n",
            "           4       0.87      0.96      0.91       206\n",
            "           5       0.37      0.28      0.32       228\n",
            "\n",
            "    accuracy                           0.63      1088\n",
            "   macro avg       0.62      0.63      0.62      1088\n",
            "weighted avg       0.61      0.63      0.62      1088\n",
            "\n"
          ]
        }
      ],
      "source": [
        "#show the performance of the decision tree classification model using the classification_report\n",
        "from sklearn.metrics import classification_report\n",
        "print(classification_report(y_test, y_pred))"
      ]
    },
    {
      "cell_type": "code",
      "execution_count": 117,
      "metadata": {
        "colab": {
          "base_uri": "https://localhost:8080/",
          "height": 690
        },
        "id": "ad1UMi92sM74",
        "outputId": "1a899b4c-2d2a-43e3-e6b3-79f92c859ccc"
      },
      "outputs": [
        {
          "output_type": "display_data",
          "data": {
            "text/plain": [
              "<Figure size 864x864 with 1 Axes>"
            ],
            "image/png": "[encoded data removed]"
          },
          "metadata": {
            "needs_background": "light"
          }
        }
      ],
      "source": [
        "import matplotlib.pyplot as plt\n",
        "from sklearn import tree\n",
        "plt.figure(figsize=(12,12))\n",
        "tree.plot_tree(dt_model, fontsize=10)\n",
        "plt.show()"
      ]
    },
    {
      "cell_type": "markdown",
      "metadata": {
        "id": "zaxnUIOBtGmJ"
      },
      "source": [
        "###K Fold cross validation\n"
      ]
    },
    {
      "cell_type": "code",
      "execution_count": 118,
      "metadata": {
        "colab": {
          "base_uri": "https://localhost:8080/"
        },
        "id": "YA_el2ketJZM",
        "outputId": "03a6b57e-51ad-4126-d075-18e8f8d73b28"
      },
      "outputs": [
        {
          "output_type": "stream",
          "name": "stdout",
          "text": [
            "Accuracy: 0.664 (0.021)\n"
          ]
        }
      ],
      "source": [
        "from numpy import mean\n",
        "from numpy import std\n",
        "from sklearn.datasets import make_classification\n",
        "from sklearn.model_selection import KFold\n",
        "from sklearn.model_selection import cross_val_score\n",
        "\n",
        "# prepare the cross-validation procedure\n",
        "cv = KFold(n_splits=10, random_state=1, shuffle=True)\n",
        "\n",
        "# evaluate model\n",
        "scores = cross_val_score(dt_model, X, y, scoring='accuracy', cv=cv, n_jobs=-1)\n",
        "# report performance\n",
        "print('Accuracy: %.3f (%.3f)' % (mean(scores), std(scores)))"
      ]
    },
    {
      "cell_type": "markdown",
      "metadata": {
        "id": "cAZndANltOKe"
      },
      "source": [
        "##Random Forest"
      ]
    },
    {
      "cell_type": "code",
      "execution_count": 119,
      "metadata": {
        "id": "zT9xCT1wtQRA"
      },
      "outputs": [],
      "source": [
        "# Random  forest\n",
        "from sklearn.ensemble import RandomForestClassifier\n",
        "# Instantiate model with 1000 decision trees\n",
        "rf_model = RandomForestClassifier(n_estimators = 1000, random_state = 42)\n",
        "# Train the model on training data\n",
        "rd_model = rf_model.fit(X_train, y_train)"
      ]
    },
    {
      "cell_type": "code",
      "execution_count": 120,
      "metadata": {
        "colab": {
          "base_uri": "https://localhost:8080/"
        },
        "id": "b7Rzy0xPu393",
        "outputId": "24eaef57-b37a-4bac-d6e9-e185288c75f5"
      },
      "outputs": [
        {
          "output_type": "stream",
          "name": "stdout",
          "text": [
            "Mean Absolute Error: 0.75 degrees.\n"
          ]
        }
      ],
      "source": [
        "# make predictions for test data\n",
        "y_pred = rf_model.predict(X_test)\n",
        "predictions = [round(value) for value in y_pred]\n",
        "# Calculate the absolute errors\n",
        "errors = abs(predictions - y_test)\n",
        "# Print out the mean absolute error (mae)\n",
        "print('Mean Absolute Error:', round(np.mean(errors), 2), 'degrees.')"
      ]
    },
    {
      "cell_type": "code",
      "execution_count": 121,
      "metadata": {
        "colab": {
          "base_uri": "https://localhost:8080/"
        },
        "id": "ZnQAfGUEv378",
        "outputId": "5eca9861-6e60-4dce-e3f4-a66224f70c4a"
      },
      "outputs": [
        {
          "output_type": "stream",
          "name": "stdout",
          "text": [
            "Accuracy: 78.03%\n"
          ]
        }
      ],
      "source": [
        "# evaluate predictions\n",
        "accuracy = accuracy_score(y_test, predictions)\n",
        "print(\"Accuracy: %.2f%%\" % (accuracy * 100.0))"
      ]
    },
    {
      "cell_type": "code",
      "execution_count": 122,
      "metadata": {
        "colab": {
          "base_uri": "https://localhost:8080/"
        },
        "id": "oqrrBeukv-Bu",
        "outputId": "2dd339c8-0afe-40ec-bbc2-986f13e3147c"
      },
      "outputs": [
        {
          "output_type": "execute_result",
          "data": {
            "text/plain": [
              "array([[132,   6,   1,   0,  66],\n",
              "       [ 21, 194,   2,   1,  15],\n",
              "       [  4,   0, 211,   1,   0],\n",
              "       [  0,   1,   0, 205,   0],\n",
              "       [104,  13,   2,   2, 107]])"
            ]
          },
          "metadata": {},
          "execution_count": 122
        }
      ],
      "source": [
        "#make confusion matrix\n",
        "from sklearn import metrics\n",
        "cnf_matrix = metrics.confusion_matrix(y_test, predictions)\n",
        "cnf_matrix"
      ]
    },
    {
      "cell_type": "code",
      "execution_count": 123,
      "metadata": {
        "colab": {
          "base_uri": "https://localhost:8080/"
        },
        "id": "UY3us-M9wa7O",
        "outputId": "bc53374b-7e3e-41c6-b1b4-280c84d71a12"
      },
      "outputs": [
        {
          "output_type": "stream",
          "name": "stdout",
          "text": [
            "              precision    recall  f1-score   support\n",
            "\n",
            "           1       0.51      0.64      0.57       205\n",
            "           2       0.91      0.83      0.87       233\n",
            "           3       0.98      0.98      0.98       216\n",
            "           4       0.98      1.00      0.99       206\n",
            "           5       0.57      0.47      0.51       228\n",
            "\n",
            "    accuracy                           0.78      1088\n",
            "   macro avg       0.79      0.78      0.78      1088\n",
            "weighted avg       0.79      0.78      0.78      1088\n",
            "\n"
          ]
        }
      ],
      "source": [
        "#classification report\n",
        "from sklearn.metrics import classification_report\n",
        "print(classification_report(y_test, predictions))"
      ]
    },
    {
      "cell_type": "markdown",
      "metadata": {
        "id": "XO-0bP0ExZjC"
      },
      "source": [
        "###K Fold cross validation"
      ]
    },
    {
      "cell_type": "code",
      "execution_count": 124,
      "metadata": {
        "colab": {
          "base_uri": "https://localhost:8080/"
        },
        "id": "Qs3PCdaMxXeU",
        "outputId": "0ed385ba-b487-4ed8-f653-444990d00343"
      },
      "outputs": [
        {
          "output_type": "stream",
          "name": "stdout",
          "text": [
            "Accuracy: 0.789 (0.022)\n"
          ]
        }
      ],
      "source": [
        "from numpy import mean\n",
        "from numpy import std\n",
        "from sklearn.datasets import make_classification\n",
        "from sklearn.model_selection import KFold\n",
        "from sklearn.model_selection import cross_val_score\n",
        "\n",
        "# prepare the cross-validation procedure\n",
        "cv = KFold(n_splits=10, random_state=1, shuffle=True)\n",
        "\n",
        "# evaluate model\n",
        "scores = cross_val_score(rf_model, X, y, scoring='accuracy', cv=cv, n_jobs=-1)\n",
        "# report performance\n",
        "print('Accuracy: %.3f (%.3f)' % (mean(scores), std(scores)))"
      ]
    },
    {
      "cell_type": "markdown",
      "source": [
        "## Support Vector Machine"
      ],
      "metadata": {
        "id": "MAL4ArDVUj-G"
      }
    },
    {
      "cell_type": "code",
      "source": [
        "#SVM\n",
        "#Support Vector Machine\n",
        "from sklearn import metrics\n",
        "from sklearn.svm import SVC\n",
        "# fit a SVM model to the data\n",
        "svm_model = SVC()\n",
        "svm_model.fit(X_train, y_train)"
      ],
      "metadata": {
        "colab": {
          "base_uri": "https://localhost:8080/"
        },
        "id": "UboxxpXWTEOC",
        "outputId": "f077d741-877d-4d9a-cfbe-c586bd193c81"
      },
      "execution_count": 125,
      "outputs": [
        {
          "output_type": "execute_result",
          "data": {
            "text/plain": [
              "SVC()"
            ]
          },
          "metadata": {},
          "execution_count": 125
        }
      ]
    },
    {
      "cell_type": "code",
      "source": [
        "# make predictions for test data\n",
        "y_pred = svm_model.predict(X_test)\n",
        "predictions = [round(value) for value in y_pred]\n",
        "\n",
        "# evaluate predictions\n",
        "accuracy = accuracy_score(y_test, predictions)\n",
        "print(\"Accuracy: %.2f%%\" % (accuracy * 100.0))"
      ],
      "metadata": {
        "colab": {
          "base_uri": "https://localhost:8080/"
        },
        "id": "JcJvDN-EUWP_",
        "outputId": "5abc0f87-2d83-4bce-96cc-7a1b09ca529d"
      },
      "execution_count": 126,
      "outputs": [
        {
          "output_type": "stream",
          "name": "stdout",
          "text": [
            "Accuracy: 74.36%\n"
          ]
        }
      ]
    },
    {
      "cell_type": "code",
      "source": [
        "#make confusion matrix\n",
        "from sklearn import metrics\n",
        "cnf_matrix = metrics.confusion_matrix(y_test, predictions)\n",
        "cnf_matrix"
      ],
      "metadata": {
        "colab": {
          "base_uri": "https://localhost:8080/"
        },
        "id": "Av80IgpvUe69",
        "outputId": "d5890a80-d6d5-48cc-903c-9219d2dd4401"
      },
      "execution_count": 127,
      "outputs": [
        {
          "output_type": "execute_result",
          "data": {
            "text/plain": [
              "array([[111,  31,   7,   1,  55],\n",
              "       [ 21, 197,   6,   0,   9],\n",
              "       [  0,   1, 215,   0,   0],\n",
              "       [  0,   0,   0, 206,   0],\n",
              "       [ 97,  37,  11,   3,  80]])"
            ]
          },
          "metadata": {},
          "execution_count": 127
        }
      ]
    },
    {
      "cell_type": "code",
      "source": [
        "#classification report\n",
        "from sklearn.metrics import classification_report\n",
        "print(classification_report(y_test, predictions))"
      ],
      "metadata": {
        "colab": {
          "base_uri": "https://localhost:8080/"
        },
        "id": "zwKuUGv6UqlQ",
        "outputId": "f9fd7b1e-d426-4b55-ae3d-abbf2ae55a0d"
      },
      "execution_count": 128,
      "outputs": [
        {
          "output_type": "stream",
          "name": "stdout",
          "text": [
            "              precision    recall  f1-score   support\n",
            "\n",
            "           1       0.48      0.54      0.51       205\n",
            "           2       0.74      0.85      0.79       233\n",
            "           3       0.90      1.00      0.95       216\n",
            "           4       0.98      1.00      0.99       206\n",
            "           5       0.56      0.35      0.43       228\n",
            "\n",
            "    accuracy                           0.74      1088\n",
            "   macro avg       0.73      0.75      0.73      1088\n",
            "weighted avg       0.73      0.74      0.73      1088\n",
            "\n"
          ]
        }
      ]
    },
    {
      "cell_type": "markdown",
      "source": [
        "###K-Fold Cross Validation"
      ],
      "metadata": {
        "id": "I7XursvQUt2U"
      }
    },
    {
      "cell_type": "code",
      "source": [
        "from numpy import mean\n",
        "from numpy import std\n",
        "from sklearn.datasets import make_classification\n",
        "from sklearn.model_selection import KFold\n",
        "from sklearn.model_selection import cross_val_score\n",
        "\n",
        "# prepare the cross-validation procedure\n",
        "cv = KFold(n_splits=10, random_state=1, shuffle=True)\n",
        "\n",
        "# evaluate model\n",
        "scores = cross_val_score(svm_model, X, y, scoring='accuracy', cv=cv, n_jobs=-1)\n",
        "# report performance\n",
        "print('Accuracy: %.3f (%.3f)' % (mean(scores), std(scores)))"
      ],
      "metadata": {
        "colab": {
          "base_uri": "https://localhost:8080/"
        },
        "id": "ZEcHswHmUxCD",
        "outputId": "4c4f4b2e-091e-4f72-f663-705e5f9b1a68"
      },
      "execution_count": 129,
      "outputs": [
        {
          "output_type": "stream",
          "name": "stdout",
          "text": [
            "Accuracy: 0.756 (0.023)\n"
          ]
        }
      ]
    },
    {
      "cell_type": "markdown",
      "metadata": {
        "id": "rTHsIh4IrPtF"
      },
      "source": [
        "#Reduced Features Comparison"
      ]
    },
    {
      "cell_type": "code",
      "execution_count": 132,
      "metadata": {
        "id": "bzORoJvgrPtG"
      },
      "outputs": [],
      "source": [
        "\"\"\"\n",
        "#from XGBoost suggested columns\n",
        "feature_cols_new = ['Uses_corticosteroids', 'Serious_disease', 'neck_pain_intensity',\n",
        "       'Neurogenic_signals', 'Kinesiophobia_physical_exercise', 'age_ohe',\n",
        "       'Nocturnal_pain', 'Paidwork', 'leg_left_pain_intensity',\n",
        "       'Extremely_nervous']\n",
        "\"\"\"\n",
        "\"\"\"\n",
        "#Univariate Selection columns\n",
        "feature_cols_new = ['age_ohe', 'leg_left_pain_intensity', 'neck_pain_intensity',\n",
        "       'leg_right_pain_intensity', 'Paidwork',\n",
        "       'Familiy_history', 'Duration_of_pain',\n",
        "       'arm_right_pain_intensity', 'Kinesiophobia_physical_exercise', 'Sick_leave']\n",
        "\"\"\"\n",
        "\"\"\"\n",
        "#PCA columns\n",
        "feature_cols_new = ['Fever', 'Decreased_mobility', 'Kinesiophobia_pain_stop',\n",
        "       'leg_left_pain_intensity','Duration_of_pain',\n",
        "       'arm_left_pain_intensity','Loss_muscle_strength',\n",
        "       'Irrational_thoughts_risk_lasting', 'Stress', 'Weightloss_per_year'\n",
        "       ]\n",
        "\"\"\"\n",
        "\"\"\"\n",
        "#Tweaked PCA columns\n",
        "feature_cols_new = ['Fever', 'Decreased_mobility', 'Kinesiophobia_pain_stop',\n",
        "       'leg_left_pain_intensity','Duration_of_pain',\n",
        "       'arm_left_pain_intensity','age_ohe'\n",
        "       ]\n",
        "\n",
        "\"\"\"\n",
        "\"\"\"\n",
        "#Column vs accuracy comparison\n",
        "\"\"\"\n",
        "\"\"\"\n",
        "feature_cols_new = ['age_ohe', 'leg_right_pain_intensity', 'neck_pain_intensity',\n",
        "      'leg_left_pain_intensity','Duration_of_pain','low_back_pain_intensity','Fever',\n",
        "      'Paidwork','Familiy_history','arm_right_pain_intensity', 'Sick_leave','Uses_corticosteroids',\n",
        "      'Serious_disease', 'Kinesiophobia_physical_exercise', 'Neurogenic_signals', 'Coping_strategy',\n",
        "      'Nocturnal_pain', 'arm_left_pain_intensity','Loss_muscle_strength', 'Irrational_thoughts_risk_lasting',\n",
        "      'Stress','Earlier_hospitalization', 'Failure_symptoms','Uses_analgesics', 'Kinesiophobia_pain_stop',\n",
        "      'Depression','Continuous_pain','Extremely_nervous','Weightloss_per_year','Decreased_mobility'\n",
        "      ]\n",
        "\"\"\"\n",
        "#final selection: 7 features, 64.7% accuracy -> added 1 more from RF feature importnance :  'Decreased_mobility'\n",
        "feature_cols_new = ['age_ohe', 'leg_right_pain_intensity', 'neck_pain_intensity',\n",
        "       'leg_left_pain_intensity','Duration_of_pain',\n",
        "       'low_back_pain_intensity','Fever']\n",
        "\n",
        "#feature_cols = ['Duration_of_pain', 'Kinesiophobia_physical_exercise', 'Kinesiophobia_pain_stop', 'Continuous_pain', 'neck_pain_intensity', 'leg_left_pain_intensity', 'age_ohe']\n",
        "X_new = X[feature_cols_new] # Features\n",
        "#X_new = X[X.columns.difference(feature_cols_new)]\n",
        "y_new = y # Target variable"
      ]
    },
    {
      "cell_type": "code",
      "execution_count": 133,
      "metadata": {
        "colab": {
          "base_uri": "https://localhost:8080/"
        },
        "id": "W-D1naaYrPtI",
        "outputId": "039c4e9a-3fea-44f5-f7b8-a186ec91441b"
      },
      "outputs": [
        {
          "output_type": "execute_result",
          "data": {
            "text/plain": [
              "7"
            ]
          },
          "metadata": {},
          "execution_count": 133
        }
      ],
      "source": [
        "len(X_new.columns)"
      ]
    },
    {
      "cell_type": "code",
      "execution_count": 134,
      "metadata": {
        "colab": {
          "base_uri": "https://localhost:8080/"
        },
        "id": "2lMTduNajapq",
        "outputId": "efaf989c-2847-424c-d25a-68caa61a3980"
      },
      "outputs": [
        {
          "output_type": "execute_result",
          "data": {
            "text/plain": [
              "Index(['age_ohe', 'leg_right_pain_intensity', 'neck_pain_intensity',\n",
              "       'leg_left_pain_intensity', 'Duration_of_pain',\n",
              "       'low_back_pain_intensity', 'Fever'],\n",
              "      dtype='object')"
            ]
          },
          "metadata": {},
          "execution_count": 134
        }
      ],
      "source": [
        "X_new.columns"
      ]
    },
    {
      "cell_type": "code",
      "execution_count": 135,
      "metadata": {
        "id": "ycWPFgd7fEQi"
      },
      "outputs": [],
      "source": [
        "# split data into train and test sets\n",
        "from sklearn.model_selection import train_test_split\n",
        "seed = 7\n",
        "test_size = 0.33\n",
        "X_train, X_test, y_train, y_test = train_test_split(X_new, y_new, test_size=test_size, random_state=seed)"
      ]
    },
    {
      "cell_type": "code",
      "execution_count": 136,
      "metadata": {
        "colab": {
          "base_uri": "https://localhost:8080/",
          "height": 397
        },
        "id": "qm5bjg1hrPtI",
        "outputId": "11bc9787-6e15-4c22-8c15-ca3624a24ac7"
      },
      "outputs": [
        {
          "output_type": "execute_result",
          "data": {
            "text/plain": [
              "<matplotlib.axes._subplots.AxesSubplot at 0x7f6d00d56950>"
            ]
          },
          "metadata": {},
          "execution_count": 136
        },
        {
          "output_type": "display_data",
          "data": {
            "text/plain": [
              "<Figure size 432x288 with 2 Axes>"
            ],
            "image/png": "[encoded data removed]"
          },
          "metadata": {
            "needs_background": "light"
          }
        }
      ],
      "source": [
        "corr = X_new.corr()\n",
        "\n",
        "import seaborn as sns\n",
        "sns.heatmap(corr)"
      ]
    },
    {
      "cell_type": "markdown",
      "metadata": {
        "id": "-8khKEcwrPtL"
      },
      "source": [
        "##Random Forest"
      ]
    },
    {
      "cell_type": "code",
      "execution_count": 137,
      "metadata": {
        "colab": {
          "base_uri": "https://localhost:8080/"
        },
        "id": "oMOeaXdJrPtL",
        "outputId": "0c1d778c-404e-4e3d-bb1d-5010a3b231a7"
      },
      "outputs": [
        {
          "output_type": "stream",
          "name": "stdout",
          "text": [
            "Mean Absolute Error: 0.92 degrees.\n"
          ]
        }
      ],
      "source": [
        "# Random  forest\n",
        "from sklearn.ensemble import RandomForestClassifier\n",
        "# Instantiate model with 1000 decision trees\n",
        "rf_model = RandomForestClassifier(n_estimators = 1000, random_state = 42)\n",
        "# Train the model on training data\n",
        "rd_model = rf_model.fit(X_train, y_train)\n",
        "\n",
        "# make predictions for test data\n",
        "y_pred = rf_model.predict(X_test)\n",
        "predictions = [round(value) for value in y_pred]\n",
        "# Calculate the absolute errors\n",
        "errors = abs(predictions - y_test)\n",
        "# Print out the mean absolute error (mae)\n",
        "print('Mean Absolute Error:', round(np.mean(errors), 2), 'degrees.')"
      ]
    },
    {
      "cell_type": "code",
      "execution_count": 138,
      "metadata": {
        "colab": {
          "base_uri": "https://localhost:8080/"
        },
        "id": "pnB_UDtCrPtM",
        "outputId": "23ae55a8-a366-4ae9-9691-2967efa0320c"
      },
      "outputs": [
        {
          "output_type": "stream",
          "name": "stdout",
          "text": [
            "Accuracy: 69.03%\n"
          ]
        }
      ],
      "source": [
        "# evaluate predictions\n",
        "from sklearn.metrics import accuracy_score\n",
        "accuracy = accuracy_score(y_test, predictions)\n",
        "print(\"Accuracy: %.2f%%\" % (accuracy * 100.0))"
      ]
    },
    {
      "cell_type": "code",
      "execution_count": 139,
      "metadata": {
        "colab": {
          "base_uri": "https://localhost:8080/"
        },
        "id": "qstn7sn8rPtM",
        "outputId": "ae5b4c14-dcbb-45ae-a451-21c94dc7a021"
      },
      "outputs": [
        {
          "output_type": "execute_result",
          "data": {
            "text/plain": [
              "array([[105,  23,   8,   3,  66],\n",
              "       [ 28, 165,   7,   2,  31],\n",
              "       [  5,   5, 195,   5,   6],\n",
              "       [  3,   4,   0, 199,   0],\n",
              "       [103,  22,  11,   5,  87]])"
            ]
          },
          "metadata": {},
          "execution_count": 139
        }
      ],
      "source": [
        "#make confusion matrix\n",
        "from sklearn import metrics\n",
        "cnf_matrix = metrics.confusion_matrix(y_test, predictions)\n",
        "cnf_matrix"
      ]
    },
    {
      "cell_type": "code",
      "execution_count": 140,
      "metadata": {
        "colab": {
          "base_uri": "https://localhost:8080/"
        },
        "id": "lyUyMyBerPtN",
        "outputId": "35c33b17-97c0-4c70-cd82-a69b114d6adf"
      },
      "outputs": [
        {
          "output_type": "stream",
          "name": "stdout",
          "text": [
            "              precision    recall  f1-score   support\n",
            "\n",
            "           1       0.43      0.51      0.47       205\n",
            "           2       0.75      0.71      0.73       233\n",
            "           3       0.88      0.90      0.89       216\n",
            "           4       0.93      0.97      0.95       206\n",
            "           5       0.46      0.38      0.42       228\n",
            "\n",
            "    accuracy                           0.69      1088\n",
            "   macro avg       0.69      0.69      0.69      1088\n",
            "weighted avg       0.69      0.69      0.69      1088\n",
            "\n"
          ]
        }
      ],
      "source": [
        "#classification report\n",
        "from sklearn.metrics import classification_report\n",
        "print(classification_report(y_test, predictions))"
      ]
    },
    {
      "cell_type": "markdown",
      "source": [
        "## Support Vector Machine"
      ],
      "metadata": {
        "id": "7i8Lg9NjXtrH"
      }
    },
    {
      "cell_type": "code",
      "source": [
        "#SVM\n",
        "#Support Vector Machine\n",
        "from sklearn import metrics\n",
        "from sklearn.svm import SVC\n",
        "# fit a SVM model to the data\n",
        "svm_model = SVC()\n",
        "svm_model.fit(X_train, y_train)"
      ],
      "metadata": {
        "colab": {
          "base_uri": "https://localhost:8080/"
        },
        "outputId": "981a175e-dfbb-42ae-8a02-5e991283fdc2",
        "id": "tBeq4KAKXtrH"
      },
      "execution_count": 141,
      "outputs": [
        {
          "output_type": "execute_result",
          "data": {
            "text/plain": [
              "SVC()"
            ]
          },
          "metadata": {},
          "execution_count": 141
        }
      ]
    },
    {
      "cell_type": "code",
      "source": [
        "# make predictions for test data\n",
        "y_pred = svm_model.predict(X_test)\n",
        "predictions = [round(value) for value in y_pred]\n",
        "\n",
        "# evaluate predictions\n",
        "accuracy = accuracy_score(y_test, predictions)\n",
        "print(\"Accuracy: %.2f%%\" % (accuracy * 100.0))"
      ],
      "metadata": {
        "colab": {
          "base_uri": "https://localhost:8080/"
        },
        "outputId": "4fc8987c-d090-4e95-bf44-a6c4edaf5995",
        "id": "peEE3iRCXtrI"
      },
      "execution_count": 142,
      "outputs": [
        {
          "output_type": "stream",
          "name": "stdout",
          "text": [
            "Accuracy: 57.08%\n"
          ]
        }
      ]
    },
    {
      "cell_type": "code",
      "source": [
        "#make confusion matrix\n",
        "from sklearn import metrics\n",
        "cnf_matrix = metrics.confusion_matrix(y_test, predictions)\n",
        "cnf_matrix"
      ],
      "metadata": {
        "colab": {
          "base_uri": "https://localhost:8080/"
        },
        "outputId": "df80443e-38b3-4c35-827e-47bb25ffd742",
        "id": "BRIBlxRRXtrI"
      },
      "execution_count": 143,
      "outputs": [
        {
          "output_type": "execute_result",
          "data": {
            "text/plain": [
              "array([[ 69,  52,  24,  32,  28],\n",
              "       [ 24, 164,  16,  15,  14],\n",
              "       [  7,  20, 153,  21,  15],\n",
              "       [  1,   2,   0, 203,   0],\n",
              "       [ 60,  65,  46,  25,  32]])"
            ]
          },
          "metadata": {},
          "execution_count": 143
        }
      ]
    },
    {
      "cell_type": "code",
      "source": [
        "#classification report\n",
        "from sklearn.metrics import classification_report\n",
        "print(classification_report(y_test, predictions))"
      ],
      "metadata": {
        "colab": {
          "base_uri": "https://localhost:8080/"
        },
        "outputId": "3c5a8b97-8569-4dd2-9c5b-9a277455c237",
        "id": "eZ1omq5hXtrI"
      },
      "execution_count": 144,
      "outputs": [
        {
          "output_type": "stream",
          "name": "stdout",
          "text": [
            "              precision    recall  f1-score   support\n",
            "\n",
            "           1       0.43      0.34      0.38       205\n",
            "           2       0.54      0.70      0.61       233\n",
            "           3       0.64      0.71      0.67       216\n",
            "           4       0.69      0.99      0.81       206\n",
            "           5       0.36      0.14      0.20       228\n",
            "\n",
            "    accuracy                           0.57      1088\n",
            "   macro avg       0.53      0.57      0.53      1088\n",
            "weighted avg       0.53      0.57      0.53      1088\n",
            "\n"
          ]
        }
      ]
    },
    {
      "cell_type": "markdown",
      "metadata": {
        "id": "cCBHe_IYrPtJ"
      },
      "source": [
        "##XGBoost "
      ]
    },
    {
      "cell_type": "code",
      "execution_count": 145,
      "metadata": {
        "id": "AZPSK4cIrPtJ"
      },
      "outputs": [],
      "source": [
        "# split data into train and test sets\n",
        "#seed = 7\n",
        "#test_size = 0.33\n",
        "#X_train, X_test, y_train, y_test = train_test_split(X_new, y_new, test_size=test_size, random_state=seed)\n",
        "\n",
        "# fit model no training data\n",
        "xg_model = XGBClassifier(n_estimators = 200)\n",
        "xg_model.fit(X_train, y_train)\n",
        "\n",
        "# make predictions for test data\n",
        "y_pred = xg_model.predict(X_test)\n",
        "predictions = [round(value) for value in y_pred]"
      ]
    },
    {
      "cell_type": "code",
      "execution_count": 146,
      "metadata": {
        "colab": {
          "base_uri": "https://localhost:8080/"
        },
        "id": "G9VAqF2crPtJ",
        "outputId": "02b4ae98-808d-4821-dce7-aa80f692dad4"
      },
      "outputs": [
        {
          "output_type": "stream",
          "name": "stdout",
          "text": [
            "Accuracy: 67.65%\n"
          ]
        }
      ],
      "source": [
        "# evaluate predictions\n",
        "accuracy = accuracy_score(y_test, predictions)\n",
        "print(\"Accuracy: %.2f%%\" % (accuracy * 100.0))"
      ]
    },
    {
      "cell_type": "code",
      "execution_count": 147,
      "metadata": {
        "colab": {
          "base_uri": "https://localhost:8080/"
        },
        "id": "w-Y9kg5UrPtK",
        "outputId": "cfa5b4e7-66c5-4d35-cb21-af84f820c64d"
      },
      "outputs": [
        {
          "output_type": "execute_result",
          "data": {
            "text/plain": [
              "array([[130,   8,   6,   1,  60],\n",
              "       [ 30, 152,  14,   5,  32],\n",
              "       [  8,  20, 168,  10,  10],\n",
              "       [  4,   3,   2, 196,   1],\n",
              "       [110,  14,   8,   6,  90]])"
            ]
          },
          "metadata": {},
          "execution_count": 147
        }
      ],
      "source": [
        "from sklearn import metrics\n",
        "cnf_matrix = metrics.confusion_matrix(y_test, y_pred)\n",
        "cnf_matrix"
      ]
    },
    {
      "cell_type": "code",
      "execution_count": 148,
      "metadata": {
        "colab": {
          "base_uri": "https://localhost:8080/"
        },
        "id": "iSW0yiQHrPtK",
        "outputId": "32620912-f10b-4933-c7f6-8672bd640c16"
      },
      "outputs": [
        {
          "output_type": "stream",
          "name": "stdout",
          "text": [
            "              precision    recall  f1-score   support\n",
            "\n",
            "           1       0.46      0.63      0.53       205\n",
            "           2       0.77      0.65      0.71       233\n",
            "           3       0.85      0.78      0.81       216\n",
            "           4       0.90      0.95      0.92       206\n",
            "           5       0.47      0.39      0.43       228\n",
            "\n",
            "    accuracy                           0.68      1088\n",
            "   macro avg       0.69      0.68      0.68      1088\n",
            "weighted avg       0.69      0.68      0.68      1088\n",
            "\n"
          ]
        }
      ],
      "source": [
        "from sklearn.metrics import classification_report\n",
        "print(classification_report(y_test, y_pred))"
      ]
    },
    {
      "cell_type": "markdown",
      "metadata": {
        "id": "ODc8U5YA1z2b"
      },
      "source": [
        "#Binary classification using classes 1 and 5"
      ]
    },
    {
      "cell_type": "markdown",
      "metadata": {
        "id": "0UhVjw_g2HO3"
      },
      "source": [
        "##Pre-processing of data\n"
      ]
    },
    {
      "cell_type": "code",
      "execution_count": 149,
      "metadata": {
        "id": "j8ANHl3N16Wq"
      },
      "outputs": [],
      "source": [
        "#select data for only classes 1 and 5"
      ]
    },
    {
      "cell_type": "markdown",
      "metadata": {
        "id": "-cRgX47Y3ht7"
      },
      "source": [
        "### Read data"
      ]
    },
    {
      "cell_type": "code",
      "execution_count": 150,
      "metadata": {
        "id": "Re0q_min3ht7"
      },
      "outputs": [],
      "source": [
        "df = pd.read_excel(io.BytesIO(uploaded.get(\"Dataset - LBP RA.xlsx\")),  sheet_name = \"Training Dataset\")\n",
        "var = pd.read_excel(io.BytesIO(uploaded.get(\"Dataset - LBP RA.xlsx\")),  sheet_name = \"Variables\")"
      ]
    },
    {
      "cell_type": "markdown",
      "metadata": {
        "id": "-r1iAQxL3ht7"
      },
      "source": [
        "### Dropping columns with more than 15% missing values"
      ]
    },
    {
      "cell_type": "code",
      "execution_count": 151,
      "metadata": {
        "colab": {
          "base_uri": "https://localhost:8080/"
        },
        "id": "9vNE5vr13ht8",
        "outputId": "b9bde2ee-70e4-4fa6-bdd8-dbe1fe5b85ac"
      },
      "outputs": [
        {
          "output_type": "execute_result",
          "data": {
            "text/plain": [
              "Workoverload                         29.689521\n",
              "working_ability                      32.600259\n",
              "Trauma                               56.015524\n",
              "Relationship_with_colleagues         63.324709\n",
              "Incoordination                       85.122898\n",
              "Irrational_thoughts_work             88.163001\n",
              "Loss_muscle_strength                 94.695990\n",
              "Irrational_thoughts_risk_lasting     95.407503\n",
              "Coping_strategy                      95.472186\n",
              "Kinesiophobia_pain_stop              95.601552\n",
              "Extremely_nervous                    96.636481\n",
              "Kinesiophobia_physical_exercise      96.701164\n",
              "Weightloss_per_year                  97.606727\n",
              "Fever                                97.800776\n",
              "Duration_of_pain                     97.994825\n",
              "Uses_corticosteroids                 99.159120\n",
              "Serious_disease                      99.223803\n",
              "arm_left_pain_intensity             100.000000\n",
              "arm_right_pain_intensity            100.000000\n",
              "leg_left_pain_intensity             100.000000\n",
              "neck_pain_intensity                 100.000000\n",
              "leg_right_pain_intensity            100.000000\n",
              "Failure_symptoms                    100.000000\n",
              "low_back_pain_intensity             100.000000\n",
              "Treatment                           100.000000\n",
              "Decreased_mobility                  100.000000\n",
              "Continuous_pain                     100.000000\n",
              "Neurogenic_signals                  100.000000\n",
              "Uses_analgesics                     100.000000\n",
              "Age                                 100.000000\n",
              "Stress                              100.000000\n",
              "Depression                          100.000000\n",
              "Familiy_history                     100.000000\n",
              "Earlier_hospitalization             100.000000\n",
              "Sick_leave                          100.000000\n",
              "Nocturnal_pain                      100.000000\n",
              "Paidwork                            100.000000\n",
              "dtype: float64"
            ]
          },
          "metadata": {},
          "execution_count": 151
        }
      ],
      "source": [
        "#Data Completeness percentage\n",
        "(df.count()/1546*100).sort_values()"
      ]
    },
    {
      "cell_type": "code",
      "execution_count": 152,
      "metadata": {
        "colab": {
          "base_uri": "https://localhost:8080/"
        },
        "id": "kEOAX0WD3ht8",
        "outputId": "c59af031-baf5-435c-db12-0c8f2a887915"
      },
      "outputs": [
        {
          "output_type": "stream",
          "name": "stderr",
          "text": [
            "/usr/local/lib/python3.7/dist-packages/ipykernel_launcher.py:1: FutureWarning: In a future version of pandas all arguments of DataFrame.drop except for the argument 'labels' will be keyword-only\n",
            "  \"\"\"Entry point for launching an IPython kernel.\n",
            "/usr/local/lib/python3.7/dist-packages/ipykernel_launcher.py:2: FutureWarning: In a future version of pandas all arguments of DataFrame.drop except for the argument 'labels' will be keyword-only\n",
            "  \n",
            "/usr/local/lib/python3.7/dist-packages/ipykernel_launcher.py:3: FutureWarning: In a future version of pandas all arguments of DataFrame.drop except for the argument 'labels' will be keyword-only\n",
            "  This is separate from the ipykernel package so we can avoid doing imports until\n",
            "/usr/local/lib/python3.7/dist-packages/ipykernel_launcher.py:4: FutureWarning: In a future version of pandas all arguments of DataFrame.drop except for the argument 'labels' will be keyword-only\n",
            "  after removing the cwd from sys.path.\n",
            "/usr/local/lib/python3.7/dist-packages/ipykernel_launcher.py:5: FutureWarning: In a future version of pandas all arguments of DataFrame.drop except for the argument 'labels' will be keyword-only\n",
            "  \"\"\"\n",
            "/usr/local/lib/python3.7/dist-packages/ipykernel_launcher.py:6: FutureWarning: In a future version of pandas all arguments of DataFrame.drop except for the argument 'labels' will be keyword-only\n",
            "  \n"
          ]
        }
      ],
      "source": [
        "df_new = df.drop(\"Irrational_thoughts_work\",1)\n",
        "df_new = df_new.drop(\"Incoordination\",1)\n",
        "df_new = df_new.drop(\"Relationship_with_colleagues\",1)\n",
        "df_new = df_new.drop(\"Trauma\",1)\n",
        "df_new = df_new.drop(\"working_ability\",1)\n",
        "df_new = df_new.drop(\"Workoverload\",1)"
      ]
    },
    {
      "cell_type": "markdown",
      "metadata": {
        "id": "6ofiy7ci33F_"
      },
      "source": [
        "###Select data with output classes 1 and 5\n"
      ]
    },
    {
      "cell_type": "code",
      "execution_count": 153,
      "metadata": {
        "id": "3GxeTc_K6KT_"
      },
      "outputs": [],
      "source": [
        "df_twoclasses = df_new[(df_new.Treatment != 2) & (df_new.Treatment != 3) & (df_new.Treatment != 4)]"
      ]
    },
    {
      "cell_type": "code",
      "execution_count": 154,
      "metadata": {
        "colab": {
          "base_uri": "https://localhost:8080/"
        },
        "id": "IH74VYDh7ei9",
        "outputId": "843521d2-6433-4750-e95e-ab69b5f0f74a"
      },
      "outputs": [
        {
          "output_type": "execute_result",
          "data": {
            "text/plain": [
              "array([1, 5])"
            ]
          },
          "metadata": {},
          "execution_count": 154
        }
      ],
      "source": [
        "df_twoclasses.Treatment.unique()"
      ]
    },
    {
      "cell_type": "markdown",
      "metadata": {
        "id": "n5KZsbbF3ht8"
      },
      "source": [
        "### Impute Missing Values"
      ]
    },
    {
      "cell_type": "markdown",
      "metadata": {
        "id": "M59hkLOp3ht8"
      },
      "source": [
        "#####One-hot Encoding Age column"
      ]
    },
    {
      "cell_type": "code",
      "execution_count": 155,
      "metadata": {
        "id": "Iz2VDmIM3ht8"
      },
      "outputs": [],
      "source": [
        "#One-hot encode age\n",
        "#One hot encoding\n",
        "from numpy import array\n",
        "from numpy import argmax\n",
        "from sklearn.preprocessing import LabelEncoder\n",
        "from sklearn.preprocessing import OneHotEncoder"
      ]
    },
    {
      "cell_type": "code",
      "execution_count": 156,
      "metadata": {
        "colab": {
          "base_uri": "https://localhost:8080/"
        },
        "id": "CgYlWxmu3ht9",
        "outputId": "c2a6e18a-017f-42a8-a0f2-f0879c1d0cbd"
      },
      "outputs": [
        {
          "output_type": "stream",
          "name": "stderr",
          "text": [
            "/usr/local/lib/python3.7/dist-packages/ipykernel_launcher.py:2: SettingWithCopyWarning: \n",
            "A value is trying to be set on a copy of a slice from a DataFrame.\n",
            "Try using .loc[row_indexer,col_indexer] = value instead\n",
            "\n",
            "See the caveats in the documentation: https://pandas.pydata.org/pandas-docs/stable/user_guide/indexing.html#returning-a-view-versus-a-copy\n",
            "  \n",
            "/usr/local/lib/python3.7/dist-packages/ipykernel_launcher.py:6: SettingWithCopyWarning: \n",
            "A value is trying to be set on a copy of a slice from a DataFrame.\n",
            "Try using .loc[row_indexer,col_indexer] = value instead\n",
            "\n",
            "See the caveats in the documentation: https://pandas.pydata.org/pandas-docs/stable/user_guide/indexing.html#returning-a-view-versus-a-copy\n",
            "  \n"
          ]
        }
      ],
      "source": [
        "#Age encoding\n",
        "df_twoclasses['age_ohe'] = array(df_twoclasses['Age'])\n",
        "#integer encode\n",
        "label_encoder = LabelEncoder()\n",
        "age_encoded = label_encoder.fit_transform(df_twoclasses['age_ohe'])\n",
        "df_twoclasses['age_ohe'] = array(age_encoded)"
      ]
    },
    {
      "cell_type": "code",
      "execution_count": 157,
      "metadata": {
        "colab": {
          "base_uri": "https://localhost:8080/"
        },
        "id": "Xjm-K1Ac3ht9",
        "outputId": "a53bc48e-bba0-4dbf-cd0d-65fc9d449e89"
      },
      "outputs": [
        {
          "output_type": "stream",
          "name": "stderr",
          "text": [
            "/usr/local/lib/python3.7/dist-packages/ipykernel_launcher.py:2: FutureWarning: In a future version of pandas all arguments of DataFrame.drop except for the argument 'labels' will be keyword-only\n",
            "  \n"
          ]
        }
      ],
      "source": [
        "#Dropping original Age column\n",
        "df_twoclasses = df_twoclasses.drop(\"Age\",1)"
      ]
    },
    {
      "cell_type": "markdown",
      "metadata": {
        "id": "2CMAuIzA3ht9"
      },
      "source": [
        "#### Iterative Imputer"
      ]
    },
    {
      "cell_type": "code",
      "execution_count": 158,
      "metadata": {
        "colab": {
          "base_uri": "https://localhost:8080/"
        },
        "id": "ZzxBKAZ43ht9",
        "outputId": "e5222dac-e73b-4264-ce4d-0c971e33a990"
      },
      "outputs": [
        {
          "output_type": "stream",
          "name": "stdout",
          "text": [
            "Missing: 442\n",
            "Missing: 0\n"
          ]
        }
      ],
      "source": [
        "# iterative imputation transform\n",
        "from numpy import isnan\n",
        "from pandas import read_csv\n",
        "from sklearn.experimental import enable_iterative_imputer\n",
        "from sklearn.impute import IterativeImputer\n",
        "\n",
        "data = df_twoclasses.values\n",
        "ix = [i for i in range(data.shape[1]) if i != 0]\n",
        "X, y = data[:, ix], data[:, 0]\n",
        "# print total missing\n",
        "print('Missing: %d' % sum(isnan(X).flatten()))\n",
        "# define imputer\n",
        "imputer = IterativeImputer(max_iter = 50, skip_complete = True)\n",
        "# fit on the dataset\n",
        "imputer.fit(X)\n",
        "# transform the dataset\n",
        "Xtrans = imputer.transform(X)\n",
        "# print total missing\n",
        "print('Missing: %d' % sum(isnan(Xtrans).flatten()))"
      ]
    },
    {
      "cell_type": "code",
      "execution_count": 159,
      "metadata": {
        "id": "15hgEUbi3ht9"
      },
      "outputs": [],
      "source": [
        "from sklearn.ensemble import RandomForestClassifier\n",
        "from sklearn.pipeline import Pipeline\n",
        "# define modeling pipeline\n",
        "model = RandomForestClassifier()\n",
        "imputer = IterativeImputer()\n",
        "pipeline = Pipeline(steps=[('i', imputer), ('m', model)])"
      ]
    },
    {
      "cell_type": "code",
      "execution_count": 160,
      "metadata": {
        "id": "YCCqeq_i3ht-",
        "colab": {
          "base_uri": "https://localhost:8080/"
        },
        "outputId": "a806be34-41ef-4c3b-c6af-005b22995497"
      },
      "outputs": [
        {
          "output_type": "stream",
          "name": "stdout",
          "text": [
            "Mean Accuracy: 0.557 (0.040)\n"
          ]
        }
      ],
      "source": [
        "from numpy import mean\n",
        "from numpy import std\n",
        "from sklearn.model_selection import cross_val_score\n",
        "from sklearn.model_selection import RepeatedStratifiedKFold\n",
        "# define model evaluation\n",
        "cv = RepeatedStratifiedKFold(n_splits=10, n_repeats=3, random_state=1)\n",
        "# evaluate model\n",
        "scores = cross_val_score(pipeline, X, y, scoring='accuracy', cv=cv, n_jobs=-1, error_score='raise')\n",
        "print('Mean Accuracy: %.3f (%.3f)' % (mean(scores), std(scores)))"
      ]
    },
    {
      "cell_type": "code",
      "execution_count": 161,
      "metadata": {
        "id": "UZ-V4x153ht-"
      },
      "outputs": [],
      "source": [
        "feature_cols = ['Fever', 'Duration_of_pain', 'Sick_leave',\n",
        "       'Earlier_hospitalization', 'Familiy_history', 'Depression',\n",
        "       'Extremely_nervous', 'Stress', 'Irrational_thoughts_risk_lasting',\n",
        "       'Coping_strategy', 'Kinesiophobia_physical_exercise',\n",
        "       'Kinesiophobia_pain_stop', 'Uses_analgesics',\n",
        "       'Uses_corticosteroids', 'Serious_disease', 'Neurogenic_signals',\n",
        "       'Continuous_pain', 'Decreased_mobility', 'Nocturnal_pain',\n",
        "       'Weightloss_per_year', 'Loss_muscle_strength', 'Failure_symptoms',\n",
        "       'neck_pain_intensity', 'low_back_pain_intensity',\n",
        "       'arm_left_pain_intensity', 'arm_right_pain_intensity',\n",
        "       'leg_left_pain_intensity', 'leg_right_pain_intensity', 'Paidwork',\n",
        "       'age_ohe']\n",
        "X = df_twoclasses[feature_cols] # Features\n",
        "y = df_twoclasses.Treatment # Target variable"
      ]
    },
    {
      "cell_type": "code",
      "execution_count": 162,
      "metadata": {
        "id": "KBRYC4j63ht-"
      },
      "outputs": [],
      "source": [
        "X = pd.DataFrame(Xtrans, columns = feature_cols)"
      ]
    },
    {
      "cell_type": "markdown",
      "metadata": {
        "id": "O_O4qQdc3ht-"
      },
      "source": [
        "###Standard Scaling Data"
      ]
    },
    {
      "cell_type": "code",
      "execution_count": 163,
      "metadata": {
        "id": "tW30Veds3ht-"
      },
      "outputs": [],
      "source": [
        "from sklearn.preprocessing import StandardScaler\n",
        "x = X.loc[:, feature_cols].values\n",
        "#y = df_new.loc[:,['Treatment']].values\n",
        "x = StandardScaler().fit_transform(x)\n",
        "X = pd.DataFrame(x, columns = feature_cols)"
      ]
    },
    {
      "cell_type": "markdown",
      "metadata": {
        "id": "tVZbWHK73ht-"
      },
      "source": [
        "### Over and Undersampling"
      ]
    },
    {
      "cell_type": "code",
      "execution_count": 164,
      "metadata": {
        "id": "yL-AEBal3ht_"
      },
      "outputs": [],
      "source": [
        "# Generate and plot a synthetic imbalanced classification dataset\n",
        "from collections import Counter\n",
        "from sklearn.datasets import make_classification\n",
        "from matplotlib import pyplot\n",
        "from numpy import where\n",
        "from imblearn.over_sampling import SMOTE"
      ]
    },
    {
      "cell_type": "code",
      "execution_count": 165,
      "metadata": {
        "colab": {
          "base_uri": "https://localhost:8080/"
        },
        "id": "D7XwGzvg3ht_",
        "outputId": "4eabd86d-b7dd-4ba5-b6b8-08a380548378"
      },
      "outputs": [
        {
          "output_type": "stream",
          "name": "stdout",
          "text": [
            "Counter({1: 659, 5: 649})\n"
          ]
        }
      ],
      "source": [
        "# summarize class distribution\n",
        "counter = Counter(y)\n",
        "print(counter)"
      ]
    },
    {
      "cell_type": "code",
      "execution_count": 166,
      "metadata": {
        "id": "VOjIfY9e3ht_"
      },
      "outputs": [],
      "source": [
        "from imblearn.under_sampling import RandomUnderSampler\n",
        "from imblearn.pipeline import Pipeline"
      ]
    },
    {
      "cell_type": "code",
      "execution_count": 167,
      "metadata": {
        "id": "DfEVfTaW3ht_"
      },
      "outputs": [],
      "source": [
        "over = SMOTE()\n",
        "under = RandomUnderSampler()"
      ]
    },
    {
      "cell_type": "code",
      "execution_count": 168,
      "metadata": {
        "id": "OGAuMUQJ3ht_"
      },
      "outputs": [],
      "source": [
        "steps = [('o', over), ('u', under)]\n",
        "pipeline = Pipeline(steps=steps)"
      ]
    },
    {
      "cell_type": "code",
      "execution_count": 169,
      "metadata": {
        "id": "jE9PyKk13huA"
      },
      "outputs": [],
      "source": [
        "# transform the dataset\n",
        "X, y = pipeline.fit_resample(X, y)"
      ]
    },
    {
      "cell_type": "code",
      "execution_count": 170,
      "metadata": {
        "id": "77bFeNYL3huA",
        "colab": {
          "base_uri": "https://localhost:8080/"
        },
        "outputId": "42abad03-6ef2-46da-a681-b13c0a87f036"
      },
      "outputs": [
        {
          "output_type": "stream",
          "name": "stdout",
          "text": [
            "Counter({1: 659, 5: 659})\n"
          ]
        }
      ],
      "source": [
        "# summarize the new class distribution\n",
        "counter = Counter(y)\n",
        "print(counter)"
      ]
    },
    {
      "cell_type": "markdown",
      "metadata": {
        "id": "L56AKKOF91M5"
      },
      "source": [
        "###Split data"
      ]
    },
    {
      "cell_type": "code",
      "execution_count": 171,
      "metadata": {
        "id": "Itu258l095Mr"
      },
      "outputs": [],
      "source": [
        "# split data into train and test sets\n",
        "from sklearn.model_selection import train_test_split\n",
        "seed = 7\n",
        "test_size = 0.33\n",
        "X_train, X_test, y_train, y_test = train_test_split(X, y, test_size=test_size, random_state=seed)"
      ]
    },
    {
      "cell_type": "markdown",
      "metadata": {
        "id": "-r1jDq_UvDKy"
      },
      "source": [
        "##Random forest"
      ]
    },
    {
      "cell_type": "code",
      "execution_count": 172,
      "metadata": {
        "colab": {
          "base_uri": "https://localhost:8080/"
        },
        "id": "5-xlba_nvDKy",
        "outputId": "2925180e-c25a-4fac-e2cf-460456d29857"
      },
      "outputs": [
        {
          "output_type": "stream",
          "name": "stdout",
          "text": [
            "Mean Absolute Error: 1.85 degrees.\n"
          ]
        }
      ],
      "source": [
        "# Random  forest\n",
        "from sklearn.ensemble import RandomForestClassifier\n",
        "# Instantiate model with 1000 decision trees\n",
        "rf_model = RandomForestClassifier(n_estimators = 1000, random_state = 42)\n",
        "# Train the model on training data\n",
        "rd_model = rf_model.fit(X_train, y_train)\n",
        "\n",
        "# make predictions for test data\n",
        "y_pred = rf_model.predict(X_test)\n",
        "predictions = [round(value) for value in y_pred]\n",
        "# Calculate the absolute errors\n",
        "errors = abs(predictions - y_test)\n",
        "# Print out the mean absolute error (mae)\n",
        "print('Mean Absolute Error:', round(np.mean(errors), 2), 'degrees.')"
      ]
    },
    {
      "cell_type": "code",
      "execution_count": 173,
      "metadata": {
        "colab": {
          "base_uri": "https://localhost:8080/"
        },
        "id": "9IeL9p1-vDKz",
        "outputId": "1bd30f85-e535-4bc0-c356-c144db280a22"
      },
      "outputs": [
        {
          "output_type": "stream",
          "name": "stdout",
          "text": [
            "Accuracy: 53.79%\n"
          ]
        }
      ],
      "source": [
        "# evaluate predictions\n",
        "from sklearn.metrics import accuracy_score\n",
        "accuracy = accuracy_score(y_test, predictions)\n",
        "print(\"Accuracy: %.2f%%\" % (accuracy * 100.0))"
      ]
    },
    {
      "cell_type": "code",
      "execution_count": 174,
      "metadata": {
        "colab": {
          "base_uri": "https://localhost:8080/"
        },
        "id": "LWG3xgo4vDKz",
        "outputId": "5054008a-4de2-44ae-f84c-43f28da04366"
      },
      "outputs": [
        {
          "output_type": "execute_result",
          "data": {
            "text/plain": [
              "array([[127,  97],\n",
              "       [104, 107]])"
            ]
          },
          "metadata": {},
          "execution_count": 174
        }
      ],
      "source": [
        "#make confusion matrix\n",
        "from sklearn import metrics\n",
        "cnf_matrix = metrics.confusion_matrix(y_test, predictions)\n",
        "cnf_matrix"
      ]
    },
    {
      "cell_type": "code",
      "execution_count": 175,
      "metadata": {
        "colab": {
          "base_uri": "https://localhost:8080/"
        },
        "id": "kFFf8Q2nvDK0",
        "outputId": "040546df-649c-43cc-b1f0-33c50386c9d2"
      },
      "outputs": [
        {
          "output_type": "stream",
          "name": "stdout",
          "text": [
            "              precision    recall  f1-score   support\n",
            "\n",
            "           1       0.55      0.57      0.56       224\n",
            "           5       0.52      0.51      0.52       211\n",
            "\n",
            "    accuracy                           0.54       435\n",
            "   macro avg       0.54      0.54      0.54       435\n",
            "weighted avg       0.54      0.54      0.54       435\n",
            "\n"
          ]
        }
      ],
      "source": [
        "#classification report\n",
        "from sklearn.metrics import classification_report\n",
        "print(classification_report(y_test, predictions))"
      ]
    },
    {
      "cell_type": "markdown",
      "metadata": {
        "id": "ATKaCBY4TmEB"
      },
      "source": [
        "##XG Boost model"
      ]
    },
    {
      "cell_type": "code",
      "execution_count": 176,
      "metadata": {
        "id": "Diru9B7CTuwh"
      },
      "outputs": [],
      "source": [
        "from sklearn.model_selection import train_test_split\n",
        "from xgboost import XGBClassifier\n",
        "from sklearn.metrics import accuracy_score"
      ]
    },
    {
      "cell_type": "code",
      "execution_count": 177,
      "metadata": {
        "id": "K0tUx6IITuwh",
        "colab": {
          "base_uri": "https://localhost:8080/"
        },
        "outputId": "20a39ddc-5254-43a0-d308-8bb9b254cc92"
      },
      "outputs": [
        {
          "output_type": "execute_result",
          "data": {
            "text/plain": [
              "XGBClassifier()"
            ]
          },
          "metadata": {},
          "execution_count": 177
        }
      ],
      "source": [
        "# fit model no training data\n",
        "model = XGBClassifier()\n",
        "model.fit(X_train, y_train)"
      ]
    },
    {
      "cell_type": "code",
      "execution_count": 178,
      "metadata": {
        "id": "vsXzZxEPTuwh"
      },
      "outputs": [],
      "source": [
        "# make predictions for test data\n",
        "y_pred = model.predict(X_test)\n",
        "predictions = [round(value) for value in y_pred]"
      ]
    },
    {
      "cell_type": "code",
      "execution_count": 179,
      "metadata": {
        "id": "BZFCqyxLTuwh",
        "colab": {
          "base_uri": "https://localhost:8080/"
        },
        "outputId": "29628f87-55a8-4240-dbd5-62f6650c4d28"
      },
      "outputs": [
        {
          "output_type": "stream",
          "name": "stdout",
          "text": [
            "Accuracy: 55.40%\n"
          ]
        }
      ],
      "source": [
        "# evaluate predictions\n",
        "accuracy = accuracy_score(y_test, predictions)\n",
        "print(\"Accuracy: %.2f%%\" % (accuracy * 100.0))"
      ]
    },
    {
      "cell_type": "code",
      "execution_count": 181,
      "metadata": {
        "id": "bo-y4xBzTuwi",
        "colab": {
          "base_uri": "https://localhost:8080/"
        },
        "outputId": "b8e81cdf-84cd-4453-854c-a7f496025ffe"
      },
      "outputs": [
        {
          "output_type": "execute_result",
          "data": {
            "text/plain": [
              "array([[126,  98],\n",
              "       [ 96, 115]])"
            ]
          },
          "metadata": {},
          "execution_count": 181
        }
      ],
      "source": [
        "from sklearn import metrics\n",
        "cnf_matrix = metrics.confusion_matrix(y_test, y_pred)\n",
        "cnf_matrix"
      ]
    },
    {
      "cell_type": "code",
      "execution_count": 182,
      "metadata": {
        "id": "JEwya6n_Tuwi",
        "colab": {
          "base_uri": "https://localhost:8080/"
        },
        "outputId": "6e09a076-eccf-4d20-a018-7e8f66b3473f"
      },
      "outputs": [
        {
          "output_type": "stream",
          "name": "stdout",
          "text": [
            "              precision    recall  f1-score   support\n",
            "\n",
            "           1       0.57      0.56      0.57       224\n",
            "           5       0.54      0.55      0.54       211\n",
            "\n",
            "    accuracy                           0.55       435\n",
            "   macro avg       0.55      0.55      0.55       435\n",
            "weighted avg       0.55      0.55      0.55       435\n",
            "\n"
          ]
        }
      ],
      "source": [
        "from sklearn.metrics import classification_report\n",
        "print(classification_report(y_test, y_pred))"
      ]
    },
    {
      "cell_type": "markdown",
      "metadata": {
        "id": "zVN0x6GVTuwi"
      },
      "source": [
        "###K-Fold Cross Validation"
      ]
    },
    {
      "cell_type": "code",
      "execution_count": 183,
      "metadata": {
        "id": "FyTGiFOtTuwi",
        "colab": {
          "base_uri": "https://localhost:8080/"
        },
        "outputId": "e78e464d-94b8-4f08-b25c-d237ccc6ac5e"
      },
      "outputs": [
        {
          "output_type": "stream",
          "name": "stdout",
          "text": [
            "Accuracy: 0.555 (0.031)\n"
          ]
        }
      ],
      "source": [
        "from numpy import mean\n",
        "from numpy import std\n",
        "from sklearn.datasets import make_classification\n",
        "from sklearn.model_selection import KFold\n",
        "from sklearn.model_selection import cross_val_score\n",
        "\n",
        "# prepare the cross-validation procedure\n",
        "cv = KFold(n_splits=10, random_state=1, shuffle=True)\n",
        "\n",
        "# evaluate model\n",
        "scores = cross_val_score(model, X, y, scoring='accuracy', cv=cv, n_jobs=-1)\n",
        "# report performance\n",
        "print('Accuracy: %.3f (%.3f)' % (mean(scores), std(scores)))"
      ]
    },
    {
      "cell_type": "markdown",
      "metadata": {
        "id": "dYAbcx4fWLY6"
      },
      "source": [
        "#Multi-class classification using 4 classes and combining 1 and 5"
      ]
    },
    {
      "cell_type": "markdown",
      "metadata": {
        "id": "eXLqKp10WLY7"
      },
      "source": [
        "##Pre-processing of data\n"
      ]
    },
    {
      "cell_type": "markdown",
      "metadata": {
        "id": "UmMljKMNWLY7"
      },
      "source": [
        "### Read data"
      ]
    },
    {
      "cell_type": "code",
      "execution_count": 184,
      "metadata": {
        "id": "XDO0uGJxWLY7"
      },
      "outputs": [],
      "source": [
        "df = pd.read_excel(io.BytesIO(uploaded.get(\"Dataset - LBP RA.xlsx\")),  sheet_name = \"Training Dataset\")\n",
        "var = pd.read_excel(io.BytesIO(uploaded.get(\"Dataset - LBP RA.xlsx\")),  sheet_name = \"Variables\")"
      ]
    },
    {
      "cell_type": "markdown",
      "metadata": {
        "id": "YU_VxCrvWLY7"
      },
      "source": [
        "### Dropping columns with more than 15% missing values"
      ]
    },
    {
      "cell_type": "code",
      "execution_count": 185,
      "metadata": {
        "colab": {
          "base_uri": "https://localhost:8080/"
        },
        "id": "aqCo0L7eWLY8",
        "outputId": "c0d13b27-a9b0-48c1-a313-336c352638da"
      },
      "outputs": [
        {
          "output_type": "execute_result",
          "data": {
            "text/plain": [
              "Workoverload                         29.689521\n",
              "working_ability                      32.600259\n",
              "Trauma                               56.015524\n",
              "Relationship_with_colleagues         63.324709\n",
              "Incoordination                       85.122898\n",
              "Irrational_thoughts_work             88.163001\n",
              "Loss_muscle_strength                 94.695990\n",
              "Irrational_thoughts_risk_lasting     95.407503\n",
              "Coping_strategy                      95.472186\n",
              "Kinesiophobia_pain_stop              95.601552\n",
              "Extremely_nervous                    96.636481\n",
              "Kinesiophobia_physical_exercise      96.701164\n",
              "Weightloss_per_year                  97.606727\n",
              "Fever                                97.800776\n",
              "Duration_of_pain                     97.994825\n",
              "Uses_corticosteroids                 99.159120\n",
              "Serious_disease                      99.223803\n",
              "arm_left_pain_intensity             100.000000\n",
              "arm_right_pain_intensity            100.000000\n",
              "leg_left_pain_intensity             100.000000\n",
              "neck_pain_intensity                 100.000000\n",
              "leg_right_pain_intensity            100.000000\n",
              "Failure_symptoms                    100.000000\n",
              "low_back_pain_intensity             100.000000\n",
              "Treatment                           100.000000\n",
              "Decreased_mobility                  100.000000\n",
              "Continuous_pain                     100.000000\n",
              "Neurogenic_signals                  100.000000\n",
              "Uses_analgesics                     100.000000\n",
              "Age                                 100.000000\n",
              "Stress                              100.000000\n",
              "Depression                          100.000000\n",
              "Familiy_history                     100.000000\n",
              "Earlier_hospitalization             100.000000\n",
              "Sick_leave                          100.000000\n",
              "Nocturnal_pain                      100.000000\n",
              "Paidwork                            100.000000\n",
              "dtype: float64"
            ]
          },
          "metadata": {},
          "execution_count": 185
        }
      ],
      "source": [
        "#Data Completeness percentage\n",
        "(df.count()/1546*100).sort_values()"
      ]
    },
    {
      "cell_type": "code",
      "execution_count": 186,
      "metadata": {
        "colab": {
          "base_uri": "https://localhost:8080/"
        },
        "id": "rvOvzrxAWLY8",
        "outputId": "d378b8aa-c4ac-4083-d02e-3e6ce7183a28"
      },
      "outputs": [
        {
          "output_type": "stream",
          "name": "stderr",
          "text": [
            "/usr/local/lib/python3.7/dist-packages/ipykernel_launcher.py:1: FutureWarning: In a future version of pandas all arguments of DataFrame.drop except for the argument 'labels' will be keyword-only\n",
            "  \"\"\"Entry point for launching an IPython kernel.\n",
            "/usr/local/lib/python3.7/dist-packages/ipykernel_launcher.py:2: FutureWarning: In a future version of pandas all arguments of DataFrame.drop except for the argument 'labels' will be keyword-only\n",
            "  \n",
            "/usr/local/lib/python3.7/dist-packages/ipykernel_launcher.py:3: FutureWarning: In a future version of pandas all arguments of DataFrame.drop except for the argument 'labels' will be keyword-only\n",
            "  This is separate from the ipykernel package so we can avoid doing imports until\n",
            "/usr/local/lib/python3.7/dist-packages/ipykernel_launcher.py:4: FutureWarning: In a future version of pandas all arguments of DataFrame.drop except for the argument 'labels' will be keyword-only\n",
            "  after removing the cwd from sys.path.\n",
            "/usr/local/lib/python3.7/dist-packages/ipykernel_launcher.py:5: FutureWarning: In a future version of pandas all arguments of DataFrame.drop except for the argument 'labels' will be keyword-only\n",
            "  \"\"\"\n",
            "/usr/local/lib/python3.7/dist-packages/ipykernel_launcher.py:6: FutureWarning: In a future version of pandas all arguments of DataFrame.drop except for the argument 'labels' will be keyword-only\n",
            "  \n"
          ]
        }
      ],
      "source": [
        "df_new = df.drop(\"Irrational_thoughts_work\",1)\n",
        "df_new = df_new.drop(\"Incoordination\",1)\n",
        "df_new = df_new.drop(\"Relationship_with_colleagues\",1)\n",
        "df_new = df_new.drop(\"Trauma\",1)\n",
        "df_new = df_new.drop(\"working_ability\",1)\n",
        "df_new = df_new.drop(\"Workoverload\",1)"
      ]
    },
    {
      "cell_type": "markdown",
      "metadata": {
        "id": "APLF67LEWLY8"
      },
      "source": [
        "###Combine classes 1 and 5 into 1 outpout class\n"
      ]
    },
    {
      "cell_type": "code",
      "execution_count": 187,
      "metadata": {
        "id": "DZgEnNqyWLY8"
      },
      "outputs": [],
      "source": [
        "#df_fourclasses = df_new[(df_new.Treatment != 2) & (df_new.Treatment != 3) & (df_new.Treatment != 4)]\n",
        "df_fourclasses = df_new\n",
        "df_fourclasses.loc[(df_fourclasses.Treatment == 1),'Treatment']=6\n",
        "df_fourclasses.loc[(df_fourclasses.Treatment == 5),'Treatment']=6"
      ]
    },
    {
      "cell_type": "code",
      "execution_count": 188,
      "metadata": {
        "colab": {
          "base_uri": "https://localhost:8080/"
        },
        "id": "-VvTw5Q-ZJgq",
        "outputId": "6fc75410-a490-4c4b-87ca-110fa17bfe78"
      },
      "outputs": [
        {
          "output_type": "execute_result",
          "data": {
            "text/plain": [
              "array([6, 3, 4, 2])"
            ]
          },
          "metadata": {},
          "execution_count": 188
        }
      ],
      "source": [
        "df_fourclasses.Treatment.unique()"
      ]
    },
    {
      "cell_type": "markdown",
      "metadata": {
        "id": "-iNeBh_sWLY8"
      },
      "source": [
        "### Impute Missing Values"
      ]
    },
    {
      "cell_type": "markdown",
      "metadata": {
        "id": "Pp3lsNL5WLY8"
      },
      "source": [
        "#####One-hot Encoding Age column"
      ]
    },
    {
      "cell_type": "code",
      "execution_count": 189,
      "metadata": {
        "id": "KUrEmUmxWLY8"
      },
      "outputs": [],
      "source": [
        "#One-hot encode age\n",
        "#One hot encoding\n",
        "from numpy import array\n",
        "from numpy import argmax\n",
        "from sklearn.preprocessing import LabelEncoder\n",
        "from sklearn.preprocessing import OneHotEncoder"
      ]
    },
    {
      "cell_type": "code",
      "execution_count": 190,
      "metadata": {
        "id": "7dpgw_1_WLY8"
      },
      "outputs": [],
      "source": [
        "#Age encoding\n",
        "df_fourclasses['age_ohe'] = array(df_fourclasses['Age'])\n",
        "#integer encode\n",
        "label_encoder = LabelEncoder()\n",
        "age_encoded = label_encoder.fit_transform(df_fourclasses['age_ohe'])\n",
        "df_fourclasses['age_ohe'] = array(age_encoded)"
      ]
    },
    {
      "cell_type": "code",
      "execution_count": 191,
      "metadata": {
        "colab": {
          "base_uri": "https://localhost:8080/"
        },
        "id": "ivIkXo89WLY8",
        "outputId": "50c0b8b9-adc8-4d07-95ec-bc67d75b1173"
      },
      "outputs": [
        {
          "output_type": "stream",
          "name": "stderr",
          "text": [
            "/usr/local/lib/python3.7/dist-packages/ipykernel_launcher.py:2: FutureWarning: In a future version of pandas all arguments of DataFrame.drop except for the argument 'labels' will be keyword-only\n",
            "  \n"
          ]
        }
      ],
      "source": [
        "#Dropping original Age column\n",
        "df_fourclasses = df_fourclasses.drop(\"Age\",1)"
      ]
    },
    {
      "cell_type": "markdown",
      "metadata": {
        "id": "RtGpPx3jWLY8"
      },
      "source": [
        "#### Iterative Imputer"
      ]
    },
    {
      "cell_type": "code",
      "execution_count": 192,
      "metadata": {
        "colab": {
          "base_uri": "https://localhost:8080/"
        },
        "id": "dEn7wj4AWLY8",
        "outputId": "dc0d07ca-3f40-4185-ea99-8f0d4d184751"
      },
      "outputs": [
        {
          "output_type": "stream",
          "name": "stdout",
          "text": [
            "Missing: 521\n",
            "Missing: 0\n"
          ]
        }
      ],
      "source": [
        "# iterative imputation transform\n",
        "from numpy import isnan\n",
        "from pandas import read_csv\n",
        "from sklearn.experimental import enable_iterative_imputer\n",
        "from sklearn.impute import IterativeImputer\n",
        "\n",
        "data = df_fourclasses.values\n",
        "ix = [i for i in range(data.shape[1]) if i != 0]\n",
        "X, y = data[:, ix], data[:, 0]\n",
        "# print total missing\n",
        "print('Missing: %d' % sum(isnan(X).flatten()))\n",
        "# define imputer\n",
        "imputer = IterativeImputer(max_iter = 50, skip_complete = True)\n",
        "# fit on the dataset\n",
        "imputer.fit(X)\n",
        "# transform the dataset\n",
        "Xtrans = imputer.transform(X)\n",
        "# print total missing\n",
        "print('Missing: %d' % sum(isnan(Xtrans).flatten()))"
      ]
    },
    {
      "cell_type": "code",
      "execution_count": 194,
      "metadata": {
        "id": "9JQoJKF8WLY9"
      },
      "outputs": [],
      "source": [
        "from sklearn.ensemble import RandomForestClassifier\n",
        "from sklearn.pipeline import Pipeline\n",
        "# define modeling pipeline\n",
        "model = RandomForestClassifier()\n",
        "imputer = IterativeImputer()\n",
        "pipeline = Pipeline(steps=[('i', imputer), ('m', model)])"
      ]
    },
    {
      "cell_type": "code",
      "execution_count": 195,
      "metadata": {
        "colab": {
          "base_uri": "https://localhost:8080/"
        },
        "id": "SumgNBw_WLY9",
        "outputId": "f4f79e81-7a25-44a2-f074-5876935121f8"
      },
      "outputs": [
        {
          "output_type": "stream",
          "name": "stdout",
          "text": [
            "Mean Accuracy: 0.847 (0.003)\n"
          ]
        }
      ],
      "source": [
        "from numpy import mean\n",
        "from numpy import std\n",
        "from sklearn.model_selection import cross_val_score\n",
        "from sklearn.model_selection import RepeatedStratifiedKFold\n",
        "# define model evaluation\n",
        "cv = RepeatedStratifiedKFold(n_splits=10, n_repeats=3, random_state=1)\n",
        "# evaluate model\n",
        "scores = cross_val_score(pipeline, X, y, scoring='accuracy', cv=cv, n_jobs=-1, error_score='raise')\n",
        "print('Mean Accuracy: %.3f (%.3f)' % (mean(scores), std(scores)))"
      ]
    },
    {
      "cell_type": "code",
      "execution_count": 196,
      "metadata": {
        "id": "QxruIaBBWLY9"
      },
      "outputs": [],
      "source": [
        "feature_cols = ['Fever', 'Duration_of_pain', 'Sick_leave',\n",
        "       'Earlier_hospitalization', 'Familiy_history', 'Depression',\n",
        "       'Extremely_nervous', 'Stress', 'Irrational_thoughts_risk_lasting',\n",
        "       'Coping_strategy', 'Kinesiophobia_physical_exercise',\n",
        "       'Kinesiophobia_pain_stop', 'Uses_analgesics',\n",
        "       'Uses_corticosteroids', 'Serious_disease', 'Neurogenic_signals',\n",
        "       'Continuous_pain', 'Decreased_mobility', 'Nocturnal_pain',\n",
        "       'Weightloss_per_year', 'Loss_muscle_strength', 'Failure_symptoms',\n",
        "       'neck_pain_intensity', 'low_back_pain_intensity',\n",
        "       'arm_left_pain_intensity', 'arm_right_pain_intensity',\n",
        "       'leg_left_pain_intensity', 'leg_right_pain_intensity', 'Paidwork',\n",
        "       'age_ohe']\n",
        "X = df_fourclasses[feature_cols] # Features\n",
        "y = df_fourclasses.Treatment # Target variable"
      ]
    },
    {
      "cell_type": "code",
      "execution_count": 197,
      "metadata": {
        "id": "byuMB7nEWLY9"
      },
      "outputs": [],
      "source": [
        "X = pd.DataFrame(Xtrans, columns = feature_cols)"
      ]
    },
    {
      "cell_type": "markdown",
      "metadata": {
        "id": "uPIB7fqVWLY9"
      },
      "source": [
        "###Standard Scaling Data"
      ]
    },
    {
      "cell_type": "code",
      "execution_count": 198,
      "metadata": {
        "id": "Z7JDaCAQWLY9"
      },
      "outputs": [],
      "source": [
        "from sklearn.preprocessing import StandardScaler\n",
        "x = X.loc[:, feature_cols].values\n",
        "#y = df_new.loc[:,['Treatment']].values\n",
        "x = StandardScaler().fit_transform(x)\n",
        "X = pd.DataFrame(x, columns = feature_cols)"
      ]
    },
    {
      "cell_type": "markdown",
      "metadata": {
        "id": "mewKTxHwWLY9"
      },
      "source": [
        "### Over and Undersampling"
      ]
    },
    {
      "cell_type": "code",
      "execution_count": 199,
      "metadata": {
        "id": "epPlLqWcWLY9"
      },
      "outputs": [],
      "source": [
        "# Generate and plot a synthetic imbalanced classification dataset\n",
        "from collections import Counter\n",
        "from sklearn.datasets import make_classification\n",
        "from matplotlib import pyplot\n",
        "from numpy import where\n",
        "from imblearn.over_sampling import SMOTE"
      ]
    },
    {
      "cell_type": "code",
      "execution_count": 200,
      "metadata": {
        "colab": {
          "base_uri": "https://localhost:8080/"
        },
        "id": "kgB0cSAGWLY9",
        "outputId": "a09cec46-8a64-4210-9a0e-0d010942d8b8"
      },
      "outputs": [
        {
          "output_type": "stream",
          "name": "stdout",
          "text": [
            "Counter({6: 1308, 2: 160, 3: 65, 4: 13})\n"
          ]
        }
      ],
      "source": [
        "# summarize class distribution\n",
        "counter = Counter(y)\n",
        "print(counter)"
      ]
    },
    {
      "cell_type": "code",
      "execution_count": 202,
      "metadata": {
        "id": "f48iu0JEWLY9"
      },
      "outputs": [],
      "source": [
        "from imblearn.under_sampling import RandomUnderSampler\n",
        "from imblearn.pipeline import Pipeline"
      ]
    },
    {
      "cell_type": "code",
      "execution_count": 203,
      "metadata": {
        "id": "59F-JMG_WLY9"
      },
      "outputs": [],
      "source": [
        "over = SMOTE()\n",
        "under = RandomUnderSampler()"
      ]
    },
    {
      "cell_type": "code",
      "execution_count": 204,
      "metadata": {
        "id": "88_paxjcWLY9"
      },
      "outputs": [],
      "source": [
        "steps = [('o', over), ('u', under)]\n",
        "pipeline = Pipeline(steps=steps)"
      ]
    },
    {
      "cell_type": "code",
      "execution_count": 205,
      "metadata": {
        "id": "WoSTBIXKWLY9"
      },
      "outputs": [],
      "source": [
        "# transform the dataset\n",
        "X, y = pipeline.fit_resample(X, y)"
      ]
    },
    {
      "cell_type": "code",
      "execution_count": 206,
      "metadata": {
        "colab": {
          "base_uri": "https://localhost:8080/"
        },
        "id": "h0o798NwWLY9",
        "outputId": "69faf776-a4a2-4310-f919-0d2d3fcba7fd"
      },
      "outputs": [
        {
          "output_type": "stream",
          "name": "stdout",
          "text": [
            "Counter({2: 1308, 3: 1308, 4: 1308, 6: 1308})\n"
          ]
        }
      ],
      "source": [
        "# summarize the new class distribution\n",
        "counter = Counter(y)\n",
        "print(counter)"
      ]
    },
    {
      "cell_type": "markdown",
      "metadata": {
        "id": "C8CDIdN9WLY9"
      },
      "source": [
        "###Split data"
      ]
    },
    {
      "cell_type": "code",
      "execution_count": 207,
      "metadata": {
        "id": "o6wmhU3sWLY-"
      },
      "outputs": [],
      "source": [
        "# split data into train and test sets\n",
        "from sklearn.model_selection import train_test_split\n",
        "seed = 7\n",
        "test_size = 0.33\n",
        "X_train, X_test, y_train, y_test = train_test_split(X, y, test_size=test_size, random_state=seed)"
      ]
    },
    {
      "cell_type": "markdown",
      "metadata": {
        "id": "Tfof39DzhSJu"
      },
      "source": [
        "##Random forest"
      ]
    },
    {
      "cell_type": "code",
      "execution_count": 208,
      "metadata": {
        "colab": {
          "base_uri": "https://localhost:8080/"
        },
        "id": "K0eFr7QphSJx",
        "outputId": "734a88c6-a1f3-42d0-d830-e7a5fd3c8d8c"
      },
      "outputs": [
        {
          "output_type": "stream",
          "name": "stdout",
          "text": [
            "Mean Absolute Error: 0.08 degrees.\n"
          ]
        }
      ],
      "source": [
        "# Random  forest\n",
        "from sklearn.ensemble import RandomForestClassifier\n",
        "# Instantiate model with 1000 decision trees\n",
        "rf_model = RandomForestClassifier(n_estimators = 1000, random_state = 42)\n",
        "# Train the model on training data\n",
        "rd_model = rf_model.fit(X_train, y_train)\n",
        "\n",
        "# make predictions for test data\n",
        "y_pred = rf_model.predict(X_test)\n",
        "predictions = [round(value) for value in y_pred]\n",
        "# Calculate the absolute errors\n",
        "errors = abs(predictions - y_test)\n",
        "# Print out the mean absolute error (mae)\n",
        "print('Mean Absolute Error:', round(np.mean(errors), 2), 'degrees.')"
      ]
    },
    {
      "cell_type": "code",
      "execution_count": 209,
      "metadata": {
        "colab": {
          "base_uri": "https://localhost:8080/"
        },
        "id": "-uPudAy3hSJx",
        "outputId": "7d2e4a02-8147-4b7b-90b3-485859f3b8b8"
      },
      "outputs": [
        {
          "output_type": "stream",
          "name": "stdout",
          "text": [
            "Accuracy: 97.80%\n"
          ]
        }
      ],
      "source": [
        "# evaluate predictions\n",
        "from sklearn.metrics import accuracy_score\n",
        "accuracy = accuracy_score(y_test, predictions)\n",
        "print(\"Accuracy: %.2f%%\" % (accuracy * 100.0))"
      ]
    },
    {
      "cell_type": "code",
      "execution_count": 210,
      "metadata": {
        "colab": {
          "base_uri": "https://localhost:8080/"
        },
        "id": "p2Hy6IsbhSJx",
        "outputId": "ab4e80c3-7120-470a-ad0b-e53fd660ed64"
      },
      "outputs": [
        {
          "output_type": "execute_result",
          "data": {
            "text/plain": [
              "array([[422,   1,   0,  22],\n",
              "       [  2, 411,   0,   4],\n",
              "       [  0,   0, 446,   1],\n",
              "       [  7,   1,   0, 410]])"
            ]
          },
          "metadata": {},
          "execution_count": 210
        }
      ],
      "source": [
        "#make confusion matrix\n",
        "from sklearn import metrics\n",
        "cnf_matrix = metrics.confusion_matrix(y_test, predictions)\n",
        "cnf_matrix"
      ]
    },
    {
      "cell_type": "code",
      "execution_count": 211,
      "metadata": {
        "colab": {
          "base_uri": "https://localhost:8080/"
        },
        "id": "yChvD3CJhSJx",
        "outputId": "21f5545c-ffd6-4233-d5b4-d27e8e0341c9"
      },
      "outputs": [
        {
          "output_type": "stream",
          "name": "stdout",
          "text": [
            "              precision    recall  f1-score   support\n",
            "\n",
            "           2       0.98      0.95      0.96       445\n",
            "           3       1.00      0.99      0.99       417\n",
            "           4       1.00      1.00      1.00       447\n",
            "           6       0.94      0.98      0.96       418\n",
            "\n",
            "    accuracy                           0.98      1727\n",
            "   macro avg       0.98      0.98      0.98      1727\n",
            "weighted avg       0.98      0.98      0.98      1727\n",
            "\n"
          ]
        }
      ],
      "source": [
        "#classification report\n",
        "from sklearn.metrics import classification_report\n",
        "print(classification_report(y_test, predictions))"
      ]
    },
    {
      "cell_type": "markdown",
      "metadata": {
        "id": "_el3cdsWWLY-"
      },
      "source": [
        "##XG Boost model"
      ]
    },
    {
      "cell_type": "code",
      "execution_count": 212,
      "metadata": {
        "id": "fA6ue5KRWLY-"
      },
      "outputs": [],
      "source": [
        "from sklearn.model_selection import train_test_split\n",
        "from xgboost import XGBClassifier\n",
        "from sklearn.metrics import accuracy_score"
      ]
    },
    {
      "cell_type": "code",
      "execution_count": 213,
      "metadata": {
        "colab": {
          "base_uri": "https://localhost:8080/"
        },
        "id": "mNZrqK3nWLY_",
        "outputId": "89e7fdef-194f-4172-d7f0-022ab1599636"
      },
      "outputs": [
        {
          "output_type": "execute_result",
          "data": {
            "text/plain": [
              "XGBClassifier(objective='multi:softprob')"
            ]
          },
          "metadata": {},
          "execution_count": 213
        }
      ],
      "source": [
        "# fit model no training data\n",
        "model = XGBClassifier()\n",
        "model.fit(X_train, y_train)"
      ]
    },
    {
      "cell_type": "code",
      "execution_count": 214,
      "metadata": {
        "id": "xg4lgjkWWLY_"
      },
      "outputs": [],
      "source": [
        "# make predictions for test data\n",
        "y_pred = model.predict(X_test)\n",
        "predictions = [round(value) for value in y_pred]"
      ]
    },
    {
      "cell_type": "code",
      "execution_count": 215,
      "metadata": {
        "colab": {
          "base_uri": "https://localhost:8080/"
        },
        "id": "Ch_dxya5WLY_",
        "outputId": "7c6c48ea-6e74-4efc-c9ca-7297a9dfe178"
      },
      "outputs": [
        {
          "output_type": "stream",
          "name": "stdout",
          "text": [
            "Accuracy: 91.26%\n"
          ]
        }
      ],
      "source": [
        "# evaluate predictions\n",
        "accuracy = accuracy_score(y_test, predictions)\n",
        "print(\"Accuracy: %.2f%%\" % (accuracy * 100.0))"
      ]
    },
    {
      "cell_type": "code",
      "execution_count": 217,
      "metadata": {
        "colab": {
          "base_uri": "https://localhost:8080/"
        },
        "id": "e2-D-4HLWLY_",
        "outputId": "1cca2b9e-5a1f-4b9f-de6d-9a8acadc810c"
      },
      "outputs": [
        {
          "output_type": "execute_result",
          "data": {
            "text/plain": [
              "array([[364,  17,  10,  54],\n",
              "       [  9, 387,  10,  11],\n",
              "       [  2,   0, 444,   1],\n",
              "       [ 27,   6,   4, 381]])"
            ]
          },
          "metadata": {},
          "execution_count": 217
        }
      ],
      "source": [
        "from sklearn import metrics\n",
        "cnf_matrix = metrics.confusion_matrix(y_test, y_pred)\n",
        "cnf_matrix"
      ]
    },
    {
      "cell_type": "code",
      "execution_count": 218,
      "metadata": {
        "colab": {
          "base_uri": "https://localhost:8080/"
        },
        "id": "rYFCVoyVWLY_",
        "outputId": "a74372f7-cdfe-4d40-9280-ff633a159b04"
      },
      "outputs": [
        {
          "output_type": "stream",
          "name": "stdout",
          "text": [
            "              precision    recall  f1-score   support\n",
            "\n",
            "           2       0.91      0.82      0.86       445\n",
            "           3       0.94      0.93      0.94       417\n",
            "           4       0.95      0.99      0.97       447\n",
            "           6       0.85      0.91      0.88       418\n",
            "\n",
            "    accuracy                           0.91      1727\n",
            "   macro avg       0.91      0.91      0.91      1727\n",
            "weighted avg       0.91      0.91      0.91      1727\n",
            "\n"
          ]
        }
      ],
      "source": [
        "from sklearn.metrics import classification_report\n",
        "print(classification_report(y_test, y_pred))"
      ]
    },
    {
      "cell_type": "markdown",
      "metadata": {
        "id": "_RCaVnjjWLY_"
      },
      "source": [
        "###K-Fold Cross Validation"
      ]
    },
    {
      "cell_type": "code",
      "execution_count": 219,
      "metadata": {
        "colab": {
          "base_uri": "https://localhost:8080/"
        },
        "id": "sw4o50hpWLY_",
        "outputId": "256376b2-ad4f-4a36-aef3-55b0464cef86"
      },
      "outputs": [
        {
          "output_type": "stream",
          "name": "stdout",
          "text": [
            "Accuracy: 0.907 (0.014)\n"
          ]
        }
      ],
      "source": [
        "from numpy import mean\n",
        "from numpy import std\n",
        "from sklearn.datasets import make_classification\n",
        "from sklearn.model_selection import KFold\n",
        "from sklearn.model_selection import cross_val_score\n",
        "\n",
        "# prepare the cross-validation procedure\n",
        "cv = KFold(n_splits=10, random_state=1, shuffle=True)\n",
        "\n",
        "# evaluate model\n",
        "scores = cross_val_score(model, X, y, scoring='accuracy', cv=cv, n_jobs=-1)\n",
        "# report performance\n",
        "print('Accuracy: %.3f (%.3f)' % (mean(scores), std(scores)))"
      ]
    },
    {
      "cell_type": "markdown",
      "metadata": {
        "id": "uJL3AU5Iaw1c"
      },
      "source": [
        "#Multi-class classification using 4 classes and combining 1 and 5 without oversampling"
      ]
    },
    {
      "cell_type": "markdown",
      "metadata": {
        "id": "SYlypCJWaw1c"
      },
      "source": [
        "##Pre-processing of data\n"
      ]
    },
    {
      "cell_type": "markdown",
      "metadata": {
        "id": "K158G4G3aw1c"
      },
      "source": [
        "### Read data"
      ]
    },
    {
      "cell_type": "code",
      "execution_count": 220,
      "metadata": {
        "id": "voRt7V6zaw1c"
      },
      "outputs": [],
      "source": [
        "df = pd.read_excel(io.BytesIO(uploaded.get(\"Dataset - LBP RA.xlsx\")),  sheet_name = \"Training Dataset\")\n",
        "var = pd.read_excel(io.BytesIO(uploaded.get(\"Dataset - LBP RA.xlsx\")),  sheet_name = \"Variables\")"
      ]
    },
    {
      "cell_type": "markdown",
      "metadata": {
        "id": "QDvUIAeHaw1c"
      },
      "source": [
        "### Dropping columns with more than 15% missing values"
      ]
    },
    {
      "cell_type": "code",
      "execution_count": 221,
      "metadata": {
        "colab": {
          "base_uri": "https://localhost:8080/"
        },
        "id": "CN21kXWNaw1c",
        "outputId": "b57b7666-78ba-4061-e508-8caf6dbc0c2f"
      },
      "outputs": [
        {
          "output_type": "execute_result",
          "data": {
            "text/plain": [
              "Workoverload                         29.689521\n",
              "working_ability                      32.600259\n",
              "Trauma                               56.015524\n",
              "Relationship_with_colleagues         63.324709\n",
              "Incoordination                       85.122898\n",
              "Irrational_thoughts_work             88.163001\n",
              "Loss_muscle_strength                 94.695990\n",
              "Irrational_thoughts_risk_lasting     95.407503\n",
              "Coping_strategy                      95.472186\n",
              "Kinesiophobia_pain_stop              95.601552\n",
              "Extremely_nervous                    96.636481\n",
              "Kinesiophobia_physical_exercise      96.701164\n",
              "Weightloss_per_year                  97.606727\n",
              "Fever                                97.800776\n",
              "Duration_of_pain                     97.994825\n",
              "Uses_corticosteroids                 99.159120\n",
              "Serious_disease                      99.223803\n",
              "arm_left_pain_intensity             100.000000\n",
              "arm_right_pain_intensity            100.000000\n",
              "leg_left_pain_intensity             100.000000\n",
              "neck_pain_intensity                 100.000000\n",
              "leg_right_pain_intensity            100.000000\n",
              "Failure_symptoms                    100.000000\n",
              "low_back_pain_intensity             100.000000\n",
              "Treatment                           100.000000\n",
              "Decreased_mobility                  100.000000\n",
              "Continuous_pain                     100.000000\n",
              "Neurogenic_signals                  100.000000\n",
              "Uses_analgesics                     100.000000\n",
              "Age                                 100.000000\n",
              "Stress                              100.000000\n",
              "Depression                          100.000000\n",
              "Familiy_history                     100.000000\n",
              "Earlier_hospitalization             100.000000\n",
              "Sick_leave                          100.000000\n",
              "Nocturnal_pain                      100.000000\n",
              "Paidwork                            100.000000\n",
              "dtype: float64"
            ]
          },
          "metadata": {},
          "execution_count": 221
        }
      ],
      "source": [
        "#Data Completeness percentage\n",
        "(df.count()/1546*100).sort_values()"
      ]
    },
    {
      "cell_type": "code",
      "execution_count": 222,
      "metadata": {
        "colab": {
          "base_uri": "https://localhost:8080/"
        },
        "id": "g4KzAtQBaw1d",
        "outputId": "1d4920a5-f76b-40b6-ac9f-f4bc65b23d5e"
      },
      "outputs": [
        {
          "output_type": "stream",
          "name": "stderr",
          "text": [
            "/usr/local/lib/python3.7/dist-packages/ipykernel_launcher.py:1: FutureWarning: In a future version of pandas all arguments of DataFrame.drop except for the argument 'labels' will be keyword-only\n",
            "  \"\"\"Entry point for launching an IPython kernel.\n",
            "/usr/local/lib/python3.7/dist-packages/ipykernel_launcher.py:2: FutureWarning: In a future version of pandas all arguments of DataFrame.drop except for the argument 'labels' will be keyword-only\n",
            "  \n",
            "/usr/local/lib/python3.7/dist-packages/ipykernel_launcher.py:3: FutureWarning: In a future version of pandas all arguments of DataFrame.drop except for the argument 'labels' will be keyword-only\n",
            "  This is separate from the ipykernel package so we can avoid doing imports until\n",
            "/usr/local/lib/python3.7/dist-packages/ipykernel_launcher.py:4: FutureWarning: In a future version of pandas all arguments of DataFrame.drop except for the argument 'labels' will be keyword-only\n",
            "  after removing the cwd from sys.path.\n",
            "/usr/local/lib/python3.7/dist-packages/ipykernel_launcher.py:5: FutureWarning: In a future version of pandas all arguments of DataFrame.drop except for the argument 'labels' will be keyword-only\n",
            "  \"\"\"\n",
            "/usr/local/lib/python3.7/dist-packages/ipykernel_launcher.py:6: FutureWarning: In a future version of pandas all arguments of DataFrame.drop except for the argument 'labels' will be keyword-only\n",
            "  \n"
          ]
        }
      ],
      "source": [
        "df_new = df.drop(\"Irrational_thoughts_work\",1)\n",
        "df_new = df_new.drop(\"Incoordination\",1)\n",
        "df_new = df_new.drop(\"Relationship_with_colleagues\",1)\n",
        "df_new = df_new.drop(\"Trauma\",1)\n",
        "df_new = df_new.drop(\"working_ability\",1)\n",
        "df_new = df_new.drop(\"Workoverload\",1)"
      ]
    },
    {
      "cell_type": "markdown",
      "metadata": {
        "id": "cA3ZI1vJaw1d"
      },
      "source": [
        "###Combine classes 1 and 5 into 1 outpout class\n"
      ]
    },
    {
      "cell_type": "code",
      "execution_count": 223,
      "metadata": {
        "id": "c1a5E8edaw1d"
      },
      "outputs": [],
      "source": [
        "#df_fourclasses = df_new[(df_new.Treatment != 2) & (df_new.Treatment != 3) & (df_new.Treatment != 4)]\n",
        "df_fourclasses = df_new\n",
        "df_fourclasses.loc[(df_fourclasses.Treatment == 1),'Treatment']=6\n",
        "df_fourclasses.loc[(df_fourclasses.Treatment == 5),'Treatment']=6"
      ]
    },
    {
      "cell_type": "code",
      "execution_count": 224,
      "metadata": {
        "colab": {
          "base_uri": "https://localhost:8080/"
        },
        "id": "XGLUWagzaw1d",
        "outputId": "e0826594-0431-40b3-a77d-a137a9bfa470"
      },
      "outputs": [
        {
          "output_type": "execute_result",
          "data": {
            "text/plain": [
              "array([6, 3, 4, 2])"
            ]
          },
          "metadata": {},
          "execution_count": 224
        }
      ],
      "source": [
        "df_fourclasses.Treatment.unique()"
      ]
    },
    {
      "cell_type": "markdown",
      "metadata": {
        "id": "h46TNKIEaw1d"
      },
      "source": [
        "### Impute Missing Values"
      ]
    },
    {
      "cell_type": "markdown",
      "metadata": {
        "id": "ZyTbDJ0xaw1d"
      },
      "source": [
        "#####One-hot Encoding Age column"
      ]
    },
    {
      "cell_type": "code",
      "execution_count": 226,
      "metadata": {
        "id": "9otlnQJPaw1d"
      },
      "outputs": [],
      "source": [
        "#One-hot encode age\n",
        "#One hot encoding\n",
        "from numpy import array\n",
        "from numpy import argmax\n",
        "from sklearn.preprocessing import LabelEncoder\n",
        "from sklearn.preprocessing import OneHotEncoder"
      ]
    },
    {
      "cell_type": "code",
      "execution_count": 227,
      "metadata": {
        "id": "ifQN291daw1d"
      },
      "outputs": [],
      "source": [
        "#Age encoding\n",
        "df_fourclasses['age_ohe'] = array(df_fourclasses['Age'])\n",
        "#integer encode\n",
        "label_encoder = LabelEncoder()\n",
        "age_encoded = label_encoder.fit_transform(df_fourclasses['age_ohe'])\n",
        "df_fourclasses['age_ohe'] = array(age_encoded)"
      ]
    },
    {
      "cell_type": "code",
      "execution_count": 228,
      "metadata": {
        "colab": {
          "base_uri": "https://localhost:8080/"
        },
        "id": "8bXMIiFnaw1d",
        "outputId": "2ca11ef7-5b22-4bdc-f15e-afaa9cbbcf32"
      },
      "outputs": [
        {
          "output_type": "stream",
          "name": "stderr",
          "text": [
            "/usr/local/lib/python3.7/dist-packages/ipykernel_launcher.py:2: FutureWarning: In a future version of pandas all arguments of DataFrame.drop except for the argument 'labels' will be keyword-only\n",
            "  \n"
          ]
        }
      ],
      "source": [
        "#Dropping original Age column\n",
        "df_fourclasses = df_fourclasses.drop(\"Age\",1)"
      ]
    },
    {
      "cell_type": "markdown",
      "metadata": {
        "id": "HTCNRnfuaw1d"
      },
      "source": [
        "#### Iterative Imputer"
      ]
    },
    {
      "cell_type": "code",
      "execution_count": 229,
      "metadata": {
        "colab": {
          "base_uri": "https://localhost:8080/"
        },
        "id": "2O59Ido8aw1d",
        "outputId": "e2634de1-a58f-4527-f2d1-2d4637946b69"
      },
      "outputs": [
        {
          "output_type": "stream",
          "name": "stdout",
          "text": [
            "Missing: 521\n",
            "Missing: 0\n"
          ]
        }
      ],
      "source": [
        "# iterative imputation transform\n",
        "from numpy import isnan\n",
        "from pandas import read_csv\n",
        "from sklearn.experimental import enable_iterative_imputer\n",
        "from sklearn.impute import IterativeImputer\n",
        "\n",
        "data = df_fourclasses.values\n",
        "ix = [i for i in range(data.shape[1]) if i != 0]\n",
        "X, y = data[:, ix], data[:, 0]\n",
        "# print total missing\n",
        "print('Missing: %d' % sum(isnan(X).flatten()))\n",
        "# define imputer\n",
        "imputer = IterativeImputer(max_iter = 50, skip_complete = True)\n",
        "# fit on the dataset\n",
        "imputer.fit(X)\n",
        "# transform the dataset\n",
        "Xtrans = imputer.transform(X)\n",
        "# print total missing\n",
        "print('Missing: %d' % sum(isnan(Xtrans).flatten()))"
      ]
    },
    {
      "cell_type": "code",
      "execution_count": 230,
      "metadata": {
        "id": "uNR8MRdEaw1d"
      },
      "outputs": [],
      "source": [
        "from sklearn.ensemble import RandomForestClassifier\n",
        "from sklearn.pipeline import Pipeline\n",
        "# define modeling pipeline\n",
        "model = RandomForestClassifier()\n",
        "imputer = IterativeImputer()\n",
        "pipeline = Pipeline(steps=[('i', imputer), ('m', model)])"
      ]
    },
    {
      "cell_type": "code",
      "execution_count": 231,
      "metadata": {
        "colab": {
          "base_uri": "https://localhost:8080/"
        },
        "id": "LV6ek4x5aw1d",
        "outputId": "dcba80ce-3c7e-4510-9e9a-384bea41e373"
      },
      "outputs": [
        {
          "output_type": "stream",
          "name": "stdout",
          "text": [
            "Mean Accuracy: 0.847 (0.003)\n"
          ]
        }
      ],
      "source": [
        "from numpy import mean\n",
        "from numpy import std\n",
        "from sklearn.model_selection import cross_val_score\n",
        "from sklearn.model_selection import RepeatedStratifiedKFold\n",
        "# define model evaluation\n",
        "cv = RepeatedStratifiedKFold(n_splits=10, n_repeats=3, random_state=1)\n",
        "# evaluate model\n",
        "scores = cross_val_score(pipeline, X, y, scoring='accuracy', cv=cv, n_jobs=-1, error_score='raise')\n",
        "print('Mean Accuracy: %.3f (%.3f)' % (mean(scores), std(scores)))"
      ]
    },
    {
      "cell_type": "code",
      "execution_count": 232,
      "metadata": {
        "id": "CbD2teJ-aw1e"
      },
      "outputs": [],
      "source": [
        "feature_cols = ['Fever', 'Duration_of_pain', 'Sick_leave',\n",
        "       'Earlier_hospitalization', 'Familiy_history', 'Depression',\n",
        "       'Extremely_nervous', 'Stress', 'Irrational_thoughts_risk_lasting',\n",
        "       'Coping_strategy', 'Kinesiophobia_physical_exercise',\n",
        "       'Kinesiophobia_pain_stop', 'Uses_analgesics',\n",
        "       'Uses_corticosteroids', 'Serious_disease', 'Neurogenic_signals',\n",
        "       'Continuous_pain', 'Decreased_mobility', 'Nocturnal_pain',\n",
        "       'Weightloss_per_year', 'Loss_muscle_strength', 'Failure_symptoms',\n",
        "       'neck_pain_intensity', 'low_back_pain_intensity',\n",
        "       'arm_left_pain_intensity', 'arm_right_pain_intensity',\n",
        "       'leg_left_pain_intensity', 'leg_right_pain_intensity', 'Paidwork',\n",
        "       'age_ohe']\n",
        "X = df_fourclasses[feature_cols] # Features\n",
        "y = df_fourclasses.Treatment # Target variable"
      ]
    },
    {
      "cell_type": "code",
      "execution_count": 233,
      "metadata": {
        "id": "Y7PtnpAxaw1e"
      },
      "outputs": [],
      "source": [
        "X = pd.DataFrame(Xtrans, columns = feature_cols)"
      ]
    },
    {
      "cell_type": "markdown",
      "metadata": {
        "id": "P-VnW3ifaw1e"
      },
      "source": [
        "###Standard Scaling Data"
      ]
    },
    {
      "cell_type": "code",
      "execution_count": 234,
      "metadata": {
        "id": "X4zTDP8caw1e"
      },
      "outputs": [],
      "source": [
        "from sklearn.preprocessing import StandardScaler\n",
        "x = X.loc[:, feature_cols].values\n",
        "#y = df_new.loc[:,['Treatment']].values\n",
        "x = StandardScaler().fit_transform(x)\n",
        "X = pd.DataFrame(x, columns = feature_cols)"
      ]
    },
    {
      "cell_type": "markdown",
      "metadata": {
        "id": "qKPOxKGBaw1e"
      },
      "source": [
        "###Split data"
      ]
    },
    {
      "cell_type": "code",
      "execution_count": 235,
      "metadata": {
        "id": "Vjgyo12Gaw1f"
      },
      "outputs": [],
      "source": [
        "# split data into train and test sets\n",
        "from sklearn.model_selection import train_test_split\n",
        "seed = 7\n",
        "test_size = 0.33\n",
        "X_train, X_test, y_train, y_test = train_test_split(X, y, test_size=test_size, random_state=seed)"
      ]
    },
    {
      "cell_type": "markdown",
      "metadata": {
        "id": "ogMazXbjaw1f"
      },
      "source": [
        "##XG Boost model"
      ]
    },
    {
      "cell_type": "code",
      "execution_count": 236,
      "metadata": {
        "id": "uxPgV_bIaw1f"
      },
      "outputs": [],
      "source": [
        "from sklearn.model_selection import train_test_split\n",
        "from xgboost import XGBClassifier\n",
        "from sklearn.metrics import accuracy_score"
      ]
    },
    {
      "cell_type": "code",
      "execution_count": 237,
      "metadata": {
        "colab": {
          "base_uri": "https://localhost:8080/"
        },
        "id": "zqaSK3vYaw1f",
        "outputId": "b303145b-35c0-42ce-8e90-15d3c60c23af"
      },
      "outputs": [
        {
          "output_type": "execute_result",
          "data": {
            "text/plain": [
              "XGBClassifier(objective='multi:softprob')"
            ]
          },
          "metadata": {},
          "execution_count": 237
        }
      ],
      "source": [
        "# fit model no training data\n",
        "model = XGBClassifier()\n",
        "model.fit(X_train, y_train)"
      ]
    },
    {
      "cell_type": "code",
      "execution_count": 238,
      "metadata": {
        "id": "_SwVfV2Waw1f"
      },
      "outputs": [],
      "source": [
        "# make predictions for test data\n",
        "y_pred = model.predict(X_test)\n",
        "predictions = [round(value) for value in y_pred]"
      ]
    },
    {
      "cell_type": "code",
      "execution_count": 239,
      "metadata": {
        "colab": {
          "base_uri": "https://localhost:8080/"
        },
        "id": "ZHPJdeZ_aw1f",
        "outputId": "5915233f-de11-4f6a-8ae8-351455efea0e"
      },
      "outputs": [
        {
          "output_type": "stream",
          "name": "stdout",
          "text": [
            "Accuracy: 82.58%\n"
          ]
        }
      ],
      "source": [
        "# evaluate predictions\n",
        "accuracy = accuracy_score(y_test, predictions)\n",
        "print(\"Accuracy: %.2f%%\" % (accuracy * 100.0))"
      ]
    },
    {
      "cell_type": "code",
      "execution_count": 240,
      "metadata": {
        "colab": {
          "base_uri": "https://localhost:8080/"
        },
        "id": "DjLI-6Vjaw1g",
        "outputId": "04b933c3-24c7-4154-8fc7-128585d37096"
      },
      "outputs": [
        {
          "output_type": "execute_result",
          "data": {
            "text/plain": [
              "array([[  0,   0,   0,  59],\n",
              "       [  0,   0,   0,  22],\n",
              "       [  0,   0,   0,   6],\n",
              "       [  2,   0,   0, 422]])"
            ]
          },
          "metadata": {},
          "execution_count": 240
        }
      ],
      "source": [
        "from sklearn import metrics\n",
        "cnf_matrix = metrics.confusion_matrix(y_test, y_pred)\n",
        "cnf_matrix"
      ]
    },
    {
      "cell_type": "code",
      "execution_count": 241,
      "metadata": {
        "colab": {
          "base_uri": "https://localhost:8080/"
        },
        "id": "F1XFl5AQaw1g",
        "outputId": "ca48a5dc-f28f-49c0-f36b-b8e4117d7ffa"
      },
      "outputs": [
        {
          "output_type": "stream",
          "name": "stdout",
          "text": [
            "              precision    recall  f1-score   support\n",
            "\n",
            "           2       0.00      0.00      0.00        59\n",
            "           3       0.00      0.00      0.00        22\n",
            "           4       0.00      0.00      0.00         6\n",
            "           6       0.83      1.00      0.90       424\n",
            "\n",
            "    accuracy                           0.83       511\n",
            "   macro avg       0.21      0.25      0.23       511\n",
            "weighted avg       0.69      0.83      0.75       511\n",
            "\n"
          ]
        },
        {
          "output_type": "stream",
          "name": "stderr",
          "text": [
            "/usr/local/lib/python3.7/dist-packages/sklearn/metrics/_classification.py:1318: UndefinedMetricWarning: Precision and F-score are ill-defined and being set to 0.0 in labels with no predicted samples. Use `zero_division` parameter to control this behavior.\n",
            "  _warn_prf(average, modifier, msg_start, len(result))\n",
            "/usr/local/lib/python3.7/dist-packages/sklearn/metrics/_classification.py:1318: UndefinedMetricWarning: Precision and F-score are ill-defined and being set to 0.0 in labels with no predicted samples. Use `zero_division` parameter to control this behavior.\n",
            "  _warn_prf(average, modifier, msg_start, len(result))\n",
            "/usr/local/lib/python3.7/dist-packages/sklearn/metrics/_classification.py:1318: UndefinedMetricWarning: Precision and F-score are ill-defined and being set to 0.0 in labels with no predicted samples. Use `zero_division` parameter to control this behavior.\n",
            "  _warn_prf(average, modifier, msg_start, len(result))\n"
          ]
        }
      ],
      "source": [
        "from sklearn.metrics import classification_report\n",
        "print(classification_report(y_test, y_pred))"
      ]
    },
    {
      "cell_type": "markdown",
      "metadata": {
        "id": "AF4PkfSyaw1g"
      },
      "source": [
        "###K-Fold Cross Validation"
      ]
    },
    {
      "cell_type": "code",
      "execution_count": 242,
      "metadata": {
        "colab": {
          "base_uri": "https://localhost:8080/"
        },
        "id": "lJj5Rixnaw1g",
        "outputId": "3d4d3a0c-19fe-42c2-d72a-c0ce046683c4"
      },
      "outputs": [
        {
          "output_type": "stream",
          "name": "stdout",
          "text": [
            "Accuracy: 0.845 (0.031)\n"
          ]
        }
      ],
      "source": [
        "from numpy import mean\n",
        "from numpy import std\n",
        "from sklearn.datasets import make_classification\n",
        "from sklearn.model_selection import KFold\n",
        "from sklearn.model_selection import cross_val_score\n",
        "\n",
        "# prepare the cross-validation procedure\n",
        "cv = KFold(n_splits=10, random_state=1, shuffle=True)\n",
        "\n",
        "# evaluate model\n",
        "scores = cross_val_score(model, X, y, scoring='accuracy', cv=cv, n_jobs=-1)\n",
        "# report performance\n",
        "print('Accuracy: %.3f (%.3f)' % (mean(scores), std(scores)))"
      ]
    }
  ],
  "metadata": {
    "colab": {
      "collapsed_sections": [
        "JotpQ0xpRhyc",
        "Cr2e3_HARqai",
        "oDXg5Lwejc4s",
        "oQ_2ENeNRzlH",
        "aXtETT26hlwY",
        "EtY1En-Ya7_q",
        "hXFKX7l7bCLR",
        "dvsp9T4lbKEH",
        "m2VOWN5GbM-C",
        "eUij1Mr1bVQQ",
        "4lepQGogSHYB",
        "q0elhH6PkkMl",
        "4LzA5GvpWsBH",
        "YM6uZMmMnlx7",
        "UyCy1oJ8rIrL",
        "XO-0bP0ExZjC",
        "rTHsIh4IrPtF",
        "ODc8U5YA1z2b",
        "0UhVjw_g2HO3",
        "-cRgX47Y3ht7",
        "-r1iAQxL3ht7",
        "6ofiy7ci33F_",
        "n5KZsbbF3ht8",
        "M59hkLOp3ht8",
        "2CMAuIzA3ht9",
        "O_O4qQdc3ht-",
        "tVZbWHK73ht-",
        "L56AKKOF91M5",
        "h-gdO2Ab2Rkp",
        "ATKaCBY4TmEB",
        "dt7un5cdVx0d",
        "dYAbcx4fWLY6",
        "eXLqKp10WLY7",
        "UmMljKMNWLY7",
        "YU_VxCrvWLY7",
        "APLF67LEWLY8",
        "-iNeBh_sWLY8",
        "Pp3lsNL5WLY8",
        "RtGpPx3jWLY8",
        "uPIB7fqVWLY9",
        "mewKTxHwWLY9",
        "C8CDIdN9WLY9",
        "IWlTaFzbWLY-",
        "_el3cdsWWLY-",
        "gfm2otNrWLY_",
        "uJL3AU5Iaw1c",
        "K158G4G3aw1c",
        "ogMazXbjaw1f",
        "GhuvdaMcaw1g"
      ],
      "name": "DS_RA_Final.ipynb",
      "provenance": [],
      "toc_visible": true,
      "include_colab_link": true
    },
    "kernelspec": {
      "display_name": "Python 3",
      "name": "python3"
    },
    "language_info": {
      "name": "python"
    }
  },
  "nbformat": 4,
  "nbformat_minor": 0
}